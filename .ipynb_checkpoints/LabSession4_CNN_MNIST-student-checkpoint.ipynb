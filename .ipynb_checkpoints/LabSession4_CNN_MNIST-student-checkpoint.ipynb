{
 "metadata": {
  "kernelspec": {
   "display_name": "Python 2",
   "language": "python",
   "name": "python2"
  },
  "language_info": {
   "codemirror_mode": {
    "name": "ipython",
    "version": 2
   },
   "file_extension": ".py",
   "mimetype": "text/x-python",
   "name": "python",
   "nbconvert_exporter": "python",
   "pygments_lexer": "ipython2",
   "version": "2.7.14"
  },
  "name": "",
  "signature": "sha256:f3abbab17dda983882493a1b9052c2d39be65c508f565ce5a70f24797093b5e0"
 },
 "nbformat": 3,
 "nbformat_minor": 0,
 "worksheets": [
  {
   "cells": [
    {
     "cell_type": "markdown",
     "metadata": {},
     "source": [
      "# ELU 502 Deep learning -- Lab session 4\n",
      "Pierre-Henri Conze, Fran\u00e7ois Rousseau - session : 1h20"
     ]
    },
    {
     "cell_type": "heading",
     "level": 2,
     "metadata": {},
     "source": [
      "Objective of this lab session: perform classification on MNIST dataset using convolutional neural networks"
     ]
    },
    {
     "cell_type": "markdown",
     "metadata": {},
     "source": [
      "In lab session 3, MNIST classification has been performed relying on multi-layer perceptron (MLP). The obtained accuracy was 92% with a simple softmax regressor and 98% with MLP which can be further improved! Let us jump from this simple model to something moderately more sophisticated, namely convolutional neural networks.\n",
      "\n",
      "For recall, MNIST is a computer vision dataset which consists of handwritten digit images with associated label. Each image in MNIST has a corresponding label, a number between 0 and 9 representing the digit drawn in the image."
     ]
    },
    {
     "cell_type": "heading",
     "level": 3,
     "metadata": {},
     "source": [
      "Part 1 - Data management and visualization"
     ]
    },
    {
     "cell_type": "markdown",
     "metadata": {},
     "source": [
      "First, let us download and read the MNIST data."
     ]
    },
    {
     "cell_type": "code",
     "collapsed": false,
     "input": [
      "%matplotlib inline\n",
      "import keras\n",
      "from keras.datasets import mnist\n",
      "(x_train, y_train), (x_test, y_test) = mnist.load_data()"
     ],
     "language": "python",
     "metadata": {},
     "outputs": [],
     "prompt_number": 55
    },
    {
     "cell_type": "code",
     "collapsed": false,
     "input": [
      "print('x_train shape:', x_train.shape, 'x_test shape:', x_test.shape)\n",
      "print(x_train.shape[0], 'train samples')\n",
      "print(x_test.shape[0], 'test samples')\n",
      "print(x_test[0,:,:].shape, 'image size')\n",
      "\n",
      "\n",
      "      "
     ],
     "language": "python",
     "metadata": {},
     "outputs": [
      {
       "output_type": "stream",
       "stream": "stdout",
       "text": [
        "('x_train shape:', (60000, 28, 28), 'x_test shape:', (10000, 28, 28))\n",
        "(60000, 'train samples')\n",
        "(10000, 'test samples')\n",
        "((28, 28), 'image size')\n"
       ]
      }
     ],
     "prompt_number": 56
    },
    {
     "cell_type": "markdown",
     "metadata": {},
     "source": [
      "The MNIST data is split into two parts: 60000 data points of training data, 10000 points of test data. Each image is 28 pixels by 28 pixels. \n",
      "Let us visualize some of the data."
     ]
    },
    {
     "cell_type": "code",
     "collapsed": false,
     "input": [
      "import matplotlib.pyplot as plt\n",
      "import numpy as np\n",
      "plt.figure()\n",
      "for i in range(10):\n",
      "    plt.subplot(2, 5, i + 1)\n",
      "    plt.axis('off')\n",
      "    index = np.where(y_train == i)[0][0]\n",
      "    plt.imshow(x_train[index,:,:],cmap=plt.cm.gray_r)\n",
      "    plt.title('Training: %i' % y_train[index])\n",
      "plt.show()"
     ],
     "language": "python",
     "metadata": {},
     "outputs": [
      {
       "metadata": {},
       "output_type": "display_data",
       "png": "[encoded data removed]",
       "text": [
        "<matplotlib.figure.Figure at 0x7f19f4618110>"
       ]
      }
     ],
     "prompt_number": 57
    },
    {
     "cell_type": "markdown",
     "metadata": {},
     "source": [
      "For further processing using keras functions, MNIST data must stacked in a 4D tensor with shape (samples, rows, cols, channels). In our case, channels=1 since we are working with greyscale images. As in lab session 3, pixel intensities need to rescaled between 0 and 1. Moreovre, labels can be described as one-hot vectors using the to_categorical() keras function."
     ]
    },
    {
     "cell_type": "code",
     "collapsed": false,
     "input": [
      "img_rows, img_cols = 28, 28\n",
      "num_classes = 10\n",
      "# build 4D tensors\n",
      "x_train = x_train.reshape(x_train.shape[0], img_rows, img_cols, 1)\n",
      "x_test = x_test.reshape(x_test.shape[0], img_rows, img_cols, 1)\n",
      "# data normalization\n",
      "x_train = x_train.astype('float32')/255.\n",
      "x_test = x_test.astype('float32')/255.\n",
      "# convert class vectors to binary class matrices\n",
      "z_train = keras.utils.to_categorical(y_train, num_classes)\n",
      "z_test = keras.utils.to_categorical(y_test, num_classes)"
     ],
     "language": "python",
     "metadata": {},
     "outputs": [],
     "prompt_number": 58
    },
    {
     "cell_type": "heading",
     "level": 3,
     "metadata": {},
     "source": [
      "Part 2 - Building a convolutional neural network with keras"
     ]
    },
    {
     "cell_type": "markdown",
     "metadata": {},
     "source": [
      "The sequential Keras model is a linear stack of layers. You can create a sequential model by passing a list of layer instances to the constructor. Among the layer instances, you can use:\n",
      "  - convolutional layer using Conv2D (https://keras.io/layers/convolutional/#conv2d)\n",
      "  - max-pooling layer using MaxPooling2D (https://keras.io/layers/pooling/#maxpooling2d)\n",
      "  - Dropout (https://keras.io/layers/core/#dropout)\n",
      "  - regular densely-connected layer using Dense (https://keras.io/layers/core/#dense)"
     ]
    },
    {
     "cell_type": "code",
     "collapsed": true,
     "input": [
      "from keras.models import Sequential\n",
      "from keras.layers import Dense, Dropout, Flatten\n",
      "from keras.layers import Conv2D, MaxPooling2D\n",
      "from keras import backend as K"
     ],
     "language": "python",
     "metadata": {},
     "outputs": [],
     "prompt_number": 59
    },
    {
     "cell_type": "markdown",
     "metadata": {},
     "source": [
      "Once keras modules have been imported, we can simply add layers using the .add() method."
     ]
    },
    {
     "cell_type": "markdown",
     "metadata": {},
     "source": [
      "In addition, the model needs to know what input shape it should expect. For this reason, the first layer in a Sequential model (and only the first, because following layers can do automatic shape inference) needs to receive information about its input shape:"
     ]
    },
    {
     "cell_type": "code",
     "collapsed": true,
     "input": [
      "input_shape = (img_rows, img_cols, 1)"
     ],
     "language": "python",
     "metadata": {},
     "outputs": [],
     "prompt_number": 60
    },
    {
     "cell_type": "markdown",
     "metadata": {},
     "source": [
      "#### 1) Create a convolutional neural network following the architecture given below:\n",
      " - convolutional layer using 32 3x3 filters with stride 1 and \"ReLU\" activation\n",
      " - convolutional layer using 64 3x3 filters with stride 1 and \"ReLU\" activation\n",
      " - max pooling with vertical, horizontal downscale of 2\n",
      " - flatten layer (https://keras.io/layers/core/#flatten) to flatten the input array\n",
      " - dense layer with 128 units\n",
      " - dense layer with \"num_classes=10\" units"
     ]
    },
    {
     "cell_type": "code",
     "collapsed": true,
     "input": [
      "num_classes=10\n",
      "model = Sequential()\n",
      "\n",
      "model.add(Conv2D(32, kernel_size=(3, 3),activation='relu',input_shape=input_shape))\n",
      "\n",
      "model.add(Conv2D(64, kernel_size=(3, 3), activation='relu'))\n",
      "model.add(MaxPooling2D(pool_size=(2, 2)))\n",
      "model.add(Flatten())\n",
      "\n",
      "model.add(Dense(128, activation='relu'))\n",
      "model.add(Dense(num_classes, activation='softmax'))\n"
     ],
     "language": "python",
     "metadata": {},
     "outputs": [],
     "prompt_number": 61
    },
    {
     "cell_type": "markdown",
     "metadata": {},
     "source": [
      "Before training a model, you need to configure the learning process, which is done through the compile() method. It receives three arguments:\n",
      "\n",
      " - an optimizer: this could be the string identifier of an existing optimizer (such as rmsprop or adagrad), or an instance of the Optimizer class.\n",
      " - A loss function: this is the objective that the model will try to minimize. It can be the string identifier of an existing loss function (such as categorical_crossentropy or mse), or an objective function.\n",
      " - A list of metrics to evaluate results. A metric could be the string identifier of an existing metric or a custom metric function."
     ]
    },
    {
     "cell_type": "heading",
     "level": 4,
     "metadata": {},
     "source": [
      "2) Define the loss, the optimizer and the metrics. Then, compile your model. You can find some help from https://keras.io/models/sequential/#compile. "
     ]
    },
    {
     "cell_type": "code",
     "collapsed": true,
     "input": [
      "model.compile(loss=keras.losses.categorical_crossentropy,\n",
      "              optimizer=keras.optimizers.SGD(),\n",
      "              metrics=['accuracy'])"
     ],
     "language": "python",
     "metadata": {},
     "outputs": [],
     "prompt_number": 62
    },
    {
     "cell_type": "heading",
     "level": 4,
     "metadata": {},
     "source": [
      "3) Describe input/output sizes of each layer. Confirm your analysis by using model.summary()"
     ]
    },
    {
     "cell_type": "code",
     "collapsed": false,
     "input": [
      "model.summary()"
     ],
     "language": "python",
     "metadata": {},
     "outputs": [
      {
       "output_type": "stream",
       "stream": "stdout",
       "text": [
        "_________________________________________________________________\n",
        "Layer (type)                 Output Shape              Param #   \n",
        "=================================================================\n",
        "conv2d_5 (Conv2D)            (None, 26, 26, 32)        320       \n",
        "_________________________________________________________________\n",
        "conv2d_6 (Conv2D)            (None, 24, 24, 64)        18496     \n",
        "_________________________________________________________________\n",
        "max_pooling2d_3 (MaxPooling2 (None, 12, 12, 64)        0         \n",
        "_________________________________________________________________\n",
        "flatten_2 (Flatten)          (None, 9216)              0         \n",
        "_________________________________________________________________\n",
        "dense_3 (Dense)              (None, 128)               1179776   \n",
        "_________________________________________________________________\n",
        "dense_4 (Dense)              (None, 10)                1290      \n",
        "=================================================================\n",
        "Total params: 1,199,882\n",
        "Trainable params: 1,199,882\n",
        "Non-trainable params: 0\n",
        "_________________________________________________________________\n"
       ]
      }
     ],
     "prompt_number": 47
    },
    {
     "cell_type": "heading",
     "level": 4,
     "metadata": {},
     "source": [
      "4) Keras models are trained on Numpy arrays of input data and labels. For training a model, we can use the fit() function (https://keras.io/models/sequential/#fit). Run the training using a batch size of 128 and 12 epochs. Test data will be used as validatation data."
     ]
    },
    {
     "cell_type": "code",
     "collapsed": false,
     "input": [
      "epochs=10\n",
      "batch_size=200\n",
      "\n",
      "history=model.fit(x_train, z_train,\n",
      "          batch_size=batch_size,\n",
      "          epochs=epochs,\n",
      "          verbose=1,\n",
      "          validation_data=(x_test, z_test))"
     ],
     "language": "python",
     "metadata": {},
     "outputs": [
      {
       "output_type": "stream",
       "stream": "stdout",
       "text": [
        "Train on 60000 samples, validate on 10000 samples\n",
        "Epoch 1/10\n",
        "\n"
       ]
      },
      {
       "output_type": "stream",
       "stream": "stdout",
       "text": [
        "  200/60000 [..............................] - ETA: 59s - loss: 2.3045 - acc: 0.0650"
       ]
      },
      {
       "output_type": "stream",
       "stream": "stdout",
       "text": [
        "\n",
        " 1200/60000 [..............................] - ETA: 12s - loss: 2.2948 - acc: 0.1017"
       ]
      },
      {
       "output_type": "stream",
       "stream": "stdout",
       "text": [
        "\n",
        " 2200/60000 [>.............................] - ETA: 8s - loss: 2.2879 - acc: 0.1318 "
       ]
      },
      {
       "output_type": "stream",
       "stream": "stdout",
       "text": [
        "\n",
        " 3200/60000 [>.............................] - ETA: 6s - loss: 2.2808 - acc: 0.1672"
       ]
      },
      {
       "output_type": "stream",
       "stream": "stdout",
       "text": [
        "\n",
        " 4200/60000 [=>............................] - ETA: 5s - loss: 2.2734 - acc: 0.2186"
       ]
      },
      {
       "output_type": "stream",
       "stream": "stdout",
       "text": [
        "\n",
        " 5200/60000 [=>............................] - ETA: 5s - loss: 2.2647 - acc: 0.2831"
       ]
      },
      {
       "output_type": "stream",
       "stream": "stdout",
       "text": [
        "\n",
        " 6200/60000 [==>...........................] - ETA: 4s - loss: 2.2562 - acc: 0.3266"
       ]
      },
      {
       "output_type": "stream",
       "stream": "stdout",
       "text": [
        "\n",
        " 7200/60000 [==>...........................] - ETA: 4s - loss: 2.2455 - acc: 0.3658"
       ]
      },
      {
       "output_type": "stream",
       "stream": "stdout",
       "text": [
        "\n",
        " 8200/60000 [===>..........................] - ETA: 4s - loss: 2.2343 - acc: 0.3974"
       ]
      },
      {
       "output_type": "stream",
       "stream": "stdout",
       "text": [
        "\n",
        " 9200/60000 [===>..........................] - ETA: 3s - loss: 2.2221 - acc: 0.4227"
       ]
      },
      {
       "output_type": "stream",
       "stream": "stdout",
       "text": [
        "\n",
        "10200/60000 [====>.........................] - ETA: 3s - loss: 2.2077 - acc: 0.4479"
       ]
      },
      {
       "output_type": "stream",
       "stream": "stdout",
       "text": [
        "\n",
        "11200/60000 [====>.........................] - ETA: 3s - loss: 2.1907 - acc: 0.4692"
       ]
      },
      {
       "output_type": "stream",
       "stream": "stdout",
       "text": [
        "\n",
        "12200/60000 [=====>........................] - ETA: 3s - loss: 2.1715 - acc: 0.4875"
       ]
      },
      {
       "output_type": "stream",
       "stream": "stdout",
       "text": [
        "\n",
        "13200/60000 [=====>........................] - ETA: 3s - loss: 2.1487 - acc: 0.5027"
       ]
      },
      {
       "output_type": "stream",
       "stream": "stdout",
       "text": [
        "\n",
        "14200/60000 [======>.......................] - ETA: 3s - loss: 2.1212 - acc: 0.5161"
       ]
      },
      {
       "output_type": "stream",
       "stream": "stdout",
       "text": [
        "\n",
        "15200/60000 [======>.......................] - ETA: 3s - loss: 2.0893 - acc: 0.5291"
       ]
      },
      {
       "output_type": "stream",
       "stream": "stdout",
       "text": [
        "\n",
        "16200/60000 [=======>......................] - ETA: 3s - loss: 2.0535 - acc: 0.5416"
       ]
      },
      {
       "output_type": "stream",
       "stream": "stdout",
       "text": [
        "\n",
        "17200/60000 [=======>......................] - ETA: 2s - loss: 2.0129 - acc: 0.5541"
       ]
      },
      {
       "output_type": "stream",
       "stream": "stdout",
       "text": [
        "\n",
        "18200/60000 [========>.....................] - ETA: 2s - loss: 1.9683 - acc: 0.5669"
       ]
      },
      {
       "output_type": "stream",
       "stream": "stdout",
       "text": [
        "\n",
        "19200/60000 [========>.....................] - ETA: 2s - loss: 1.9232 - acc: 0.5780"
       ]
      },
      {
       "output_type": "stream",
       "stream": "stdout",
       "text": [
        "\n",
        "20200/60000 [=========>....................] - ETA: 2s - loss: 1.8770 - acc: 0.5879"
       ]
      },
      {
       "output_type": "stream",
       "stream": "stdout",
       "text": [
        "\n",
        "21200/60000 [=========>....................] - ETA: 2s - loss: 1.8312 - acc: 0.5972"
       ]
      },
      {
       "output_type": "stream",
       "stream": "stdout",
       "text": [
        "\n",
        "22200/60000 [==========>...................] - ETA: 2s - loss: 1.7840 - acc: 0.6077"
       ]
      },
      {
       "output_type": "stream",
       "stream": "stdout",
       "text": [
        "\n",
        "23200/60000 [==========>...................] - ETA: 2s - loss: 1.7383 - acc: 0.6168"
       ]
      },
      {
       "output_type": "stream",
       "stream": "stdout",
       "text": [
        "\n",
        "24200/60000 [===========>..................] - ETA: 2s - loss: 1.6933 - acc: 0.6262"
       ]
      },
      {
       "output_type": "stream",
       "stream": "stdout",
       "text": [
        "\n",
        "25200/60000 [===========>..................] - ETA: 2s - loss: 1.6510 - acc: 0.6351"
       ]
      },
      {
       "output_type": "stream",
       "stream": "stdout",
       "text": [
        "\n",
        "26200/60000 [============>.................] - ETA: 2s - loss: 1.6094 - acc: 0.6429"
       ]
      },
      {
       "output_type": "stream",
       "stream": "stdout",
       "text": [
        "\n",
        "27200/60000 [============>.................] - ETA: 2s - loss: 1.5695 - acc: 0.6511"
       ]
      },
      {
       "output_type": "stream",
       "stream": "stdout",
       "text": [
        "\n",
        "28200/60000 [=============>................] - ETA: 2s - loss: 1.5315 - acc: 0.6590"
       ]
      },
      {
       "output_type": "stream",
       "stream": "stdout",
       "text": [
        "\n",
        "29200/60000 [=============>................] - ETA: 1s - loss: 1.4982 - acc: 0.6654"
       ]
      },
      {
       "output_type": "stream",
       "stream": "stdout",
       "text": [
        "\n",
        "30200/60000 [==============>...............] - ETA: 1s - loss: 1.4652 - acc: 0.6719"
       ]
      },
      {
       "output_type": "stream",
       "stream": "stdout",
       "text": [
        "\n",
        "31200/60000 [==============>...............] - ETA: 1s - loss: 1.4330 - acc: 0.6782"
       ]
      },
      {
       "output_type": "stream",
       "stream": "stdout",
       "text": [
        "\n",
        "32200/60000 [===============>..............] - ETA: 1s - loss: 1.4039 - acc: 0.6837"
       ]
      },
      {
       "output_type": "stream",
       "stream": "stdout",
       "text": [
        "\n",
        "33200/60000 [===============>..............] - ETA: 1s - loss: 1.3760 - acc: 0.6894"
       ]
      },
      {
       "output_type": "stream",
       "stream": "stdout",
       "text": [
        "\n",
        "34200/60000 [================>.............] - ETA: 1s - loss: 1.3497 - acc: 0.6946"
       ]
      },
      {
       "output_type": "stream",
       "stream": "stdout",
       "text": [
        "\n",
        "35200/60000 [================>.............] - ETA: 1s - loss: 1.3245 - acc: 0.6999"
       ]
      },
      {
       "output_type": "stream",
       "stream": "stdout",
       "text": [
        "\n",
        "36200/60000 [=================>............] - ETA: 1s - loss: 1.2989 - acc: 0.7049"
       ]
      },
      {
       "output_type": "stream",
       "stream": "stdout",
       "text": [
        "\n",
        "37200/60000 [=================>............] - ETA: 1s - loss: 1.2749 - acc: 0.7099"
       ]
      },
      {
       "output_type": "stream",
       "stream": "stdout",
       "text": [
        "\n",
        "38200/60000 [==================>...........] - ETA: 1s - loss: 1.2520 - acc: 0.7144"
       ]
      },
      {
       "output_type": "stream",
       "stream": "stdout",
       "text": [
        "\n",
        "39200/60000 [==================>...........] - ETA: 1s - loss: 1.2305 - acc: 0.7188"
       ]
      },
      {
       "output_type": "stream",
       "stream": "stdout",
       "text": [
        "\n",
        "40200/60000 [===================>..........] - ETA: 1s - loss: 1.2094 - acc: 0.7230"
       ]
      },
      {
       "output_type": "stream",
       "stream": "stdout",
       "text": [
        "\n",
        "41200/60000 [===================>..........] - ETA: 1s - loss: 1.1892 - acc: 0.7274"
       ]
      },
      {
       "output_type": "stream",
       "stream": "stdout",
       "text": [
        "\n",
        "42200/60000 [====================>.........] - ETA: 1s - loss: 1.1700 - acc: 0.7315"
       ]
      },
      {
       "output_type": "stream",
       "stream": "stdout",
       "text": [
        "\n",
        "43200/60000 [====================>.........] - ETA: 1s - loss: 1.1516 - acc: 0.7353"
       ]
      },
      {
       "output_type": "stream",
       "stream": "stdout",
       "text": [
        "\n",
        "44200/60000 [=====================>........] - ETA: 0s - loss: 1.1338 - acc: 0.7390"
       ]
      },
      {
       "output_type": "stream",
       "stream": "stdout",
       "text": [
        "\n",
        "45200/60000 [=====================>........] - ETA: 0s - loss: 1.1184 - acc: 0.7419"
       ]
      },
      {
       "output_type": "stream",
       "stream": "stdout",
       "text": [
        "\n",
        "46200/60000 [======================>.......] - ETA: 0s - loss: 1.1027 - acc: 0.7448"
       ]
      },
      {
       "output_type": "stream",
       "stream": "stdout",
       "text": [
        "\n",
        "47000/60000 [======================>.......] - ETA: 0s - loss: 1.0909 - acc: 0.7472"
       ]
      },
      {
       "output_type": "stream",
       "stream": "stdout",
       "text": [
        "\n",
        "48000/60000 [=======================>......] - ETA: 0s - loss: 1.0766 - acc: 0.7503"
       ]
      },
      {
       "output_type": "stream",
       "stream": "stdout",
       "text": [
        "\n",
        "49000/60000 [=======================>......] - ETA: 0s - loss: 1.0625 - acc: 0.7530"
       ]
      },
      {
       "output_type": "stream",
       "stream": "stdout",
       "text": [
        "\n",
        "50000/60000 [========================>.....] - ETA: 0s - loss: 1.0486 - acc: 0.7556"
       ]
      },
      {
       "output_type": "stream",
       "stream": "stdout",
       "text": [
        "\n",
        "51000/60000 [========================>.....] - ETA: 0s - loss: 1.0357 - acc: 0.7580"
       ]
      },
      {
       "output_type": "stream",
       "stream": "stdout",
       "text": [
        "\n",
        "52000/60000 [=========================>....] - ETA: 0s - loss: 1.0226 - acc: 0.7607"
       ]
      },
      {
       "output_type": "stream",
       "stream": "stdout",
       "text": [
        "\n",
        "53000/60000 [=========================>....] - ETA: 0s - loss: 1.0103 - acc: 0.7633"
       ]
      },
      {
       "output_type": "stream",
       "stream": "stdout",
       "text": [
        "\n",
        "54000/60000 [==========================>...] - ETA: 0s - loss: 0.9972 - acc: 0.7661"
       ]
      },
      {
       "output_type": "stream",
       "stream": "stdout",
       "text": [
        "\n",
        "55000/60000 [==========================>...] - ETA: 0s - loss: 0.9857 - acc: 0.7684"
       ]
      },
      {
       "output_type": "stream",
       "stream": "stdout",
       "text": [
        "\n",
        "56000/60000 [===========================>..] - ETA: 0s - loss: 0.9740 - acc: 0.7708"
       ]
      },
      {
       "output_type": "stream",
       "stream": "stdout",
       "text": [
        "\n",
        "57000/60000 [===========================>..] - ETA: 0s - loss: 0.9629 - acc: 0.7729"
       ]
      },
      {
       "output_type": "stream",
       "stream": "stdout",
       "text": [
        "\n",
        "58000/60000 [============================>.] - ETA: 0s - loss: 0.9512 - acc: 0.7755"
       ]
      },
      {
       "output_type": "stream",
       "stream": "stdout",
       "text": [
        "\n",
        "59000/60000 [============================>.] - ETA: 0s - loss: 0.9407 - acc: 0.7776"
       ]
      },
      {
       "output_type": "stream",
       "stream": "stdout",
       "text": [
        "\n",
        "60000/60000 [==============================] - 4s 66us/step - loss: 0.9307 - acc: 0.7795 - val_loss: 0.3314 - val_acc: 0.9020\n"
       ]
      },
      {
       "output_type": "stream",
       "stream": "stdout",
       "text": [
        "Epoch 2/10\n",
        "\n",
        "  200/60000 [..............................] - ETA: 4s - loss: 0.3876 - acc: 0.8750"
       ]
      },
      {
       "output_type": "stream",
       "stream": "stdout",
       "text": [
        "\n",
        " 1200/60000 [..............................] - ETA: 3s - loss: 0.3497 - acc: 0.8925"
       ]
      },
      {
       "output_type": "stream",
       "stream": "stdout",
       "text": [
        "\n",
        " 2200/60000 [>.............................] - ETA: 3s - loss: 0.3410 - acc: 0.9027"
       ]
      },
      {
       "output_type": "stream",
       "stream": "stdout",
       "text": [
        "\n",
        " 3200/60000 [>.............................] - ETA: 3s - loss: 0.3445 - acc: 0.9006"
       ]
      },
      {
       "output_type": "stream",
       "stream": "stdout",
       "text": [
        "\n",
        " 4200/60000 [=>............................] - ETA: 3s - loss: 0.3429 - acc: 0.9005"
       ]
      },
      {
       "output_type": "stream",
       "stream": "stdout",
       "text": [
        "\n",
        " 5200/60000 [=>............................] - ETA: 3s - loss: 0.3367 - acc: 0.9015"
       ]
      },
      {
       "output_type": "stream",
       "stream": "stdout",
       "text": [
        "\n",
        " 6200/60000 [==>...........................] - ETA: 3s - loss: 0.3386 - acc: 0.9010"
       ]
      },
      {
       "output_type": "stream",
       "stream": "stdout",
       "text": [
        "\n",
        " 7200/60000 [==>...........................] - ETA: 3s - loss: 0.3371 - acc: 0.9004"
       ]
      },
      {
       "output_type": "stream",
       "stream": "stdout",
       "text": [
        "\n",
        " 8200/60000 [===>..........................] - ETA: 3s - loss: 0.3330 - acc: 0.9011"
       ]
      },
      {
       "output_type": "stream",
       "stream": "stdout",
       "text": [
        "\n",
        " 9200/60000 [===>..........................] - ETA: 2s - loss: 0.3322 - acc: 0.9017"
       ]
      },
      {
       "output_type": "stream",
       "stream": "stdout",
       "text": [
        "\n",
        "10200/60000 [====>.........................] - ETA: 2s - loss: 0.3341 - acc: 0.9018"
       ]
      },
      {
       "output_type": "stream",
       "stream": "stdout",
       "text": [
        "\n",
        "11200/60000 [====>.........................] - ETA: 2s - loss: 0.3306 - acc: 0.9027"
       ]
      },
      {
       "output_type": "stream",
       "stream": "stdout",
       "text": [
        "\n",
        "12200/60000 [=====>........................] - ETA: 2s - loss: 0.3313 - acc: 0.9021"
       ]
      },
      {
       "output_type": "stream",
       "stream": "stdout",
       "text": [
        "\n",
        "13200/60000 [=====>........................] - ETA: 2s - loss: 0.3277 - acc: 0.9033"
       ]
      },
      {
       "output_type": "stream",
       "stream": "stdout",
       "text": [
        "\n",
        "14200/60000 [======>.......................] - ETA: 2s - loss: 0.3291 - acc: 0.9031"
       ]
      },
      {
       "output_type": "stream",
       "stream": "stdout",
       "text": [
        "\n",
        "15200/60000 [======>.......................] - ETA: 2s - loss: 0.3262 - acc: 0.9039"
       ]
      },
      {
       "output_type": "stream",
       "stream": "stdout",
       "text": [
        "\n",
        "16200/60000 [=======>......................] - ETA: 2s - loss: 0.3253 - acc: 0.9043"
       ]
      },
      {
       "output_type": "stream",
       "stream": "stdout",
       "text": [
        "\n",
        "17200/60000 [=======>......................] - ETA: 2s - loss: 0.3250 - acc: 0.9046"
       ]
      },
      {
       "output_type": "stream",
       "stream": "stdout",
       "text": [
        "\n",
        "18200/60000 [========>.....................] - ETA: 2s - loss: 0.3224 - acc: 0.9055"
       ]
      },
      {
       "output_type": "stream",
       "stream": "stdout",
       "text": [
        "\n",
        "19200/60000 [========>.....................] - ETA: 2s - loss: 0.3196 - acc: 0.9065"
       ]
      },
      {
       "output_type": "stream",
       "stream": "stdout",
       "text": [
        "\n",
        "20200/60000 [=========>....................] - ETA: 2s - loss: 0.3191 - acc: 0.9070"
       ]
      },
      {
       "output_type": "stream",
       "stream": "stdout",
       "text": [
        "\n",
        "21200/60000 [=========>....................] - ETA: 2s - loss: 0.3165 - acc: 0.9080"
       ]
      },
      {
       "output_type": "stream",
       "stream": "stdout",
       "text": [
        "\n",
        "22200/60000 [==========>...................] - ETA: 2s - loss: 0.3182 - acc: 0.9072"
       ]
      },
      {
       "output_type": "stream",
       "stream": "stdout",
       "text": [
        "\n",
        "23200/60000 [==========>...................] - ETA: 2s - loss: 0.3179 - acc: 0.9072"
       ]
      },
      {
       "output_type": "stream",
       "stream": "stdout",
       "text": [
        "\n",
        "24200/60000 [===========>..................] - ETA: 2s - loss: 0.3189 - acc: 0.9071"
       ]
      },
      {
       "output_type": "stream",
       "stream": "stdout",
       "text": [
        "\n",
        "25200/60000 [===========>..................] - ETA: 2s - loss: 0.3178 - acc: 0.9076"
       ]
      },
      {
       "output_type": "stream",
       "stream": "stdout",
       "text": [
        "\n",
        "26200/60000 [============>.................] - ETA: 1s - loss: 0.3145 - acc: 0.9082"
       ]
      },
      {
       "output_type": "stream",
       "stream": "stdout",
       "text": [
        "\n",
        "27200/60000 [============>.................] - ETA: 1s - loss: 0.3129 - acc: 0.9086"
       ]
      },
      {
       "output_type": "stream",
       "stream": "stdout",
       "text": [
        "\n",
        "28200/60000 [=============>................] - ETA: 1s - loss: 0.3116 - acc: 0.9086"
       ]
      },
      {
       "output_type": "stream",
       "stream": "stdout",
       "text": [
        "\n",
        "29200/60000 [=============>................] - ETA: 1s - loss: 0.3119 - acc: 0.9082"
       ]
      },
      {
       "output_type": "stream",
       "stream": "stdout",
       "text": [
        "\n",
        "30200/60000 [==============>...............] - ETA: 1s - loss: 0.3100 - acc: 0.9089"
       ]
      },
      {
       "output_type": "stream",
       "stream": "stdout",
       "text": [
        "\n",
        "31200/60000 [==============>...............] - ETA: 1s - loss: 0.3088 - acc: 0.9092"
       ]
      },
      {
       "output_type": "stream",
       "stream": "stdout",
       "text": [
        "\n",
        "32200/60000 [===============>..............] - ETA: 1s - loss: 0.3087 - acc: 0.9090"
       ]
      },
      {
       "output_type": "stream",
       "stream": "stdout",
       "text": [
        "\n",
        "33200/60000 [===============>..............] - ETA: 1s - loss: 0.3083 - acc: 0.9090"
       ]
      },
      {
       "output_type": "stream",
       "stream": "stdout",
       "text": [
        "\n",
        "34200/60000 [================>.............] - ETA: 1s - loss: 0.3090 - acc: 0.9090"
       ]
      },
      {
       "output_type": "stream",
       "stream": "stdout",
       "text": [
        "\n",
        "35200/60000 [================>.............] - ETA: 1s - loss: 0.3086 - acc: 0.9091"
       ]
      },
      {
       "output_type": "stream",
       "stream": "stdout",
       "text": [
        "\n",
        "36200/60000 [=================>............] - ETA: 1s - loss: 0.3068 - acc: 0.9096"
       ]
      },
      {
       "output_type": "stream",
       "stream": "stdout",
       "text": [
        "\n",
        "37200/60000 [=================>............] - ETA: 1s - loss: 0.3058 - acc: 0.9100"
       ]
      },
      {
       "output_type": "stream",
       "stream": "stdout",
       "text": [
        "\n",
        "38000/60000 [==================>...........] - ETA: 1s - loss: 0.3041 - acc: 0.9106"
       ]
      },
      {
       "output_type": "stream",
       "stream": "stdout",
       "text": [
        "\n",
        "39000/60000 [==================>...........] - ETA: 1s - loss: 0.3044 - acc: 0.9103"
       ]
      },
      {
       "output_type": "stream",
       "stream": "stdout",
       "text": [
        "\n",
        "40000/60000 [===================>..........] - ETA: 1s - loss: 0.3047 - acc: 0.9103"
       ]
      },
      {
       "output_type": "stream",
       "stream": "stdout",
       "text": [
        "\n",
        "41000/60000 [===================>..........] - ETA: 1s - loss: 0.3049 - acc: 0.9101"
       ]
      },
      {
       "output_type": "stream",
       "stream": "stdout",
       "text": [
        "\n",
        "42000/60000 [====================>.........] - ETA: 1s - loss: 0.3046 - acc: 0.9103"
       ]
      },
      {
       "output_type": "stream",
       "stream": "stdout",
       "text": [
        "\n",
        "43000/60000 [====================>.........] - ETA: 1s - loss: 0.3043 - acc: 0.9103"
       ]
      },
      {
       "output_type": "stream",
       "stream": "stdout",
       "text": [
        "\n",
        "44000/60000 [=====================>........] - ETA: 0s - loss: 0.3037 - acc: 0.9107"
       ]
      },
      {
       "output_type": "stream",
       "stream": "stdout",
       "text": [
        "\n",
        "45000/60000 [=====================>........] - ETA: 0s - loss: 0.3030 - acc: 0.9105"
       ]
      },
      {
       "output_type": "stream",
       "stream": "stdout",
       "text": [
        "\n",
        "46000/60000 [======================>.......] - ETA: 0s - loss: 0.3023 - acc: 0.9102"
       ]
      },
      {
       "output_type": "stream",
       "stream": "stdout",
       "text": [
        "\n",
        "47000/60000 [======================>.......] - ETA: 0s - loss: 0.3017 - acc: 0.9106"
       ]
      },
      {
       "output_type": "stream",
       "stream": "stdout",
       "text": [
        "\n",
        "48000/60000 [=======================>......] - ETA: 0s - loss: 0.3005 - acc: 0.9109"
       ]
      },
      {
       "output_type": "stream",
       "stream": "stdout",
       "text": [
        "\n",
        "49000/60000 [=======================>......] - ETA: 0s - loss: 0.2992 - acc: 0.9114"
       ]
      },
      {
       "output_type": "stream",
       "stream": "stdout",
       "text": [
        "\n",
        "50000/60000 [========================>.....] - ETA: 0s - loss: 0.2987 - acc: 0.9115"
       ]
      },
      {
       "output_type": "stream",
       "stream": "stdout",
       "text": [
        "\n",
        "51000/60000 [========================>.....] - ETA: 0s - loss: 0.2983 - acc: 0.9115"
       ]
      },
      {
       "output_type": "stream",
       "stream": "stdout",
       "text": [
        "\n",
        "52000/60000 [=========================>....] - ETA: 0s - loss: 0.2982 - acc: 0.9114"
       ]
      },
      {
       "output_type": "stream",
       "stream": "stdout",
       "text": [
        "\n",
        "53000/60000 [=========================>....] - ETA: 0s - loss: 0.2983 - acc: 0.9112"
       ]
      },
      {
       "output_type": "stream",
       "stream": "stdout",
       "text": [
        "\n",
        "54000/60000 [==========================>...] - ETA: 0s - loss: 0.2964 - acc: 0.9118"
       ]
      },
      {
       "output_type": "stream",
       "stream": "stdout",
       "text": [
        "\n",
        "55000/60000 [==========================>...] - ETA: 0s - loss: 0.2962 - acc: 0.9119"
       ]
      },
      {
       "output_type": "stream",
       "stream": "stdout",
       "text": [
        "\n",
        "56000/60000 [===========================>..] - ETA: 0s - loss: 0.2949 - acc: 0.9121"
       ]
      },
      {
       "output_type": "stream",
       "stream": "stdout",
       "text": [
        "\n",
        "57000/60000 [===========================>..] - ETA: 0s - loss: 0.2941 - acc: 0.9124"
       ]
      },
      {
       "output_type": "stream",
       "stream": "stdout",
       "text": [
        "\n",
        "58000/60000 [============================>.] - ETA: 0s - loss: 0.2937 - acc: 0.9124"
       ]
      },
      {
       "output_type": "stream",
       "stream": "stdout",
       "text": [
        "\n",
        "59000/60000 [============================>.] - ETA: 0s - loss: 0.2933 - acc: 0.9126"
       ]
      },
      {
       "output_type": "stream",
       "stream": "stdout",
       "text": [
        "\n",
        "60000/60000 [==============================] - 4s 63us/step - loss: 0.2928 - acc: 0.9126 - val_loss: 0.2462 - val_acc: 0.9271\n"
       ]
      },
      {
       "output_type": "stream",
       "stream": "stdout",
       "text": [
        "Epoch 3/10\n",
        "\n",
        "  200/60000 [..............................] - ETA: 4s - loss: 0.2514 - acc: 0.9300"
       ]
      },
      {
       "output_type": "stream",
       "stream": "stdout",
       "text": [
        "\n",
        " 1200/60000 [..............................] - ETA: 3s - loss: 0.2461 - acc: 0.9200"
       ]
      },
      {
       "output_type": "stream",
       "stream": "stdout",
       "text": [
        "\n",
        " 2200/60000 [>.............................] - ETA: 3s - loss: 0.2609 - acc: 0.9173"
       ]
      },
      {
       "output_type": "stream",
       "stream": "stdout",
       "text": [
        "\n",
        " 3200/60000 [>.............................] - ETA: 3s - loss: 0.2527 - acc: 0.9216"
       ]
      },
      {
       "output_type": "stream",
       "stream": "stdout",
       "text": [
        "\n",
        " 4200/60000 [=>............................] - ETA: 3s - loss: 0.2593 - acc: 0.9193"
       ]
      },
      {
       "output_type": "stream",
       "stream": "stdout",
       "text": [
        "\n",
        " 5200/60000 [=>............................] - ETA: 3s - loss: 0.2596 - acc: 0.9213"
       ]
      },
      {
       "output_type": "stream",
       "stream": "stdout",
       "text": [
        "\n",
        " 6200/60000 [==>...........................] - ETA: 3s - loss: 0.2605 - acc: 0.9206"
       ]
      },
      {
       "output_type": "stream",
       "stream": "stdout",
       "text": [
        "\n",
        " 7200/60000 [==>...........................] - ETA: 3s - loss: 0.2605 - acc: 0.9222"
       ]
      },
      {
       "output_type": "stream",
       "stream": "stdout",
       "text": [
        "\n",
        " 8200/60000 [===>..........................] - ETA: 3s - loss: 0.2574 - acc: 0.9221"
       ]
      },
      {
       "output_type": "stream",
       "stream": "stdout",
       "text": [
        "\n",
        " 9200/60000 [===>..........................] - ETA: 3s - loss: 0.2579 - acc: 0.9216"
       ]
      },
      {
       "output_type": "stream",
       "stream": "stdout",
       "text": [
        "\n",
        "10200/60000 [====>.........................] - ETA: 2s - loss: 0.2563 - acc: 0.9218"
       ]
      },
      {
       "output_type": "stream",
       "stream": "stdout",
       "text": [
        "\n",
        "11200/60000 [====>.........................] - ETA: 2s - loss: 0.2525 - acc: 0.9235"
       ]
      },
      {
       "output_type": "stream",
       "stream": "stdout",
       "text": [
        "\n",
        "12200/60000 [=====>........................] - ETA: 2s - loss: 0.2501 - acc: 0.9241"
       ]
      },
      {
       "output_type": "stream",
       "stream": "stdout",
       "text": [
        "\n",
        "13200/60000 [=====>........................] - ETA: 2s - loss: 0.2530 - acc: 0.9236"
       ]
      },
      {
       "output_type": "stream",
       "stream": "stdout",
       "text": [
        "\n",
        "14200/60000 [======>.......................] - ETA: 2s - loss: 0.2510 - acc: 0.9244"
       ]
      },
      {
       "output_type": "stream",
       "stream": "stdout",
       "text": [
        "\n",
        "15200/60000 [======>.......................] - ETA: 2s - loss: 0.2536 - acc: 0.9234"
       ]
      },
      {
       "output_type": "stream",
       "stream": "stdout",
       "text": [
        "\n",
        "16200/60000 [=======>......................] - ETA: 2s - loss: 0.2521 - acc: 0.9240"
       ]
      },
      {
       "output_type": "stream",
       "stream": "stdout",
       "text": [
        "\n",
        "17200/60000 [=======>......................] - ETA: 2s - loss: 0.2554 - acc: 0.9237"
       ]
      },
      {
       "output_type": "stream",
       "stream": "stdout",
       "text": [
        "\n",
        "18200/60000 [========>.....................] - ETA: 2s - loss: 0.2539 - acc: 0.9241"
       ]
      },
      {
       "output_type": "stream",
       "stream": "stdout",
       "text": [
        "\n",
        "19200/60000 [========>.....................] - ETA: 2s - loss: 0.2539 - acc: 0.9239"
       ]
      },
      {
       "output_type": "stream",
       "stream": "stdout",
       "text": [
        "\n",
        "20200/60000 [=========>....................] - ETA: 2s - loss: 0.2535 - acc: 0.9244"
       ]
      },
      {
       "output_type": "stream",
       "stream": "stdout",
       "text": [
        "\n",
        "21200/60000 [=========>....................] - ETA: 2s - loss: 0.2520 - acc: 0.9250"
       ]
      },
      {
       "output_type": "stream",
       "stream": "stdout",
       "text": [
        "\n",
        "22200/60000 [==========>...................] - ETA: 2s - loss: 0.2530 - acc: 0.9245"
       ]
      },
      {
       "output_type": "stream",
       "stream": "stdout",
       "text": [
        "\n",
        "23200/60000 [==========>...................] - ETA: 2s - loss: 0.2523 - acc: 0.9249"
       ]
      },
      {
       "output_type": "stream",
       "stream": "stdout",
       "text": [
        "\n",
        "24200/60000 [===========>..................] - ETA: 2s - loss: 0.2518 - acc: 0.9248"
       ]
      },
      {
       "output_type": "stream",
       "stream": "stdout",
       "text": [
        "\n",
        "25200/60000 [===========>..................] - ETA: 2s - loss: 0.2503 - acc: 0.9252"
       ]
      },
      {
       "output_type": "stream",
       "stream": "stdout",
       "text": [
        "\n",
        "26200/60000 [============>.................] - ETA: 2s - loss: 0.2497 - acc: 0.9254"
       ]
      },
      {
       "output_type": "stream",
       "stream": "stdout",
       "text": [
        "\n",
        "27200/60000 [============>.................] - ETA: 1s - loss: 0.2521 - acc: 0.9246"
       ]
      },
      {
       "output_type": "stream",
       "stream": "stdout",
       "text": [
        "\n",
        "28200/60000 [=============>................] - ETA: 1s - loss: 0.2516 - acc: 0.9246"
       ]
      },
      {
       "output_type": "stream",
       "stream": "stdout",
       "text": [
        "\n",
        "29200/60000 [=============>................] - ETA: 1s - loss: 0.2509 - acc: 0.9246"
       ]
      },
      {
       "output_type": "stream",
       "stream": "stdout",
       "text": [
        "\n",
        "30200/60000 [==============>...............] - ETA: 1s - loss: 0.2502 - acc: 0.9251"
       ]
      },
      {
       "output_type": "stream",
       "stream": "stdout",
       "text": [
        "\n",
        "31200/60000 [==============>...............] - ETA: 1s - loss: 0.2485 - acc: 0.9258"
       ]
      },
      {
       "output_type": "stream",
       "stream": "stdout",
       "text": [
        "\n",
        "32200/60000 [===============>..............] - ETA: 1s - loss: 0.2473 - acc: 0.9263"
       ]
      },
      {
       "output_type": "stream",
       "stream": "stdout",
       "text": [
        "\n",
        "33200/60000 [===============>..............] - ETA: 1s - loss: 0.2485 - acc: 0.9259"
       ]
      },
      {
       "output_type": "stream",
       "stream": "stdout",
       "text": [
        "\n",
        "34200/60000 [================>.............] - ETA: 1s - loss: 0.2482 - acc: 0.9258"
       ]
      },
      {
       "output_type": "stream",
       "stream": "stdout",
       "text": [
        "\n",
        "35200/60000 [================>.............] - ETA: 1s - loss: 0.2474 - acc: 0.9262"
       ]
      },
      {
       "output_type": "stream",
       "stream": "stdout",
       "text": [
        "\n",
        "36200/60000 [=================>............] - ETA: 1s - loss: 0.2473 - acc: 0.9262"
       ]
      },
      {
       "output_type": "stream",
       "stream": "stdout",
       "text": [
        "\n",
        "37200/60000 [=================>............] - ETA: 1s - loss: 0.2461 - acc: 0.9267"
       ]
      },
      {
       "output_type": "stream",
       "stream": "stdout",
       "text": [
        "\n",
        "38200/60000 [==================>...........] - ETA: 1s - loss: 0.2462 - acc: 0.9268"
       ]
      },
      {
       "output_type": "stream",
       "stream": "stdout",
       "text": [
        "\n",
        "39200/60000 [==================>...........] - ETA: 1s - loss: 0.2464 - acc: 0.9270"
       ]
      },
      {
       "output_type": "stream",
       "stream": "stdout",
       "text": [
        "\n",
        "40200/60000 [===================>..........] - ETA: 1s - loss: 0.2461 - acc: 0.9270"
       ]
      },
      {
       "output_type": "stream",
       "stream": "stdout",
       "text": [
        "\n",
        "41200/60000 [===================>..........] - ETA: 1s - loss: 0.2475 - acc: 0.9265"
       ]
      },
      {
       "output_type": "stream",
       "stream": "stdout",
       "text": [
        "\n",
        "42200/60000 [====================>.........] - ETA: 1s - loss: 0.2466 - acc: 0.9266"
       ]
      },
      {
       "output_type": "stream",
       "stream": "stdout",
       "text": [
        "\n",
        "43200/60000 [====================>.........] - ETA: 0s - loss: 0.2453 - acc: 0.9270"
       ]
      },
      {
       "output_type": "stream",
       "stream": "stdout",
       "text": [
        "\n",
        "44200/60000 [=====================>........] - ETA: 0s - loss: 0.2445 - acc: 0.9272"
       ]
      },
      {
       "output_type": "stream",
       "stream": "stdout",
       "text": [
        "\n",
        "45200/60000 [=====================>........] - ETA: 0s - loss: 0.2440 - acc: 0.9273"
       ]
      },
      {
       "output_type": "stream",
       "stream": "stdout",
       "text": [
        "\n",
        "46200/60000 [======================>.......] - ETA: 0s - loss: 0.2438 - acc: 0.9274"
       ]
      },
      {
       "output_type": "stream",
       "stream": "stdout",
       "text": [
        "\n",
        "47200/60000 [======================>.......] - ETA: 0s - loss: 0.2435 - acc: 0.9275"
       ]
      },
      {
       "output_type": "stream",
       "stream": "stdout",
       "text": [
        "\n",
        "48200/60000 [=======================>......] - ETA: 0s - loss: 0.2431 - acc: 0.9277"
       ]
      },
      {
       "output_type": "stream",
       "stream": "stdout",
       "text": [
        "\n",
        "49200/60000 [=======================>......] - ETA: 0s - loss: 0.2429 - acc: 0.9277"
       ]
      },
      {
       "output_type": "stream",
       "stream": "stdout",
       "text": [
        "\n",
        "50200/60000 [========================>.....] - ETA: 0s - loss: 0.2431 - acc: 0.9275"
       ]
      },
      {
       "output_type": "stream",
       "stream": "stdout",
       "text": [
        "\n",
        "51200/60000 [========================>.....] - ETA: 0s - loss: 0.2424 - acc: 0.9276"
       ]
      },
      {
       "output_type": "stream",
       "stream": "stdout",
       "text": [
        "\n",
        "52200/60000 [=========================>....] - ETA: 0s - loss: 0.2420 - acc: 0.9276"
       ]
      },
      {
       "output_type": "stream",
       "stream": "stdout",
       "text": [
        "\n",
        "53200/60000 [=========================>....] - ETA: 0s - loss: 0.2418 - acc: 0.9276"
       ]
      },
      {
       "output_type": "stream",
       "stream": "stdout",
       "text": [
        "\n",
        "54200/60000 [==========================>...] - ETA: 0s - loss: 0.2415 - acc: 0.9277"
       ]
      },
      {
       "output_type": "stream",
       "stream": "stdout",
       "text": [
        "\n",
        "55200/60000 [==========================>...] - ETA: 0s - loss: 0.2406 - acc: 0.9281"
       ]
      },
      {
       "output_type": "stream",
       "stream": "stdout",
       "text": [
        "\n",
        "56200/60000 [===========================>..] - ETA: 0s - loss: 0.2403 - acc: 0.9282"
       ]
      },
      {
       "output_type": "stream",
       "stream": "stdout",
       "text": [
        "\n",
        "57200/60000 [===========================>..] - ETA: 0s - loss: 0.2397 - acc: 0.9284"
       ]
      },
      {
       "output_type": "stream",
       "stream": "stdout",
       "text": [
        "\n",
        "58200/60000 [============================>.] - ETA: 0s - loss: 0.2394 - acc: 0.9284"
       ]
      },
      {
       "output_type": "stream",
       "stream": "stdout",
       "text": [
        "\n",
        "59200/60000 [============================>.] - ETA: 0s - loss: 0.2394 - acc: 0.9286"
       ]
      },
      {
       "output_type": "stream",
       "stream": "stdout",
       "text": [
        "\n",
        "60000/60000 [==============================] - 4s 63us/step - loss: 0.2390 - acc: 0.9288 - val_loss: 0.2069 - val_acc: 0.9404\n"
       ]
      },
      {
       "output_type": "stream",
       "stream": "stdout",
       "text": [
        "Epoch 4/10\n",
        "\n",
        "  200/60000 [..............................] - ETA: 4s - loss: 0.1678 - acc: 0.9500"
       ]
      },
      {
       "output_type": "stream",
       "stream": "stdout",
       "text": [
        "\n",
        " 1200/60000 [..............................] - ETA: 3s - loss: 0.2690 - acc: 0.9208"
       ]
      },
      {
       "output_type": "stream",
       "stream": "stdout",
       "text": [
        "\n",
        " 2200/60000 [>.............................] - ETA: 3s - loss: 0.2465 - acc: 0.9295"
       ]
      },
      {
       "output_type": "stream",
       "stream": "stdout",
       "text": [
        "\n",
        " 3200/60000 [>.............................] - ETA: 3s - loss: 0.2368 - acc: 0.9328"
       ]
      },
      {
       "output_type": "stream",
       "stream": "stdout",
       "text": [
        "\n",
        " 4200/60000 [=>............................] - ETA: 3s - loss: 0.2278 - acc: 0.9345"
       ]
      },
      {
       "output_type": "stream",
       "stream": "stdout",
       "text": [
        "\n",
        " 5200/60000 [=>............................] - ETA: 3s - loss: 0.2188 - acc: 0.9365"
       ]
      },
      {
       "output_type": "stream",
       "stream": "stdout",
       "text": [
        "\n",
        " 6200/60000 [==>...........................] - ETA: 3s - loss: 0.2131 - acc: 0.9377"
       ]
      },
      {
       "output_type": "stream",
       "stream": "stdout",
       "text": [
        "\n",
        " 7200/60000 [==>...........................] - ETA: 3s - loss: 0.2106 - acc: 0.9379"
       ]
      },
      {
       "output_type": "stream",
       "stream": "stdout",
       "text": [
        "\n",
        " 8200/60000 [===>..........................] - ETA: 3s - loss: 0.2076 - acc: 0.9399"
       ]
      },
      {
       "output_type": "stream",
       "stream": "stdout",
       "text": [
        "\n",
        " 9200/60000 [===>..........................] - ETA: 3s - loss: 0.2109 - acc: 0.9398"
       ]
      },
      {
       "output_type": "stream",
       "stream": "stdout",
       "text": [
        "\n",
        "10200/60000 [====>.........................] - ETA: 2s - loss: 0.2128 - acc: 0.9386"
       ]
      },
      {
       "output_type": "stream",
       "stream": "stdout",
       "text": [
        "\n",
        "11200/60000 [====>.........................] - ETA: 2s - loss: 0.2123 - acc: 0.9387"
       ]
      },
      {
       "output_type": "stream",
       "stream": "stdout",
       "text": [
        "\n",
        "12200/60000 [=====>........................] - ETA: 2s - loss: 0.2139 - acc: 0.9380"
       ]
      },
      {
       "output_type": "stream",
       "stream": "stdout",
       "text": [
        "\n",
        "13200/60000 [=====>........................] - ETA: 2s - loss: 0.2134 - acc: 0.9387"
       ]
      },
      {
       "output_type": "stream",
       "stream": "stdout",
       "text": [
        "\n",
        "14200/60000 [======>.......................] - ETA: 2s - loss: 0.2191 - acc: 0.9372"
       ]
      },
      {
       "output_type": "stream",
       "stream": "stdout",
       "text": [
        "\n",
        "15200/60000 [======>.......................] - ETA: 2s - loss: 0.2190 - acc: 0.9372"
       ]
      },
      {
       "output_type": "stream",
       "stream": "stdout",
       "text": [
        "\n",
        "16200/60000 [=======>......................] - ETA: 2s - loss: 0.2195 - acc: 0.9371"
       ]
      },
      {
       "output_type": "stream",
       "stream": "stdout",
       "text": [
        "\n",
        "17200/60000 [=======>......................] - ETA: 2s - loss: 0.2195 - acc: 0.9367"
       ]
      },
      {
       "output_type": "stream",
       "stream": "stdout",
       "text": [
        "\n",
        "18200/60000 [========>.....................] - ETA: 2s - loss: 0.2185 - acc: 0.9375"
       ]
      },
      {
       "output_type": "stream",
       "stream": "stdout",
       "text": [
        "\n",
        "19200/60000 [========>.....................] - ETA: 2s - loss: 0.2187 - acc: 0.9372"
       ]
      },
      {
       "output_type": "stream",
       "stream": "stdout",
       "text": [
        "\n",
        "20200/60000 [=========>....................] - ETA: 2s - loss: 0.2184 - acc: 0.9368"
       ]
      },
      {
       "output_type": "stream",
       "stream": "stdout",
       "text": [
        "\n",
        "21200/60000 [=========>....................] - ETA: 2s - loss: 0.2166 - acc: 0.9372"
       ]
      },
      {
       "output_type": "stream",
       "stream": "stdout",
       "text": [
        "\n",
        "22200/60000 [==========>...................] - ETA: 2s - loss: 0.2169 - acc: 0.9371"
       ]
      },
      {
       "output_type": "stream",
       "stream": "stdout",
       "text": [
        "\n",
        "23200/60000 [==========>...................] - ETA: 2s - loss: 0.2174 - acc: 0.9369"
       ]
      },
      {
       "output_type": "stream",
       "stream": "stdout",
       "text": [
        "\n",
        "24200/60000 [===========>..................] - ETA: 2s - loss: 0.2177 - acc: 0.9371"
       ]
      },
      {
       "output_type": "stream",
       "stream": "stdout",
       "text": [
        "\n",
        "25200/60000 [===========>..................] - ETA: 2s - loss: 0.2170 - acc: 0.9374"
       ]
      },
      {
       "output_type": "stream",
       "stream": "stdout",
       "text": [
        "\n",
        "26200/60000 [============>.................] - ETA: 2s - loss: 0.2163 - acc: 0.9374"
       ]
      },
      {
       "output_type": "stream",
       "stream": "stdout",
       "text": [
        "\n",
        "27200/60000 [============>.................] - ETA: 1s - loss: 0.2161 - acc: 0.9375"
       ]
      },
      {
       "output_type": "stream",
       "stream": "stdout",
       "text": [
        "\n",
        "28200/60000 [=============>................] - ETA: 1s - loss: 0.2156 - acc: 0.9374"
       ]
      },
      {
       "output_type": "stream",
       "stream": "stdout",
       "text": [
        "\n",
        "29200/60000 [=============>................] - ETA: 1s - loss: 0.2163 - acc: 0.9374"
       ]
      },
      {
       "output_type": "stream",
       "stream": "stdout",
       "text": [
        "\n",
        "30200/60000 [==============>...............] - ETA: 1s - loss: 0.2164 - acc: 0.9373"
       ]
      },
      {
       "output_type": "stream",
       "stream": "stdout",
       "text": [
        "\n",
        "31200/60000 [==============>...............] - ETA: 1s - loss: 0.2164 - acc: 0.9374"
       ]
      },
      {
       "output_type": "stream",
       "stream": "stdout",
       "text": [
        "\n",
        "32200/60000 [===============>..............] - ETA: 1s - loss: 0.2162 - acc: 0.9374"
       ]
      },
      {
       "output_type": "stream",
       "stream": "stdout",
       "text": [
        "\n",
        "33200/60000 [===============>..............] - ETA: 1s - loss: 0.2169 - acc: 0.9370"
       ]
      },
      {
       "output_type": "stream",
       "stream": "stdout",
       "text": [
        "\n",
        "34200/60000 [================>.............] - ETA: 1s - loss: 0.2159 - acc: 0.9371"
       ]
      },
      {
       "output_type": "stream",
       "stream": "stdout",
       "text": [
        "\n",
        "35200/60000 [================>.............] - ETA: 1s - loss: 0.2154 - acc: 0.9373"
       ]
      },
      {
       "output_type": "stream",
       "stream": "stdout",
       "text": [
        "\n",
        "36200/60000 [=================>............] - ETA: 1s - loss: 0.2151 - acc: 0.9373"
       ]
      },
      {
       "output_type": "stream",
       "stream": "stdout",
       "text": [
        "\n",
        "37200/60000 [=================>............] - ETA: 1s - loss: 0.2135 - acc: 0.9377"
       ]
      },
      {
       "output_type": "stream",
       "stream": "stdout",
       "text": [
        "\n",
        "38200/60000 [==================>...........] - ETA: 1s - loss: 0.2134 - acc: 0.9375"
       ]
      },
      {
       "output_type": "stream",
       "stream": "stdout",
       "text": [
        "\n",
        "39200/60000 [==================>...........] - ETA: 1s - loss: 0.2129 - acc: 0.9376"
       ]
      },
      {
       "output_type": "stream",
       "stream": "stdout",
       "text": [
        "\n",
        "40200/60000 [===================>..........] - ETA: 1s - loss: 0.2125 - acc: 0.9378"
       ]
      },
      {
       "output_type": "stream",
       "stream": "stdout",
       "text": [
        "\n",
        "41200/60000 [===================>..........] - ETA: 1s - loss: 0.2132 - acc: 0.9378"
       ]
      },
      {
       "output_type": "stream",
       "stream": "stdout",
       "text": [
        "\n",
        "42200/60000 [====================>.........] - ETA: 1s - loss: 0.2128 - acc: 0.9380"
       ]
      },
      {
       "output_type": "stream",
       "stream": "stdout",
       "text": [
        "\n",
        "43200/60000 [====================>.........] - ETA: 0s - loss: 0.2128 - acc: 0.9378"
       ]
      },
      {
       "output_type": "stream",
       "stream": "stdout",
       "text": [
        "\n",
        "44200/60000 [=====================>........] - ETA: 0s - loss: 0.2119 - acc: 0.9380"
       ]
      },
      {
       "output_type": "stream",
       "stream": "stdout",
       "text": [
        "\n",
        "45200/60000 [=====================>........] - ETA: 0s - loss: 0.2116 - acc: 0.9379"
       ]
      },
      {
       "output_type": "stream",
       "stream": "stdout",
       "text": [
        "\n",
        "46200/60000 [======================>.......] - ETA: 0s - loss: 0.2112 - acc: 0.9378"
       ]
      },
      {
       "output_type": "stream",
       "stream": "stdout",
       "text": [
        "\n",
        "47200/60000 [======================>.......] - ETA: 0s - loss: 0.2106 - acc: 0.9381"
       ]
      },
      {
       "output_type": "stream",
       "stream": "stdout",
       "text": [
        "\n",
        "48200/60000 [=======================>......] - ETA: 0s - loss: 0.2098 - acc: 0.9382"
       ]
      },
      {
       "output_type": "stream",
       "stream": "stdout",
       "text": [
        "\n",
        "49200/60000 [=======================>......] - ETA: 0s - loss: 0.2092 - acc: 0.9384"
       ]
      },
      {
       "output_type": "stream",
       "stream": "stdout",
       "text": [
        "\n",
        "50200/60000 [========================>.....] - ETA: 0s - loss: 0.2097 - acc: 0.9383"
       ]
      },
      {
       "output_type": "stream",
       "stream": "stdout",
       "text": [
        "\n",
        "51200/60000 [========================>.....] - ETA: 0s - loss: 0.2090 - acc: 0.9385"
       ]
      },
      {
       "output_type": "stream",
       "stream": "stdout",
       "text": [
        "\n",
        "52200/60000 [=========================>....] - ETA: 0s - loss: 0.2083 - acc: 0.9385"
       ]
      },
      {
       "output_type": "stream",
       "stream": "stdout",
       "text": [
        "\n",
        "53200/60000 [=========================>....] - ETA: 0s - loss: 0.2069 - acc: 0.9389"
       ]
      },
      {
       "output_type": "stream",
       "stream": "stdout",
       "text": [
        "\n",
        "54200/60000 [==========================>...] - ETA: 0s - loss: 0.2071 - acc: 0.9388"
       ]
      },
      {
       "output_type": "stream",
       "stream": "stdout",
       "text": [
        "\n",
        "55200/60000 [==========================>...] - ETA: 0s - loss: 0.2062 - acc: 0.9391"
       ]
      },
      {
       "output_type": "stream",
       "stream": "stdout",
       "text": [
        "\n",
        "56200/60000 [===========================>..] - ETA: 0s - loss: 0.2059 - acc: 0.9393"
       ]
      },
      {
       "output_type": "stream",
       "stream": "stdout",
       "text": [
        "\n",
        "57200/60000 [===========================>..] - ETA: 0s - loss: 0.2053 - acc: 0.9393"
       ]
      },
      {
       "output_type": "stream",
       "stream": "stdout",
       "text": [
        "\n",
        "58200/60000 [============================>.] - ETA: 0s - loss: 0.2043 - acc: 0.9397"
       ]
      },
      {
       "output_type": "stream",
       "stream": "stdout",
       "text": [
        "\n",
        "59200/60000 [============================>.] - ETA: 0s - loss: 0.2039 - acc: 0.9398"
       ]
      },
      {
       "output_type": "stream",
       "stream": "stdout",
       "text": [
        "\n",
        "60000/60000 [==============================] - 4s 63us/step - loss: 0.2032 - acc: 0.9400 - val_loss: 0.1763 - val_acc: 0.9470\n"
       ]
      },
      {
       "output_type": "stream",
       "stream": "stdout",
       "text": [
        "Epoch 5/10\n",
        "\n",
        "  200/60000 [..............................] - ETA: 4s - loss: 0.2361 - acc: 0.9200"
       ]
      },
      {
       "output_type": "stream",
       "stream": "stdout",
       "text": [
        "\n",
        " 1200/60000 [..............................] - ETA: 3s - loss: 0.1740 - acc: 0.9492"
       ]
      },
      {
       "output_type": "stream",
       "stream": "stdout",
       "text": [
        "\n",
        " 2200/60000 [>.............................] - ETA: 3s - loss: 0.1618 - acc: 0.9509"
       ]
      },
      {
       "output_type": "stream",
       "stream": "stdout",
       "text": [
        "\n",
        " 3200/60000 [>.............................] - ETA: 3s - loss: 0.1533 - acc: 0.9525"
       ]
      },
      {
       "output_type": "stream",
       "stream": "stdout",
       "text": [
        "\n",
        " 4200/60000 [=>............................] - ETA: 3s - loss: 0.1597 - acc: 0.9498"
       ]
      },
      {
       "output_type": "stream",
       "stream": "stdout",
       "text": [
        "\n",
        " 5200/60000 [=>............................] - ETA: 3s - loss: 0.1635 - acc: 0.9481"
       ]
      },
      {
       "output_type": "stream",
       "stream": "stdout",
       "text": [
        "\n",
        " 6200/60000 [==>...........................] - ETA: 3s - loss: 0.1685 - acc: 0.9471"
       ]
      },
      {
       "output_type": "stream",
       "stream": "stdout",
       "text": [
        "\n",
        " 7200/60000 [==>...........................] - ETA: 3s - loss: 0.1646 - acc: 0.9492"
       ]
      },
      {
       "output_type": "stream",
       "stream": "stdout",
       "text": [
        "\n",
        " 8200/60000 [===>..........................] - ETA: 3s - loss: 0.1653 - acc: 0.9498"
       ]
      },
      {
       "output_type": "stream",
       "stream": "stdout",
       "text": [
        "\n",
        " 9200/60000 [===>..........................] - ETA: 2s - loss: 0.1671 - acc: 0.9509"
       ]
      },
      {
       "output_type": "stream",
       "stream": "stdout",
       "text": [
        "\n",
        "10200/60000 [====>.........................] - ETA: 2s - loss: 0.1692 - acc: 0.9497"
       ]
      },
      {
       "output_type": "stream",
       "stream": "stdout",
       "text": [
        "\n",
        "11200/60000 [====>.........................] - ETA: 2s - loss: 0.1691 - acc: 0.9494"
       ]
      },
      {
       "output_type": "stream",
       "stream": "stdout",
       "text": [
        "\n",
        "12200/60000 [=====>........................] - ETA: 2s - loss: 0.1695 - acc: 0.9489"
       ]
      },
      {
       "output_type": "stream",
       "stream": "stdout",
       "text": [
        "\n",
        "13200/60000 [=====>........................] - ETA: 2s - loss: 0.1695 - acc: 0.9487"
       ]
      },
      {
       "output_type": "stream",
       "stream": "stdout",
       "text": [
        "\n",
        "14200/60000 [======>.......................] - ETA: 2s - loss: 0.1690 - acc: 0.9485"
       ]
      },
      {
       "output_type": "stream",
       "stream": "stdout",
       "text": [
        "\n",
        "15200/60000 [======>.......................] - ETA: 2s - loss: 0.1713 - acc: 0.9478"
       ]
      },
      {
       "output_type": "stream",
       "stream": "stdout",
       "text": [
        "\n",
        "16200/60000 [=======>......................] - ETA: 2s - loss: 0.1705 - acc: 0.9482"
       ]
      },
      {
       "output_type": "stream",
       "stream": "stdout",
       "text": [
        "\n",
        "17200/60000 [=======>......................] - ETA: 2s - loss: 0.1706 - acc: 0.9489"
       ]
      },
      {
       "output_type": "stream",
       "stream": "stdout",
       "text": [
        "\n",
        "18200/60000 [========>.....................] - ETA: 2s - loss: 0.1700 - acc: 0.9494"
       ]
      },
      {
       "output_type": "stream",
       "stream": "stdout",
       "text": [
        "\n",
        "19200/60000 [========>.....................] - ETA: 2s - loss: 0.1730 - acc: 0.9488"
       ]
      },
      {
       "output_type": "stream",
       "stream": "stdout",
       "text": [
        "\n",
        "20200/60000 [=========>....................] - ETA: 2s - loss: 0.1748 - acc: 0.9484"
       ]
      },
      {
       "output_type": "stream",
       "stream": "stdout",
       "text": [
        "\n",
        "21200/60000 [=========>....................] - ETA: 2s - loss: 0.1742 - acc: 0.9487"
       ]
      },
      {
       "output_type": "stream",
       "stream": "stdout",
       "text": [
        "\n",
        "22200/60000 [==========>...................] - ETA: 2s - loss: 0.1736 - acc: 0.9491"
       ]
      },
      {
       "output_type": "stream",
       "stream": "stdout",
       "text": [
        "\n",
        "23200/60000 [==========>...................] - ETA: 2s - loss: 0.1752 - acc: 0.9490"
       ]
      },
      {
       "output_type": "stream",
       "stream": "stdout",
       "text": [
        "\n",
        "24200/60000 [===========>..................] - ETA: 2s - loss: 0.1764 - acc: 0.9485"
       ]
      },
      {
       "output_type": "stream",
       "stream": "stdout",
       "text": [
        "\n",
        "25200/60000 [===========>..................] - ETA: 2s - loss: 0.1776 - acc: 0.9483"
       ]
      },
      {
       "output_type": "stream",
       "stream": "stdout",
       "text": [
        "\n",
        "26200/60000 [============>.................] - ETA: 1s - loss: 0.1771 - acc: 0.9483"
       ]
      },
      {
       "output_type": "stream",
       "stream": "stdout",
       "text": [
        "\n",
        "27200/60000 [============>.................] - ETA: 1s - loss: 0.1769 - acc: 0.9483"
       ]
      },
      {
       "output_type": "stream",
       "stream": "stdout",
       "text": [
        "\n",
        "28200/60000 [=============>................] - ETA: 1s - loss: 0.1777 - acc: 0.9479"
       ]
      },
      {
       "output_type": "stream",
       "stream": "stdout",
       "text": [
        "\n",
        "29200/60000 [=============>................] - ETA: 1s - loss: 0.1779 - acc: 0.9477"
       ]
      },
      {
       "output_type": "stream",
       "stream": "stdout",
       "text": [
        "\n",
        "30200/60000 [==============>...............] - ETA: 1s - loss: 0.1778 - acc: 0.9477"
       ]
      },
      {
       "output_type": "stream",
       "stream": "stdout",
       "text": [
        "\n",
        "31200/60000 [==============>...............] - ETA: 1s - loss: 0.1772 - acc: 0.9476"
       ]
      },
      {
       "output_type": "stream",
       "stream": "stdout",
       "text": [
        "\n",
        "32200/60000 [===============>..............] - ETA: 1s - loss: 0.1781 - acc: 0.9472"
       ]
      },
      {
       "output_type": "stream",
       "stream": "stdout",
       "text": [
        "\n",
        "33200/60000 [===============>..............] - ETA: 1s - loss: 0.1782 - acc: 0.9470"
       ]
      },
      {
       "output_type": "stream",
       "stream": "stdout",
       "text": [
        "\n",
        "34200/60000 [================>.............] - ETA: 1s - loss: 0.1779 - acc: 0.9469"
       ]
      },
      {
       "output_type": "stream",
       "stream": "stdout",
       "text": [
        "\n",
        "35200/60000 [================>.............] - ETA: 1s - loss: 0.1778 - acc: 0.9469"
       ]
      },
      {
       "output_type": "stream",
       "stream": "stdout",
       "text": [
        "\n",
        "36200/60000 [=================>............] - ETA: 1s - loss: 0.1780 - acc: 0.9468"
       ]
      },
      {
       "output_type": "stream",
       "stream": "stdout",
       "text": [
        "\n",
        "37200/60000 [=================>............] - ETA: 1s - loss: 0.1772 - acc: 0.9471"
       ]
      },
      {
       "output_type": "stream",
       "stream": "stdout",
       "text": [
        "\n",
        "38200/60000 [==================>...........] - ETA: 1s - loss: 0.1770 - acc: 0.9470"
       ]
      },
      {
       "output_type": "stream",
       "stream": "stdout",
       "text": [
        "\n",
        "39200/60000 [==================>...........] - ETA: 1s - loss: 0.1775 - acc: 0.9469"
       ]
      },
      {
       "output_type": "stream",
       "stream": "stdout",
       "text": [
        "\n",
        "40200/60000 [===================>..........] - ETA: 1s - loss: 0.1781 - acc: 0.9468"
       ]
      },
      {
       "output_type": "stream",
       "stream": "stdout",
       "text": [
        "\n",
        "41200/60000 [===================>..........] - ETA: 1s - loss: 0.1781 - acc: 0.9467"
       ]
      },
      {
       "output_type": "stream",
       "stream": "stdout",
       "text": [
        "\n",
        "42200/60000 [====================>.........] - ETA: 1s - loss: 0.1779 - acc: 0.9468"
       ]
      },
      {
       "output_type": "stream",
       "stream": "stdout",
       "text": [
        "\n",
        "43200/60000 [====================>.........] - ETA: 0s - loss: 0.1776 - acc: 0.9468"
       ]
      },
      {
       "output_type": "stream",
       "stream": "stdout",
       "text": [
        "\n",
        "44200/60000 [=====================>........] - ETA: 0s - loss: 0.1773 - acc: 0.9469"
       ]
      },
      {
       "output_type": "stream",
       "stream": "stdout",
       "text": [
        "\n",
        "45200/60000 [=====================>........] - ETA: 0s - loss: 0.1776 - acc: 0.9467"
       ]
      },
      {
       "output_type": "stream",
       "stream": "stdout",
       "text": [
        "\n",
        "46200/60000 [======================>.......] - ETA: 0s - loss: 0.1771 - acc: 0.9470"
       ]
      },
      {
       "output_type": "stream",
       "stream": "stdout",
       "text": [
        "\n",
        "47200/60000 [======================>.......] - ETA: 0s - loss: 0.1773 - acc: 0.9470"
       ]
      },
      {
       "output_type": "stream",
       "stream": "stdout",
       "text": [
        "\n",
        "48200/60000 [=======================>......] - ETA: 0s - loss: 0.1769 - acc: 0.9471"
       ]
      },
      {
       "output_type": "stream",
       "stream": "stdout",
       "text": [
        "\n",
        "49200/60000 [=======================>......] - ETA: 0s - loss: 0.1769 - acc: 0.9471"
       ]
      },
      {
       "output_type": "stream",
       "stream": "stdout",
       "text": [
        "\n",
        "50200/60000 [========================>.....] - ETA: 0s - loss: 0.1767 - acc: 0.9473"
       ]
      },
      {
       "output_type": "stream",
       "stream": "stdout",
       "text": [
        "\n",
        "51200/60000 [========================>.....] - ETA: 0s - loss: 0.1758 - acc: 0.9475"
       ]
      },
      {
       "output_type": "stream",
       "stream": "stdout",
       "text": [
        "\n",
        "52200/60000 [=========================>....] - ETA: 0s - loss: 0.1757 - acc: 0.9476"
       ]
      },
      {
       "output_type": "stream",
       "stream": "stdout",
       "text": [
        "\n",
        "53200/60000 [=========================>....] - ETA: 0s - loss: 0.1754 - acc: 0.9478"
       ]
      },
      {
       "output_type": "stream",
       "stream": "stdout",
       "text": [
        "\n",
        "54200/60000 [==========================>...] - ETA: 0s - loss: 0.1746 - acc: 0.9481"
       ]
      },
      {
       "output_type": "stream",
       "stream": "stdout",
       "text": [
        "\n",
        "55200/60000 [==========================>...] - ETA: 0s - loss: 0.1744 - acc: 0.9481"
       ]
      },
      {
       "output_type": "stream",
       "stream": "stdout",
       "text": [
        "\n",
        "56200/60000 [===========================>..] - ETA: 0s - loss: 0.1738 - acc: 0.9484"
       ]
      },
      {
       "output_type": "stream",
       "stream": "stdout",
       "text": [
        "\n",
        "57200/60000 [===========================>..] - ETA: 0s - loss: 0.1738 - acc: 0.9483"
       ]
      },
      {
       "output_type": "stream",
       "stream": "stdout",
       "text": [
        "\n",
        "58200/60000 [============================>.] - ETA: 0s - loss: 0.1737 - acc: 0.9484"
       ]
      },
      {
       "output_type": "stream",
       "stream": "stdout",
       "text": [
        "\n",
        "59200/60000 [============================>.] - ETA: 0s - loss: 0.1734 - acc: 0.9485"
       ]
      },
      {
       "output_type": "stream",
       "stream": "stdout",
       "text": [
        "\n",
        "60000/60000 [==============================] - 4s 62us/step - loss: 0.1732 - acc: 0.9485 - val_loss: 0.1678 - val_acc: 0.9513\n"
       ]
      },
      {
       "output_type": "stream",
       "stream": "stdout",
       "text": [
        "Epoch 6/10\n",
        "\n",
        "  200/60000 [..............................] - ETA: 4s - loss: 0.1692 - acc: 0.9450"
       ]
      },
      {
       "output_type": "stream",
       "stream": "stdout",
       "text": [
        "\n",
        " 1200/60000 [..............................] - ETA: 3s - loss: 0.1286 - acc: 0.9625"
       ]
      },
      {
       "output_type": "stream",
       "stream": "stdout",
       "text": [
        "\n",
        " 2200/60000 [>.............................] - ETA: 3s - loss: 0.1630 - acc: 0.9491"
       ]
      },
      {
       "output_type": "stream",
       "stream": "stdout",
       "text": [
        "\n",
        " 3200/60000 [>.............................] - ETA: 3s - loss: 0.1633 - acc: 0.9487"
       ]
      },
      {
       "output_type": "stream",
       "stream": "stdout",
       "text": [
        "\n",
        " 4200/60000 [=>............................] - ETA: 3s - loss: 0.1539 - acc: 0.9526"
       ]
      },
      {
       "output_type": "stream",
       "stream": "stdout",
       "text": [
        "\n",
        " 5200/60000 [=>............................] - ETA: 3s - loss: 0.1554 - acc: 0.9533"
       ]
      },
      {
       "output_type": "stream",
       "stream": "stdout",
       "text": [
        "\n",
        " 6200/60000 [==>...........................] - ETA: 3s - loss: 0.1529 - acc: 0.9521"
       ]
      },
      {
       "output_type": "stream",
       "stream": "stdout",
       "text": [
        "\n",
        " 7200/60000 [==>...........................] - ETA: 3s - loss: 0.1517 - acc: 0.9537"
       ]
      },
      {
       "output_type": "stream",
       "stream": "stdout",
       "text": [
        "\n",
        " 8200/60000 [===>..........................] - ETA: 3s - loss: 0.1543 - acc: 0.9528"
       ]
      },
      {
       "output_type": "stream",
       "stream": "stdout",
       "text": [
        "\n",
        " 9200/60000 [===>..........................] - ETA: 2s - loss: 0.1544 - acc: 0.9533"
       ]
      },
      {
       "output_type": "stream",
       "stream": "stdout",
       "text": [
        "\n",
        "10200/60000 [====>.........................] - ETA: 2s - loss: 0.1534 - acc: 0.9529"
       ]
      },
      {
       "output_type": "stream",
       "stream": "stdout",
       "text": [
        "\n",
        "11200/60000 [====>.........................] - ETA: 2s - loss: 0.1538 - acc: 0.9533"
       ]
      },
      {
       "output_type": "stream",
       "stream": "stdout",
       "text": [
        "\n",
        "12200/60000 [=====>........................] - ETA: 2s - loss: 0.1544 - acc: 0.9533"
       ]
      },
      {
       "output_type": "stream",
       "stream": "stdout",
       "text": [
        "\n",
        "13200/60000 [=====>........................] - ETA: 2s - loss: 0.1546 - acc: 0.9531"
       ]
      },
      {
       "output_type": "stream",
       "stream": "stdout",
       "text": [
        "\n",
        "14200/60000 [======>.......................] - ETA: 2s - loss: 0.1525 - acc: 0.9535"
       ]
      },
      {
       "output_type": "stream",
       "stream": "stdout",
       "text": [
        "\n",
        "15200/60000 [======>.......................] - ETA: 2s - loss: 0.1524 - acc: 0.9539"
       ]
      },
      {
       "output_type": "stream",
       "stream": "stdout",
       "text": [
        "\n",
        "16200/60000 [=======>......................] - ETA: 2s - loss: 0.1520 - acc: 0.9545"
       ]
      },
      {
       "output_type": "stream",
       "stream": "stdout",
       "text": [
        "\n",
        "17200/60000 [=======>......................] - ETA: 2s - loss: 0.1501 - acc: 0.9551"
       ]
      },
      {
       "output_type": "stream",
       "stream": "stdout",
       "text": [
        "\n",
        "18200/60000 [========>.....................] - ETA: 2s - loss: 0.1514 - acc: 0.9549"
       ]
      },
      {
       "output_type": "stream",
       "stream": "stdout",
       "text": [
        "\n",
        "19200/60000 [========>.....................] - ETA: 2s - loss: 0.1527 - acc: 0.9543"
       ]
      },
      {
       "output_type": "stream",
       "stream": "stdout",
       "text": [
        "\n",
        "20200/60000 [=========>....................] - ETA: 2s - loss: 0.1526 - acc: 0.9541"
       ]
      },
      {
       "output_type": "stream",
       "stream": "stdout",
       "text": [
        "\n",
        "21200/60000 [=========>....................] - ETA: 2s - loss: 0.1513 - acc: 0.9544"
       ]
      },
      {
       "output_type": "stream",
       "stream": "stdout",
       "text": [
        "\n",
        "22200/60000 [==========>...................] - ETA: 2s - loss: 0.1510 - acc: 0.9544"
       ]
      },
      {
       "output_type": "stream",
       "stream": "stdout",
       "text": [
        "\n",
        "23200/60000 [==========>...................] - ETA: 2s - loss: 0.1515 - acc: 0.9542"
       ]
      },
      {
       "output_type": "stream",
       "stream": "stdout",
       "text": [
        "\n",
        "24200/60000 [===========>..................] - ETA: 2s - loss: 0.1510 - acc: 0.9542"
       ]
      },
      {
       "output_type": "stream",
       "stream": "stdout",
       "text": [
        "\n",
        "25200/60000 [===========>..................] - ETA: 2s - loss: 0.1512 - acc: 0.9541"
       ]
      },
      {
       "output_type": "stream",
       "stream": "stdout",
       "text": [
        "\n",
        "26200/60000 [============>.................] - ETA: 1s - loss: 0.1517 - acc: 0.9544"
       ]
      },
      {
       "output_type": "stream",
       "stream": "stdout",
       "text": [
        "\n",
        "27200/60000 [============>.................] - ETA: 1s - loss: 0.1509 - acc: 0.9547"
       ]
      },
      {
       "output_type": "stream",
       "stream": "stdout",
       "text": [
        "\n",
        "28200/60000 [=============>................] - ETA: 1s - loss: 0.1500 - acc: 0.9548"
       ]
      },
      {
       "output_type": "stream",
       "stream": "stdout",
       "text": [
        "\n",
        "29200/60000 [=============>................] - ETA: 1s - loss: 0.1508 - acc: 0.9547"
       ]
      },
      {
       "output_type": "stream",
       "stream": "stdout",
       "text": [
        "\n",
        "30200/60000 [==============>...............] - ETA: 1s - loss: 0.1505 - acc: 0.9549"
       ]
      },
      {
       "output_type": "stream",
       "stream": "stdout",
       "text": [
        "\n",
        "31200/60000 [==============>...............] - ETA: 1s - loss: 0.1496 - acc: 0.9551"
       ]
      },
      {
       "output_type": "stream",
       "stream": "stdout",
       "text": [
        "\n",
        "32200/60000 [===============>..............] - ETA: 1s - loss: 0.1500 - acc: 0.9548"
       ]
      },
      {
       "output_type": "stream",
       "stream": "stdout",
       "text": [
        "\n",
        "33200/60000 [===============>..............] - ETA: 1s - loss: 0.1504 - acc: 0.9545"
       ]
      },
      {
       "output_type": "stream",
       "stream": "stdout",
       "text": [
        "\n",
        "34200/60000 [================>.............] - ETA: 1s - loss: 0.1503 - acc: 0.9546"
       ]
      },
      {
       "output_type": "stream",
       "stream": "stdout",
       "text": [
        "\n",
        "35200/60000 [================>.............] - ETA: 1s - loss: 0.1516 - acc: 0.9543"
       ]
      },
      {
       "output_type": "stream",
       "stream": "stdout",
       "text": [
        "\n",
        "36200/60000 [=================>............] - ETA: 1s - loss: 0.1519 - acc: 0.9541"
       ]
      },
      {
       "output_type": "stream",
       "stream": "stdout",
       "text": [
        "\n",
        "37200/60000 [=================>............] - ETA: 1s - loss: 0.1521 - acc: 0.9542"
       ]
      },
      {
       "output_type": "stream",
       "stream": "stdout",
       "text": [
        "\n",
        "38200/60000 [==================>...........] - ETA: 1s - loss: 0.1520 - acc: 0.9542"
       ]
      },
      {
       "output_type": "stream",
       "stream": "stdout",
       "text": [
        "\n",
        "39200/60000 [==================>...........] - ETA: 1s - loss: 0.1528 - acc: 0.9538"
       ]
      },
      {
       "output_type": "stream",
       "stream": "stdout",
       "text": [
        "\n",
        "40200/60000 [===================>..........] - ETA: 1s - loss: 0.1527 - acc: 0.9540"
       ]
      },
      {
       "output_type": "stream",
       "stream": "stdout",
       "text": [
        "\n",
        "41200/60000 [===================>..........] - ETA: 1s - loss: 0.1526 - acc: 0.9541"
       ]
      },
      {
       "output_type": "stream",
       "stream": "stdout",
       "text": [
        "\n",
        "42200/60000 [====================>.........] - ETA: 1s - loss: 0.1531 - acc: 0.9540"
       ]
      },
      {
       "output_type": "stream",
       "stream": "stdout",
       "text": [
        "\n",
        "43200/60000 [====================>.........] - ETA: 0s - loss: 0.1532 - acc: 0.9541"
       ]
      },
      {
       "output_type": "stream",
       "stream": "stdout",
       "text": [
        "\n",
        "44200/60000 [=====================>........] - ETA: 0s - loss: 0.1541 - acc: 0.9537"
       ]
      },
      {
       "output_type": "stream",
       "stream": "stdout",
       "text": [
        "\n",
        "45200/60000 [=====================>........] - ETA: 0s - loss: 0.1537 - acc: 0.9538"
       ]
      },
      {
       "output_type": "stream",
       "stream": "stdout",
       "text": [
        "\n",
        "46200/60000 [======================>.......] - ETA: 0s - loss: 0.1536 - acc: 0.9539"
       ]
      },
      {
       "output_type": "stream",
       "stream": "stdout",
       "text": [
        "\n",
        "47200/60000 [======================>.......] - ETA: 0s - loss: 0.1533 - acc: 0.9541"
       ]
      },
      {
       "output_type": "stream",
       "stream": "stdout",
       "text": [
        "\n",
        "48200/60000 [=======================>......] - ETA: 0s - loss: 0.1535 - acc: 0.9540"
       ]
      },
      {
       "output_type": "stream",
       "stream": "stdout",
       "text": [
        "\n",
        "49200/60000 [=======================>......] - ETA: 0s - loss: 0.1535 - acc: 0.9541"
       ]
      },
      {
       "output_type": "stream",
       "stream": "stdout",
       "text": [
        "\n",
        "50200/60000 [========================>.....] - ETA: 0s - loss: 0.1532 - acc: 0.9542"
       ]
      },
      {
       "output_type": "stream",
       "stream": "stdout",
       "text": [
        "\n",
        "51200/60000 [========================>.....] - ETA: 0s - loss: 0.1536 - acc: 0.9540"
       ]
      },
      {
       "output_type": "stream",
       "stream": "stdout",
       "text": [
        "\n",
        "52200/60000 [=========================>....] - ETA: 0s - loss: 0.1541 - acc: 0.9540"
       ]
      },
      {
       "output_type": "stream",
       "stream": "stdout",
       "text": [
        "\n",
        "53200/60000 [=========================>....] - ETA: 0s - loss: 0.1543 - acc: 0.9540"
       ]
      },
      {
       "output_type": "stream",
       "stream": "stdout",
       "text": [
        "\n",
        "54200/60000 [==========================>...] - ETA: 0s - loss: 0.1539 - acc: 0.9541"
       ]
      },
      {
       "output_type": "stream",
       "stream": "stdout",
       "text": [
        "\n",
        "55200/60000 [==========================>...] - ETA: 0s - loss: 0.1534 - acc: 0.9543"
       ]
      },
      {
       "output_type": "stream",
       "stream": "stdout",
       "text": [
        "\n",
        "56200/60000 [===========================>..] - ETA: 0s - loss: 0.1535 - acc: 0.9543"
       ]
      },
      {
       "output_type": "stream",
       "stream": "stdout",
       "text": [
        "\n",
        "57200/60000 [===========================>..] - ETA: 0s - loss: 0.1532 - acc: 0.9544"
       ]
      },
      {
       "output_type": "stream",
       "stream": "stdout",
       "text": [
        "\n",
        "58200/60000 [============================>.] - ETA: 0s - loss: 0.1532 - acc: 0.9543"
       ]
      },
      {
       "output_type": "stream",
       "stream": "stdout",
       "text": [
        "\n",
        "59200/60000 [============================>.] - ETA: 0s - loss: 0.1530 - acc: 0.9543"
       ]
      },
      {
       "output_type": "stream",
       "stream": "stdout",
       "text": [
        "\n",
        "60000/60000 [==============================] - 4s 62us/step - loss: 0.1532 - acc: 0.9544 - val_loss: 0.1409 - val_acc: 0.9604\n"
       ]
      },
      {
       "output_type": "stream",
       "stream": "stdout",
       "text": [
        "Epoch 7/10\n",
        "\n",
        "  200/60000 [..............................] - ETA: 4s - loss: 0.1123 - acc: 0.9700"
       ]
      },
      {
       "output_type": "stream",
       "stream": "stdout",
       "text": [
        "\n",
        " 1200/60000 [..............................] - ETA: 3s - loss: 0.1224 - acc: 0.9658"
       ]
      },
      {
       "output_type": "stream",
       "stream": "stdout",
       "text": [
        "\n",
        " 2200/60000 [>.............................] - ETA: 3s - loss: 0.1253 - acc: 0.9645"
       ]
      },
      {
       "output_type": "stream",
       "stream": "stdout",
       "text": [
        "\n",
        " 3200/60000 [>.............................] - ETA: 3s - loss: 0.1366 - acc: 0.9584"
       ]
      },
      {
       "output_type": "stream",
       "stream": "stdout",
       "text": [
        "\n",
        " 4200/60000 [=>............................] - ETA: 3s - loss: 0.1337 - acc: 0.9605"
       ]
      },
      {
       "output_type": "stream",
       "stream": "stdout",
       "text": [
        "\n",
        " 5200/60000 [=>............................] - ETA: 3s - loss: 0.1349 - acc: 0.9596"
       ]
      },
      {
       "output_type": "stream",
       "stream": "stdout",
       "text": [
        "\n",
        " 6200/60000 [==>...........................] - ETA: 3s - loss: 0.1359 - acc: 0.9589"
       ]
      },
      {
       "output_type": "stream",
       "stream": "stdout",
       "text": [
        "\n",
        " 7200/60000 [==>...........................] - ETA: 3s - loss: 0.1358 - acc: 0.9583"
       ]
      },
      {
       "output_type": "stream",
       "stream": "stdout",
       "text": [
        "\n",
        " 8200/60000 [===>..........................] - ETA: 3s - loss: 0.1387 - acc: 0.9579"
       ]
      },
      {
       "output_type": "stream",
       "stream": "stdout",
       "text": [
        "\n",
        " 9200/60000 [===>..........................] - ETA: 3s - loss: 0.1377 - acc: 0.9578"
       ]
      },
      {
       "output_type": "stream",
       "stream": "stdout",
       "text": [
        "\n",
        "10200/60000 [====>.........................] - ETA: 2s - loss: 0.1367 - acc: 0.9575"
       ]
      },
      {
       "output_type": "stream",
       "stream": "stdout",
       "text": [
        "\n",
        "11200/60000 [====>.........................] - ETA: 2s - loss: 0.1381 - acc: 0.9569"
       ]
      },
      {
       "output_type": "stream",
       "stream": "stdout",
       "text": [
        "\n",
        "12200/60000 [=====>........................] - ETA: 2s - loss: 0.1380 - acc: 0.9570"
       ]
      },
      {
       "output_type": "stream",
       "stream": "stdout",
       "text": [
        "\n",
        "13200/60000 [=====>........................] - ETA: 2s - loss: 0.1378 - acc: 0.9572"
       ]
      },
      {
       "output_type": "stream",
       "stream": "stdout",
       "text": [
        "\n",
        "14200/60000 [======>.......................] - ETA: 2s - loss: 0.1395 - acc: 0.9563"
       ]
      },
      {
       "output_type": "stream",
       "stream": "stdout",
       "text": [
        "\n",
        "15200/60000 [======>.......................] - ETA: 2s - loss: 0.1399 - acc: 0.9561"
       ]
      },
      {
       "output_type": "stream",
       "stream": "stdout",
       "text": [
        "\n",
        "16200/60000 [=======>......................] - ETA: 2s - loss: 0.1394 - acc: 0.9567"
       ]
      },
      {
       "output_type": "stream",
       "stream": "stdout",
       "text": [
        "\n",
        "17200/60000 [=======>......................] - ETA: 2s - loss: 0.1410 - acc: 0.9562"
       ]
      },
      {
       "output_type": "stream",
       "stream": "stdout",
       "text": [
        "\n",
        "18200/60000 [========>.....................] - ETA: 2s - loss: 0.1413 - acc: 0.9566"
       ]
      },
      {
       "output_type": "stream",
       "stream": "stdout",
       "text": [
        "\n",
        "19200/60000 [========>.....................] - ETA: 2s - loss: 0.1394 - acc: 0.9573"
       ]
      },
      {
       "output_type": "stream",
       "stream": "stdout",
       "text": [
        "\n",
        "20200/60000 [=========>....................] - ETA: 2s - loss: 0.1401 - acc: 0.9573"
       ]
      },
      {
       "output_type": "stream",
       "stream": "stdout",
       "text": [
        "\n",
        "21200/60000 [=========>....................] - ETA: 2s - loss: 0.1404 - acc: 0.9571"
       ]
      },
      {
       "output_type": "stream",
       "stream": "stdout",
       "text": [
        "\n",
        "22200/60000 [==========>...................] - ETA: 2s - loss: 0.1406 - acc: 0.9570"
       ]
      },
      {
       "output_type": "stream",
       "stream": "stdout",
       "text": [
        "\n",
        "23200/60000 [==========>...................] - ETA: 2s - loss: 0.1398 - acc: 0.9573"
       ]
      },
      {
       "output_type": "stream",
       "stream": "stdout",
       "text": [
        "\n",
        "24200/60000 [===========>..................] - ETA: 2s - loss: 0.1392 - acc: 0.9577"
       ]
      },
      {
       "output_type": "stream",
       "stream": "stdout",
       "text": [
        "\n",
        "25200/60000 [===========>..................] - ETA: 2s - loss: 0.1399 - acc: 0.9579"
       ]
      },
      {
       "output_type": "stream",
       "stream": "stdout",
       "text": [
        "\n",
        "26200/60000 [============>.................] - ETA: 2s - loss: 0.1393 - acc: 0.9582"
       ]
      },
      {
       "output_type": "stream",
       "stream": "stdout",
       "text": [
        "\n",
        "27200/60000 [============>.................] - ETA: 1s - loss: 0.1398 - acc: 0.9583"
       ]
      },
      {
       "output_type": "stream",
       "stream": "stdout",
       "text": [
        "\n",
        "28200/60000 [=============>................] - ETA: 1s - loss: 0.1392 - acc: 0.9587"
       ]
      },
      {
       "output_type": "stream",
       "stream": "stdout",
       "text": [
        "\n",
        "29200/60000 [=============>................] - ETA: 1s - loss: 0.1401 - acc: 0.9585"
       ]
      },
      {
       "output_type": "stream",
       "stream": "stdout",
       "text": [
        "\n",
        "30200/60000 [==============>...............] - ETA: 1s - loss: 0.1401 - acc: 0.9586"
       ]
      },
      {
       "output_type": "stream",
       "stream": "stdout",
       "text": [
        "\n",
        "31200/60000 [==============>...............] - ETA: 1s - loss: 0.1400 - acc: 0.9585"
       ]
      },
      {
       "output_type": "stream",
       "stream": "stdout",
       "text": [
        "\n",
        "32200/60000 [===============>..............] - ETA: 1s - loss: 0.1412 - acc: 0.9583"
       ]
      },
      {
       "output_type": "stream",
       "stream": "stdout",
       "text": [
        "\n",
        "33200/60000 [===============>..............] - ETA: 1s - loss: 0.1407 - acc: 0.9585"
       ]
      },
      {
       "output_type": "stream",
       "stream": "stdout",
       "text": [
        "\n",
        "34200/60000 [================>.............] - ETA: 1s - loss: 0.1411 - acc: 0.9581"
       ]
      },
      {
       "output_type": "stream",
       "stream": "stdout",
       "text": [
        "\n",
        "35200/60000 [================>.............] - ETA: 1s - loss: 0.1414 - acc: 0.9581"
       ]
      },
      {
       "output_type": "stream",
       "stream": "stdout",
       "text": [
        "\n",
        "36200/60000 [=================>............] - ETA: 1s - loss: 0.1417 - acc: 0.9581"
       ]
      },
      {
       "output_type": "stream",
       "stream": "stdout",
       "text": [
        "\n",
        "37200/60000 [=================>............] - ETA: 1s - loss: 0.1422 - acc: 0.9578"
       ]
      },
      {
       "output_type": "stream",
       "stream": "stdout",
       "text": [
        "\n",
        "38200/60000 [==================>...........] - ETA: 1s - loss: 0.1421 - acc: 0.9578"
       ]
      },
      {
       "output_type": "stream",
       "stream": "stdout",
       "text": [
        "\n",
        "39200/60000 [==================>...........] - ETA: 1s - loss: 0.1415 - acc: 0.9580"
       ]
      },
      {
       "output_type": "stream",
       "stream": "stdout",
       "text": [
        "\n",
        "40200/60000 [===================>..........] - ETA: 1s - loss: 0.1411 - acc: 0.9580"
       ]
      },
      {
       "output_type": "stream",
       "stream": "stdout",
       "text": [
        "\n",
        "41200/60000 [===================>..........] - ETA: 1s - loss: 0.1407 - acc: 0.9580"
       ]
      },
      {
       "output_type": "stream",
       "stream": "stdout",
       "text": [
        "\n",
        "42200/60000 [====================>.........] - ETA: 1s - loss: 0.1399 - acc: 0.9585"
       ]
      },
      {
       "output_type": "stream",
       "stream": "stdout",
       "text": [
        "\n",
        "43200/60000 [====================>.........] - ETA: 0s - loss: 0.1395 - acc: 0.9586"
       ]
      },
      {
       "output_type": "stream",
       "stream": "stdout",
       "text": [
        "\n",
        "44200/60000 [=====================>........] - ETA: 0s - loss: 0.1387 - acc: 0.9588"
       ]
      },
      {
       "output_type": "stream",
       "stream": "stdout",
       "text": [
        "\n",
        "45200/60000 [=====================>........] - ETA: 0s - loss: 0.1384 - acc: 0.9589"
       ]
      },
      {
       "output_type": "stream",
       "stream": "stdout",
       "text": [
        "\n",
        "46200/60000 [======================>.......] - ETA: 0s - loss: 0.1386 - acc: 0.9587"
       ]
      },
      {
       "output_type": "stream",
       "stream": "stdout",
       "text": [
        "\n",
        "47200/60000 [======================>.......] - ETA: 0s - loss: 0.1386 - acc: 0.9588"
       ]
      },
      {
       "output_type": "stream",
       "stream": "stdout",
       "text": [
        "\n",
        "48200/60000 [=======================>......] - ETA: 0s - loss: 0.1382 - acc: 0.9590"
       ]
      },
      {
       "output_type": "stream",
       "stream": "stdout",
       "text": [
        "\n",
        "49200/60000 [=======================>......] - ETA: 0s - loss: 0.1381 - acc: 0.9590"
       ]
      },
      {
       "output_type": "stream",
       "stream": "stdout",
       "text": [
        "\n",
        "50200/60000 [========================>.....] - ETA: 0s - loss: 0.1381 - acc: 0.9591"
       ]
      },
      {
       "output_type": "stream",
       "stream": "stdout",
       "text": [
        "\n",
        "51200/60000 [========================>.....] - ETA: 0s - loss: 0.1379 - acc: 0.9592"
       ]
      },
      {
       "output_type": "stream",
       "stream": "stdout",
       "text": [
        "\n",
        "52200/60000 [=========================>....] - ETA: 0s - loss: 0.1377 - acc: 0.9592"
       ]
      },
      {
       "output_type": "stream",
       "stream": "stdout",
       "text": [
        "\n",
        "53200/60000 [=========================>....] - ETA: 0s - loss: 0.1375 - acc: 0.9593"
       ]
      },
      {
       "output_type": "stream",
       "stream": "stdout",
       "text": [
        "\n",
        "54200/60000 [==========================>...] - ETA: 0s - loss: 0.1375 - acc: 0.9593"
       ]
      },
      {
       "output_type": "stream",
       "stream": "stdout",
       "text": [
        "\n",
        "55200/60000 [==========================>...] - ETA: 0s - loss: 0.1376 - acc: 0.9592"
       ]
      },
      {
       "output_type": "stream",
       "stream": "stdout",
       "text": [
        "\n",
        "56200/60000 [===========================>..] - ETA: 0s - loss: 0.1374 - acc: 0.9593"
       ]
      },
      {
       "output_type": "stream",
       "stream": "stdout",
       "text": [
        "\n",
        "57200/60000 [===========================>..] - ETA: 0s - loss: 0.1368 - acc: 0.9594"
       ]
      },
      {
       "output_type": "stream",
       "stream": "stdout",
       "text": [
        "\n",
        "58200/60000 [============================>.] - ETA: 0s - loss: 0.1365 - acc: 0.9594"
       ]
      },
      {
       "output_type": "stream",
       "stream": "stdout",
       "text": [
        "\n",
        "59200/60000 [============================>.] - ETA: 0s - loss: 0.1368 - acc: 0.9592"
       ]
      },
      {
       "output_type": "stream",
       "stream": "stdout",
       "text": [
        "\n",
        "60000/60000 [==============================] - 4s 63us/step - loss: 0.1372 - acc: 0.9592 - val_loss: 0.1332 - val_acc: 0.9601\n"
       ]
      },
      {
       "output_type": "stream",
       "stream": "stdout",
       "text": [
        "Epoch 8/10\n",
        "\n",
        "  200/60000 [..............................] - ETA: 4s - loss: 0.1585 - acc: 0.9600"
       ]
      },
      {
       "output_type": "stream",
       "stream": "stdout",
       "text": [
        "\n",
        " 1200/60000 [..............................] - ETA: 3s - loss: 0.1220 - acc: 0.9642"
       ]
      },
      {
       "output_type": "stream",
       "stream": "stdout",
       "text": [
        "\n",
        " 2200/60000 [>.............................] - ETA: 3s - loss: 0.1225 - acc: 0.9632"
       ]
      },
      {
       "output_type": "stream",
       "stream": "stdout",
       "text": [
        "\n",
        " 3200/60000 [>.............................] - ETA: 3s - loss: 0.1133 - acc: 0.9644"
       ]
      },
      {
       "output_type": "stream",
       "stream": "stdout",
       "text": [
        "\n",
        " 4200/60000 [=>............................] - ETA: 3s - loss: 0.1190 - acc: 0.9629"
       ]
      },
      {
       "output_type": "stream",
       "stream": "stdout",
       "text": [
        "\n",
        " 5200/60000 [=>............................] - ETA: 3s - loss: 0.1159 - acc: 0.9631"
       ]
      },
      {
       "output_type": "stream",
       "stream": "stdout",
       "text": [
        "\n",
        " 6200/60000 [==>...........................] - ETA: 3s - loss: 0.1181 - acc: 0.9626"
       ]
      },
      {
       "output_type": "stream",
       "stream": "stdout",
       "text": [
        "\n",
        " 7200/60000 [==>...........................] - ETA: 3s - loss: 0.1179 - acc: 0.9632"
       ]
      },
      {
       "output_type": "stream",
       "stream": "stdout",
       "text": [
        "\n",
        " 8200/60000 [===>..........................] - ETA: 3s - loss: 0.1199 - acc: 0.9624"
       ]
      },
      {
       "output_type": "stream",
       "stream": "stdout",
       "text": [
        "\n",
        " 9200/60000 [===>..........................] - ETA: 2s - loss: 0.1211 - acc: 0.9622"
       ]
      },
      {
       "output_type": "stream",
       "stream": "stdout",
       "text": [
        "\n",
        "10200/60000 [====>.........................] - ETA: 2s - loss: 0.1201 - acc: 0.9624"
       ]
      },
      {
       "output_type": "stream",
       "stream": "stdout",
       "text": [
        "\n",
        "11200/60000 [====>.........................] - ETA: 2s - loss: 0.1204 - acc: 0.9627"
       ]
      },
      {
       "output_type": "stream",
       "stream": "stdout",
       "text": [
        "\n",
        "12000/60000 [=====>........................] - ETA: 2s - loss: 0.1227 - acc: 0.9617"
       ]
      },
      {
       "output_type": "stream",
       "stream": "stdout",
       "text": [
        "\n",
        "13000/60000 [=====>........................] - ETA: 2s - loss: 0.1228 - acc: 0.9620"
       ]
      },
      {
       "output_type": "stream",
       "stream": "stdout",
       "text": [
        "\n",
        "14000/60000 [======>.......................] - ETA: 2s - loss: 0.1224 - acc: 0.9621"
       ]
      },
      {
       "output_type": "stream",
       "stream": "stdout",
       "text": [
        "\n",
        "15000/60000 [======>.......................] - ETA: 2s - loss: 0.1225 - acc: 0.9621"
       ]
      },
      {
       "output_type": "stream",
       "stream": "stdout",
       "text": [
        "\n",
        "16000/60000 [=======>......................] - ETA: 2s - loss: 0.1247 - acc: 0.9619"
       ]
      },
      {
       "output_type": "stream",
       "stream": "stdout",
       "text": [
        "\n",
        "17000/60000 [=======>......................] - ETA: 2s - loss: 0.1254 - acc: 0.9616"
       ]
      },
      {
       "output_type": "stream",
       "stream": "stdout",
       "text": [
        "\n",
        "18000/60000 [========>.....................] - ETA: 2s - loss: 0.1260 - acc: 0.9618"
       ]
      },
      {
       "output_type": "stream",
       "stream": "stdout",
       "text": [
        "\n",
        "19000/60000 [========>.....................] - ETA: 2s - loss: 0.1255 - acc: 0.9620"
       ]
      },
      {
       "output_type": "stream",
       "stream": "stdout",
       "text": [
        "\n",
        "20000/60000 [=========>....................] - ETA: 2s - loss: 0.1258 - acc: 0.9621"
       ]
      },
      {
       "output_type": "stream",
       "stream": "stdout",
       "text": [
        "\n",
        "21000/60000 [=========>....................] - ETA: 2s - loss: 0.1268 - acc: 0.9619"
       ]
      },
      {
       "output_type": "stream",
       "stream": "stdout",
       "text": [
        "\n",
        "22000/60000 [==========>...................] - ETA: 2s - loss: 0.1265 - acc: 0.9622"
       ]
      },
      {
       "output_type": "stream",
       "stream": "stdout",
       "text": [
        "\n",
        "23000/60000 [==========>...................] - ETA: 2s - loss: 0.1256 - acc: 0.9626"
       ]
      },
      {
       "output_type": "stream",
       "stream": "stdout",
       "text": [
        "\n",
        "24000/60000 [===========>..................] - ETA: 2s - loss: 0.1264 - acc: 0.9623"
       ]
      },
      {
       "output_type": "stream",
       "stream": "stdout",
       "text": [
        "\n",
        "25000/60000 [===========>..................] - ETA: 2s - loss: 0.1260 - acc: 0.9624"
       ]
      },
      {
       "output_type": "stream",
       "stream": "stdout",
       "text": [
        "\n",
        "26000/60000 [============>.................] - ETA: 2s - loss: 0.1259 - acc: 0.9624"
       ]
      },
      {
       "output_type": "stream",
       "stream": "stdout",
       "text": [
        "\n",
        "27000/60000 [============>.................] - ETA: 1s - loss: 0.1270 - acc: 0.9621"
       ]
      },
      {
       "output_type": "stream",
       "stream": "stdout",
       "text": [
        "\n",
        "28000/60000 [=============>................] - ETA: 1s - loss: 0.1263 - acc: 0.9625"
       ]
      },
      {
       "output_type": "stream",
       "stream": "stdout",
       "text": [
        "\n",
        "29000/60000 [=============>................] - ETA: 1s - loss: 0.1260 - acc: 0.9626"
       ]
      },
      {
       "output_type": "stream",
       "stream": "stdout",
       "text": [
        "\n",
        "30000/60000 [==============>...............] - ETA: 1s - loss: 0.1265 - acc: 0.9625"
       ]
      },
      {
       "output_type": "stream",
       "stream": "stdout",
       "text": [
        "\n",
        "31000/60000 [==============>...............] - ETA: 1s - loss: 0.1267 - acc: 0.9624"
       ]
      },
      {
       "output_type": "stream",
       "stream": "stdout",
       "text": [
        "\n",
        "32000/60000 [===============>..............] - ETA: 1s - loss: 0.1265 - acc: 0.9624"
       ]
      },
      {
       "output_type": "stream",
       "stream": "stdout",
       "text": [
        "\n",
        "33000/60000 [===============>..............] - ETA: 1s - loss: 0.1265 - acc: 0.9623"
       ]
      },
      {
       "output_type": "stream",
       "stream": "stdout",
       "text": [
        "\n",
        "34000/60000 [================>.............] - ETA: 1s - loss: 0.1270 - acc: 0.9621"
       ]
      },
      {
       "output_type": "stream",
       "stream": "stdout",
       "text": [
        "\n",
        "35000/60000 [================>.............] - ETA: 1s - loss: 0.1267 - acc: 0.9623"
       ]
      },
      {
       "output_type": "stream",
       "stream": "stdout",
       "text": [
        "\n",
        "36000/60000 [=================>............] - ETA: 1s - loss: 0.1268 - acc: 0.9622"
       ]
      },
      {
       "output_type": "stream",
       "stream": "stdout",
       "text": [
        "\n",
        "37000/60000 [=================>............] - ETA: 1s - loss: 0.1272 - acc: 0.9620"
       ]
      },
      {
       "output_type": "stream",
       "stream": "stdout",
       "text": [
        "\n",
        "38000/60000 [==================>...........] - ETA: 1s - loss: 0.1261 - acc: 0.9625"
       ]
      },
      {
       "output_type": "stream",
       "stream": "stdout",
       "text": [
        "\n",
        "39000/60000 [==================>...........] - ETA: 1s - loss: 0.1259 - acc: 0.9626"
       ]
      },
      {
       "output_type": "stream",
       "stream": "stdout",
       "text": [
        "\n",
        "40000/60000 [===================>..........] - ETA: 1s - loss: 0.1257 - acc: 0.9626"
       ]
      },
      {
       "output_type": "stream",
       "stream": "stdout",
       "text": [
        "\n",
        "41000/60000 [===================>..........] - ETA: 1s - loss: 0.1257 - acc: 0.9627"
       ]
      },
      {
       "output_type": "stream",
       "stream": "stdout",
       "text": [
        "\n",
        "42000/60000 [====================>.........] - ETA: 1s - loss: 0.1252 - acc: 0.9630"
       ]
      },
      {
       "output_type": "stream",
       "stream": "stdout",
       "text": [
        "\n",
        "43000/60000 [====================>.........] - ETA: 0s - loss: 0.1252 - acc: 0.9631"
       ]
      },
      {
       "output_type": "stream",
       "stream": "stdout",
       "text": [
        "\n",
        "44000/60000 [=====================>........] - ETA: 0s - loss: 0.1254 - acc: 0.9632"
       ]
      },
      {
       "output_type": "stream",
       "stream": "stdout",
       "text": [
        "\n",
        "45000/60000 [=====================>........] - ETA: 0s - loss: 0.1248 - acc: 0.9632"
       ]
      },
      {
       "output_type": "stream",
       "stream": "stdout",
       "text": [
        "\n",
        "46000/60000 [======================>.......] - ETA: 0s - loss: 0.1245 - acc: 0.9632"
       ]
      },
      {
       "output_type": "stream",
       "stream": "stdout",
       "text": [
        "\n",
        "47000/60000 [======================>.......] - ETA: 0s - loss: 0.1245 - acc: 0.9631"
       ]
      },
      {
       "output_type": "stream",
       "stream": "stdout",
       "text": [
        "\n",
        "48000/60000 [=======================>......] - ETA: 0s - loss: 0.1249 - acc: 0.9630"
       ]
      },
      {
       "output_type": "stream",
       "stream": "stdout",
       "text": [
        "\n",
        "49000/60000 [=======================>......] - ETA: 0s - loss: 0.1251 - acc: 0.9631"
       ]
      },
      {
       "output_type": "stream",
       "stream": "stdout",
       "text": [
        "\n",
        "50000/60000 [========================>.....] - ETA: 0s - loss: 0.1247 - acc: 0.9634"
       ]
      },
      {
       "output_type": "stream",
       "stream": "stdout",
       "text": [
        "\n",
        "51000/60000 [========================>.....] - ETA: 0s - loss: 0.1246 - acc: 0.9634"
       ]
      },
      {
       "output_type": "stream",
       "stream": "stdout",
       "text": [
        "\n",
        "52000/60000 [=========================>....] - ETA: 0s - loss: 0.1244 - acc: 0.9634"
       ]
      },
      {
       "output_type": "stream",
       "stream": "stdout",
       "text": [
        "\n",
        "53000/60000 [=========================>....] - ETA: 0s - loss: 0.1240 - acc: 0.9635"
       ]
      },
      {
       "output_type": "stream",
       "stream": "stdout",
       "text": [
        "\n",
        "54000/60000 [==========================>...] - ETA: 0s - loss: 0.1238 - acc: 0.9635"
       ]
      },
      {
       "output_type": "stream",
       "stream": "stdout",
       "text": [
        "\n",
        "55000/60000 [==========================>...] - ETA: 0s - loss: 0.1240 - acc: 0.9634"
       ]
      },
      {
       "output_type": "stream",
       "stream": "stdout",
       "text": [
        "\n",
        "56000/60000 [===========================>..] - ETA: 0s - loss: 0.1240 - acc: 0.9633"
       ]
      },
      {
       "output_type": "stream",
       "stream": "stdout",
       "text": [
        "\n",
        "57000/60000 [===========================>..] - ETA: 0s - loss: 0.1241 - acc: 0.9632"
       ]
      },
      {
       "output_type": "stream",
       "stream": "stdout",
       "text": [
        "\n",
        "58000/60000 [============================>.] - ETA: 0s - loss: 0.1236 - acc: 0.9634"
       ]
      },
      {
       "output_type": "stream",
       "stream": "stdout",
       "text": [
        "\n",
        "59000/60000 [============================>.] - ETA: 0s - loss: 0.1240 - acc: 0.9633"
       ]
      },
      {
       "output_type": "stream",
       "stream": "stdout",
       "text": [
        "\n",
        "60000/60000 [==============================] - 4s 62us/step - loss: 0.1235 - acc: 0.9633 - val_loss: 0.1141 - val_acc: 0.9672\n"
       ]
      },
      {
       "output_type": "stream",
       "stream": "stdout",
       "text": [
        "Epoch 9/10\n",
        "\n",
        "  200/60000 [..............................] - ETA: 4s - loss: 0.1384 - acc: 0.9650"
       ]
      },
      {
       "output_type": "stream",
       "stream": "stdout",
       "text": [
        "\n",
        " 1200/60000 [..............................] - ETA: 3s - loss: 0.1389 - acc: 0.9600"
       ]
      },
      {
       "output_type": "stream",
       "stream": "stdout",
       "text": [
        "\n",
        " 2200/60000 [>.............................] - ETA: 3s - loss: 0.1235 - acc: 0.9645"
       ]
      },
      {
       "output_type": "stream",
       "stream": "stdout",
       "text": [
        "\n",
        " 3200/60000 [>.............................] - ETA: 3s - loss: 0.1195 - acc: 0.9647"
       ]
      },
      {
       "output_type": "stream",
       "stream": "stdout",
       "text": [
        "\n",
        " 4200/60000 [=>............................] - ETA: 3s - loss: 0.1155 - acc: 0.9669"
       ]
      },
      {
       "output_type": "stream",
       "stream": "stdout",
       "text": [
        "\n",
        " 5200/60000 [=>............................] - ETA: 3s - loss: 0.1160 - acc: 0.9665"
       ]
      },
      {
       "output_type": "stream",
       "stream": "stdout",
       "text": [
        "\n",
        " 6200/60000 [==>...........................] - ETA: 3s - loss: 0.1176 - acc: 0.9661"
       ]
      },
      {
       "output_type": "stream",
       "stream": "stdout",
       "text": [
        "\n",
        " 7200/60000 [==>...........................] - ETA: 3s - loss: 0.1220 - acc: 0.9650"
       ]
      },
      {
       "output_type": "stream",
       "stream": "stdout",
       "text": [
        "\n",
        " 8200/60000 [===>..........................] - ETA: 3s - loss: 0.1195 - acc: 0.9650"
       ]
      },
      {
       "output_type": "stream",
       "stream": "stdout",
       "text": [
        "\n",
        " 9200/60000 [===>..........................] - ETA: 2s - loss: 0.1240 - acc: 0.9630"
       ]
      },
      {
       "output_type": "stream",
       "stream": "stdout",
       "text": [
        "\n",
        "10200/60000 [====>.........................] - ETA: 2s - loss: 0.1226 - acc: 0.9632"
       ]
      },
      {
       "output_type": "stream",
       "stream": "stdout",
       "text": [
        "\n",
        "11200/60000 [====>.........................] - ETA: 2s - loss: 0.1222 - acc: 0.9636"
       ]
      },
      {
       "output_type": "stream",
       "stream": "stdout",
       "text": [
        "\n",
        "12200/60000 [=====>........................] - ETA: 2s - loss: 0.1225 - acc: 0.9633"
       ]
      },
      {
       "output_type": "stream",
       "stream": "stdout",
       "text": [
        "\n",
        "13200/60000 [=====>........................] - ETA: 2s - loss: 0.1221 - acc: 0.9631"
       ]
      },
      {
       "output_type": "stream",
       "stream": "stdout",
       "text": [
        "\n",
        "14200/60000 [======>.......................] - ETA: 2s - loss: 0.1200 - acc: 0.9642"
       ]
      },
      {
       "output_type": "stream",
       "stream": "stdout",
       "text": [
        "\n",
        "15200/60000 [======>.......................] - ETA: 2s - loss: 0.1195 - acc: 0.9642"
       ]
      },
      {
       "output_type": "stream",
       "stream": "stdout",
       "text": [
        "\n",
        "16200/60000 [=======>......................] - ETA: 2s - loss: 0.1197 - acc: 0.9638"
       ]
      },
      {
       "output_type": "stream",
       "stream": "stdout",
       "text": [
        "\n",
        "17200/60000 [=======>......................] - ETA: 2s - loss: 0.1212 - acc: 0.9630"
       ]
      },
      {
       "output_type": "stream",
       "stream": "stdout",
       "text": [
        "\n",
        "18200/60000 [========>.....................] - ETA: 2s - loss: 0.1228 - acc: 0.9631"
       ]
      },
      {
       "output_type": "stream",
       "stream": "stdout",
       "text": [
        "\n",
        "19200/60000 [========>.....................] - ETA: 2s - loss: 0.1220 - acc: 0.9632"
       ]
      },
      {
       "output_type": "stream",
       "stream": "stdout",
       "text": [
        "\n",
        "20200/60000 [=========>....................] - ETA: 2s - loss: 0.1210 - acc: 0.9633"
       ]
      },
      {
       "output_type": "stream",
       "stream": "stdout",
       "text": [
        "\n",
        "21200/60000 [=========>....................] - ETA: 2s - loss: 0.1210 - acc: 0.9634"
       ]
      },
      {
       "output_type": "stream",
       "stream": "stdout",
       "text": [
        "\n",
        "22200/60000 [==========>...................] - ETA: 2s - loss: 0.1206 - acc: 0.9635"
       ]
      },
      {
       "output_type": "stream",
       "stream": "stdout",
       "text": [
        "\n",
        "23200/60000 [==========>...................] - ETA: 2s - loss: 0.1209 - acc: 0.9632"
       ]
      },
      {
       "output_type": "stream",
       "stream": "stdout",
       "text": [
        "\n",
        "24200/60000 [===========>..................] - ETA: 2s - loss: 0.1206 - acc: 0.9631"
       ]
      },
      {
       "output_type": "stream",
       "stream": "stdout",
       "text": [
        "\n",
        "25200/60000 [===========>..................] - ETA: 2s - loss: 0.1198 - acc: 0.9635"
       ]
      },
      {
       "output_type": "stream",
       "stream": "stdout",
       "text": [
        "\n",
        "26200/60000 [============>.................] - ETA: 1s - loss: 0.1193 - acc: 0.9637"
       ]
      },
      {
       "output_type": "stream",
       "stream": "stdout",
       "text": [
        "\n",
        "27200/60000 [============>.................] - ETA: 1s - loss: 0.1198 - acc: 0.9637"
       ]
      },
      {
       "output_type": "stream",
       "stream": "stdout",
       "text": [
        "\n",
        "28200/60000 [=============>................] - ETA: 1s - loss: 0.1194 - acc: 0.9639"
       ]
      },
      {
       "output_type": "stream",
       "stream": "stdout",
       "text": [
        "\n",
        "29200/60000 [=============>................] - ETA: 1s - loss: 0.1190 - acc: 0.9638"
       ]
      },
      {
       "output_type": "stream",
       "stream": "stdout",
       "text": [
        "\n",
        "30200/60000 [==============>...............] - ETA: 1s - loss: 0.1185 - acc: 0.9638"
       ]
      },
      {
       "output_type": "stream",
       "stream": "stdout",
       "text": [
        "\n",
        "31200/60000 [==============>...............] - ETA: 1s - loss: 0.1178 - acc: 0.9642"
       ]
      },
      {
       "output_type": "stream",
       "stream": "stdout",
       "text": [
        "\n",
        "32200/60000 [===============>..............] - ETA: 1s - loss: 0.1166 - acc: 0.9646"
       ]
      },
      {
       "output_type": "stream",
       "stream": "stdout",
       "text": [
        "\n",
        "33200/60000 [===============>..............] - ETA: 1s - loss: 0.1163 - acc: 0.9648"
       ]
      },
      {
       "output_type": "stream",
       "stream": "stdout",
       "text": [
        "\n",
        "34200/60000 [================>.............] - ETA: 1s - loss: 0.1162 - acc: 0.9648"
       ]
      },
      {
       "output_type": "stream",
       "stream": "stdout",
       "text": [
        "\n",
        "35200/60000 [================>.............] - ETA: 1s - loss: 0.1167 - acc: 0.9646"
       ]
      },
      {
       "output_type": "stream",
       "stream": "stdout",
       "text": [
        "\n",
        "36200/60000 [=================>............] - ETA: 1s - loss: 0.1171 - acc: 0.9644"
       ]
      },
      {
       "output_type": "stream",
       "stream": "stdout",
       "text": [
        "\n",
        "37200/60000 [=================>............] - ETA: 1s - loss: 0.1164 - acc: 0.9648"
       ]
      },
      {
       "output_type": "stream",
       "stream": "stdout",
       "text": [
        "\n",
        "38200/60000 [==================>...........] - ETA: 1s - loss: 0.1170 - acc: 0.9645"
       ]
      },
      {
       "output_type": "stream",
       "stream": "stdout",
       "text": [
        "\n",
        "39200/60000 [==================>...........] - ETA: 1s - loss: 0.1169 - acc: 0.9645"
       ]
      },
      {
       "output_type": "stream",
       "stream": "stdout",
       "text": [
        "\n",
        "40200/60000 [===================>..........] - ETA: 1s - loss: 0.1166 - acc: 0.9646"
       ]
      },
      {
       "output_type": "stream",
       "stream": "stdout",
       "text": [
        "\n",
        "41200/60000 [===================>..........] - ETA: 1s - loss: 0.1168 - acc: 0.9644"
       ]
      },
      {
       "output_type": "stream",
       "stream": "stdout",
       "text": [
        "\n",
        "42200/60000 [====================>.........] - ETA: 1s - loss: 0.1174 - acc: 0.9643"
       ]
      },
      {
       "output_type": "stream",
       "stream": "stdout",
       "text": [
        "\n",
        "43200/60000 [====================>.........] - ETA: 0s - loss: 0.1172 - acc: 0.9644"
       ]
      },
      {
       "output_type": "stream",
       "stream": "stdout",
       "text": [
        "\n",
        "44200/60000 [=====================>........] - ETA: 0s - loss: 0.1168 - acc: 0.9645"
       ]
      },
      {
       "output_type": "stream",
       "stream": "stdout",
       "text": [
        "\n",
        "45200/60000 [=====================>........] - ETA: 0s - loss: 0.1164 - acc: 0.9646"
       ]
      },
      {
       "output_type": "stream",
       "stream": "stdout",
       "text": [
        "\n",
        "46200/60000 [======================>.......] - ETA: 0s - loss: 0.1161 - acc: 0.9647"
       ]
      },
      {
       "output_type": "stream",
       "stream": "stdout",
       "text": [
        "\n",
        "47200/60000 [======================>.......] - ETA: 0s - loss: 0.1160 - acc: 0.9648"
       ]
      },
      {
       "output_type": "stream",
       "stream": "stdout",
       "text": [
        "\n",
        "48200/60000 [=======================>......] - ETA: 0s - loss: 0.1159 - acc: 0.9648"
       ]
      },
      {
       "output_type": "stream",
       "stream": "stdout",
       "text": [
        "\n",
        "49200/60000 [=======================>......] - ETA: 0s - loss: 0.1160 - acc: 0.9649"
       ]
      },
      {
       "output_type": "stream",
       "stream": "stdout",
       "text": [
        "\n",
        "50200/60000 [========================>.....] - ETA: 0s - loss: 0.1157 - acc: 0.9651"
       ]
      },
      {
       "output_type": "stream",
       "stream": "stdout",
       "text": [
        "\n",
        "51200/60000 [========================>.....] - ETA: 0s - loss: 0.1156 - acc: 0.9651"
       ]
      },
      {
       "output_type": "stream",
       "stream": "stdout",
       "text": [
        "\n",
        "52200/60000 [=========================>....] - ETA: 0s - loss: 0.1156 - acc: 0.9652"
       ]
      },
      {
       "output_type": "stream",
       "stream": "stdout",
       "text": [
        "\n",
        "53200/60000 [=========================>....] - ETA: 0s - loss: 0.1152 - acc: 0.9653"
       ]
      },
      {
       "output_type": "stream",
       "stream": "stdout",
       "text": [
        "\n",
        "54200/60000 [==========================>...] - ETA: 0s - loss: 0.1151 - acc: 0.9654"
       ]
      },
      {
       "output_type": "stream",
       "stream": "stdout",
       "text": [
        "\n",
        "55200/60000 [==========================>...] - ETA: 0s - loss: 0.1149 - acc: 0.9654"
       ]
      },
      {
       "output_type": "stream",
       "stream": "stdout",
       "text": [
        "\n",
        "56200/60000 [===========================>..] - ETA: 0s - loss: 0.1144 - acc: 0.9657"
       ]
      },
      {
       "output_type": "stream",
       "stream": "stdout",
       "text": [
        "\n",
        "57200/60000 [===========================>..] - ETA: 0s - loss: 0.1141 - acc: 0.9657"
       ]
      },
      {
       "output_type": "stream",
       "stream": "stdout",
       "text": [
        "\n",
        "58200/60000 [============================>.] - ETA: 0s - loss: 0.1139 - acc: 0.9657"
       ]
      },
      {
       "output_type": "stream",
       "stream": "stdout",
       "text": [
        "\n",
        "59200/60000 [============================>.] - ETA: 0s - loss: 0.1135 - acc: 0.9658"
       ]
      },
      {
       "output_type": "stream",
       "stream": "stdout",
       "text": [
        "\n",
        "60000/60000 [==============================] - 4s 62us/step - loss: 0.1132 - acc: 0.9660 - val_loss: 0.1126 - val_acc: 0.9671\n"
       ]
      },
      {
       "output_type": "stream",
       "stream": "stdout",
       "text": [
        "Epoch 10/10\n",
        "\n",
        "  200/60000 [..............................] - ETA: 4s - loss: 0.0445 - acc: 0.9950"
       ]
      },
      {
       "output_type": "stream",
       "stream": "stdout",
       "text": [
        "\n",
        " 1200/60000 [..............................] - ETA: 3s - loss: 0.1000 - acc: 0.9733"
       ]
      },
      {
       "output_type": "stream",
       "stream": "stdout",
       "text": [
        "\n",
        " 2200/60000 [>.............................] - ETA: 3s - loss: 0.0988 - acc: 0.9714"
       ]
      },
      {
       "output_type": "stream",
       "stream": "stdout",
       "text": [
        "\n",
        " 3200/60000 [>.............................] - ETA: 3s - loss: 0.1019 - acc: 0.9691"
       ]
      },
      {
       "output_type": "stream",
       "stream": "stdout",
       "text": [
        "\n",
        " 4200/60000 [=>............................] - ETA: 3s - loss: 0.1014 - acc: 0.9688"
       ]
      },
      {
       "output_type": "stream",
       "stream": "stdout",
       "text": [
        "\n",
        " 5200/60000 [=>............................] - ETA: 3s - loss: 0.1030 - acc: 0.9692"
       ]
      },
      {
       "output_type": "stream",
       "stream": "stdout",
       "text": [
        "\n",
        " 6200/60000 [==>...........................] - ETA: 3s - loss: 0.1041 - acc: 0.9692"
       ]
      },
      {
       "output_type": "stream",
       "stream": "stdout",
       "text": [
        "\n",
        " 7200/60000 [==>...........................] - ETA: 3s - loss: 0.1090 - acc: 0.9676"
       ]
      },
      {
       "output_type": "stream",
       "stream": "stdout",
       "text": [
        "\n",
        " 8200/60000 [===>..........................] - ETA: 3s - loss: 0.1073 - acc: 0.9679"
       ]
      },
      {
       "output_type": "stream",
       "stream": "stdout",
       "text": [
        "\n",
        " 9200/60000 [===>..........................] - ETA: 3s - loss: 0.1053 - acc: 0.9686"
       ]
      },
      {
       "output_type": "stream",
       "stream": "stdout",
       "text": [
        "\n",
        "10200/60000 [====>.........................] - ETA: 2s - loss: 0.1048 - acc: 0.9690"
       ]
      },
      {
       "output_type": "stream",
       "stream": "stdout",
       "text": [
        "\n",
        "11200/60000 [====>.........................] - ETA: 2s - loss: 0.1081 - acc: 0.9683"
       ]
      },
      {
       "output_type": "stream",
       "stream": "stdout",
       "text": [
        "\n",
        "12200/60000 [=====>........................] - ETA: 2s - loss: 0.1091 - acc: 0.9679"
       ]
      },
      {
       "output_type": "stream",
       "stream": "stdout",
       "text": [
        "\n",
        "13200/60000 [=====>........................] - ETA: 2s - loss: 0.1073 - acc: 0.9684"
       ]
      },
      {
       "output_type": "stream",
       "stream": "stdout",
       "text": [
        "\n",
        "14200/60000 [======>.......................] - ETA: 2s - loss: 0.1081 - acc: 0.9681"
       ]
      },
      {
       "output_type": "stream",
       "stream": "stdout",
       "text": [
        "\n",
        "15200/60000 [======>.......................] - ETA: 2s - loss: 0.1083 - acc: 0.9682"
       ]
      },
      {
       "output_type": "stream",
       "stream": "stdout",
       "text": [
        "\n",
        "16200/60000 [=======>......................] - ETA: 2s - loss: 0.1087 - acc: 0.9682"
       ]
      },
      {
       "output_type": "stream",
       "stream": "stdout",
       "text": [
        "\n",
        "17200/60000 [=======>......................] - ETA: 2s - loss: 0.1095 - acc: 0.9678"
       ]
      },
      {
       "output_type": "stream",
       "stream": "stdout",
       "text": [
        "\n",
        "18200/60000 [========>.....................] - ETA: 2s - loss: 0.1088 - acc: 0.9678"
       ]
      },
      {
       "output_type": "stream",
       "stream": "stdout",
       "text": [
        "\n",
        "19200/60000 [========>.....................] - ETA: 2s - loss: 0.1092 - acc: 0.9678"
       ]
      },
      {
       "output_type": "stream",
       "stream": "stdout",
       "text": [
        "\n",
        "20200/60000 [=========>....................] - ETA: 2s - loss: 0.1089 - acc: 0.9679"
       ]
      },
      {
       "output_type": "stream",
       "stream": "stdout",
       "text": [
        "\n",
        "21200/60000 [=========>....................] - ETA: 2s - loss: 0.1083 - acc: 0.9681"
       ]
      },
      {
       "output_type": "stream",
       "stream": "stdout",
       "text": [
        "\n",
        "22200/60000 [==========>...................] - ETA: 2s - loss: 0.1074 - acc: 0.9682"
       ]
      },
      {
       "output_type": "stream",
       "stream": "stdout",
       "text": [
        "\n",
        "23200/60000 [==========>...................] - ETA: 2s - loss: 0.1072 - acc: 0.9682"
       ]
      },
      {
       "output_type": "stream",
       "stream": "stdout",
       "text": [
        "\n",
        "24200/60000 [===========>..................] - ETA: 2s - loss: 0.1075 - acc: 0.9680"
       ]
      },
      {
       "output_type": "stream",
       "stream": "stdout",
       "text": [
        "\n",
        "25200/60000 [===========>..................] - ETA: 2s - loss: 0.1062 - acc: 0.9683"
       ]
      },
      {
       "output_type": "stream",
       "stream": "stdout",
       "text": [
        "\n",
        "26200/60000 [============>.................] - ETA: 1s - loss: 0.1065 - acc: 0.9681"
       ]
      },
      {
       "output_type": "stream",
       "stream": "stdout",
       "text": [
        "\n",
        "27200/60000 [============>.................] - ETA: 1s - loss: 0.1072 - acc: 0.9678"
       ]
      },
      {
       "output_type": "stream",
       "stream": "stdout",
       "text": [
        "\n",
        "28200/60000 [=============>................] - ETA: 1s - loss: 0.1074 - acc: 0.9678"
       ]
      },
      {
       "output_type": "stream",
       "stream": "stdout",
       "text": [
        "\n",
        "29200/60000 [=============>................] - ETA: 1s - loss: 0.1075 - acc: 0.9679"
       ]
      },
      {
       "output_type": "stream",
       "stream": "stdout",
       "text": [
        "\n",
        "30200/60000 [==============>...............] - ETA: 1s - loss: 0.1073 - acc: 0.9678"
       ]
      },
      {
       "output_type": "stream",
       "stream": "stdout",
       "text": [
        "\n",
        "31200/60000 [==============>...............] - ETA: 1s - loss: 0.1065 - acc: 0.9681"
       ]
      },
      {
       "output_type": "stream",
       "stream": "stdout",
       "text": [
        "\n",
        "32200/60000 [===============>..............] - ETA: 1s - loss: 0.1067 - acc: 0.9679"
       ]
      },
      {
       "output_type": "stream",
       "stream": "stdout",
       "text": [
        "\n",
        "33200/60000 [===============>..............] - ETA: 1s - loss: 0.1067 - acc: 0.9680"
       ]
      },
      {
       "output_type": "stream",
       "stream": "stdout",
       "text": [
        "\n",
        "34200/60000 [================>.............] - ETA: 1s - loss: 0.1068 - acc: 0.9680"
       ]
      },
      {
       "output_type": "stream",
       "stream": "stdout",
       "text": [
        "\n",
        "35200/60000 [================>.............] - ETA: 1s - loss: 0.1065 - acc: 0.9681"
       ]
      },
      {
       "output_type": "stream",
       "stream": "stdout",
       "text": [
        "\n",
        "36200/60000 [=================>............] - ETA: 1s - loss: 0.1067 - acc: 0.9680"
       ]
      },
      {
       "output_type": "stream",
       "stream": "stdout",
       "text": [
        "\n",
        "37200/60000 [=================>............] - ETA: 1s - loss: 0.1061 - acc: 0.9684"
       ]
      },
      {
       "output_type": "stream",
       "stream": "stdout",
       "text": [
        "\n",
        "38200/60000 [==================>...........] - ETA: 1s - loss: 0.1061 - acc: 0.9683"
       ]
      },
      {
       "output_type": "stream",
       "stream": "stdout",
       "text": [
        "\n",
        "39200/60000 [==================>...........] - ETA: 1s - loss: 0.1060 - acc: 0.9683"
       ]
      },
      {
       "output_type": "stream",
       "stream": "stdout",
       "text": [
        "\n",
        "40200/60000 [===================>..........] - ETA: 1s - loss: 0.1063 - acc: 0.9682"
       ]
      },
      {
       "output_type": "stream",
       "stream": "stdout",
       "text": [
        "\n",
        "41200/60000 [===================>..........] - ETA: 1s - loss: 0.1060 - acc: 0.9683"
       ]
      },
      {
       "output_type": "stream",
       "stream": "stdout",
       "text": [
        "\n",
        "42200/60000 [====================>.........] - ETA: 1s - loss: 0.1063 - acc: 0.9682"
       ]
      },
      {
       "output_type": "stream",
       "stream": "stdout",
       "text": [
        "\n",
        "43200/60000 [====================>.........] - ETA: 0s - loss: 0.1067 - acc: 0.9681"
       ]
      },
      {
       "output_type": "stream",
       "stream": "stdout",
       "text": [
        "\n",
        "44200/60000 [=====================>........] - ETA: 0s - loss: 0.1058 - acc: 0.9684"
       ]
      },
      {
       "output_type": "stream",
       "stream": "stdout",
       "text": [
        "\n",
        "45200/60000 [=====================>........] - ETA: 0s - loss: 0.1055 - acc: 0.9685"
       ]
      },
      {
       "output_type": "stream",
       "stream": "stdout",
       "text": [
        "\n",
        "46200/60000 [======================>.......] - ETA: 0s - loss: 0.1054 - acc: 0.9686"
       ]
      },
      {
       "output_type": "stream",
       "stream": "stdout",
       "text": [
        "\n",
        "47200/60000 [======================>.......] - ETA: 0s - loss: 0.1056 - acc: 0.9685"
       ]
      },
      {
       "output_type": "stream",
       "stream": "stdout",
       "text": [
        "\n",
        "48200/60000 [=======================>......] - ETA: 0s - loss: 0.1057 - acc: 0.9685"
       ]
      },
      {
       "output_type": "stream",
       "stream": "stdout",
       "text": [
        "\n",
        "49200/60000 [=======================>......] - ETA: 0s - loss: 0.1061 - acc: 0.9685"
       ]
      },
      {
       "output_type": "stream",
       "stream": "stdout",
       "text": [
        "\n",
        "50200/60000 [========================>.....] - ETA: 0s - loss: 0.1059 - acc: 0.9686"
       ]
      },
      {
       "output_type": "stream",
       "stream": "stdout",
       "text": [
        "\n",
        "51200/60000 [========================>.....] - ETA: 0s - loss: 0.1055 - acc: 0.9687"
       ]
      },
      {
       "output_type": "stream",
       "stream": "stdout",
       "text": [
        "\n",
        "52200/60000 [=========================>....] - ETA: 0s - loss: 0.1052 - acc: 0.9689"
       ]
      },
      {
       "output_type": "stream",
       "stream": "stdout",
       "text": [
        "\n",
        "53200/60000 [=========================>....] - ETA: 0s - loss: 0.1056 - acc: 0.9687"
       ]
      },
      {
       "output_type": "stream",
       "stream": "stdout",
       "text": [
        "\n",
        "54200/60000 [==========================>...] - ETA: 0s - loss: 0.1051 - acc: 0.9688"
       ]
      },
      {
       "output_type": "stream",
       "stream": "stdout",
       "text": [
        "\n",
        "55200/60000 [==========================>...] - ETA: 0s - loss: 0.1051 - acc: 0.9689"
       ]
      },
      {
       "output_type": "stream",
       "stream": "stdout",
       "text": [
        "\n",
        "56200/60000 [===========================>..] - ETA: 0s - loss: 0.1051 - acc: 0.9688"
       ]
      },
      {
       "output_type": "stream",
       "stream": "stdout",
       "text": [
        "\n",
        "57200/60000 [===========================>..] - ETA: 0s - loss: 0.1051 - acc: 0.9688"
       ]
      },
      {
       "output_type": "stream",
       "stream": "stdout",
       "text": [
        "\n",
        "58200/60000 [============================>.] - ETA: 0s - loss: 0.1055 - acc: 0.9684"
       ]
      },
      {
       "output_type": "stream",
       "stream": "stdout",
       "text": [
        "\n",
        "59200/60000 [============================>.] - ETA: 0s - loss: 0.1056 - acc: 0.9683"
       ]
      },
      {
       "output_type": "stream",
       "stream": "stdout",
       "text": [
        "\n",
        "60000/60000 [==============================] - 4s 63us/step - loss: 0.1058 - acc: 0.9683 - val_loss: 0.1045 - val_acc: 0.9691\n"
       ]
      }
     ],
     "prompt_number": 63
    },
    {
     "cell_type": "heading",
     "level": 3,
     "metadata": {},
     "source": [
      "Part 3 - Evaluation"
     ]
    },
    {
     "cell_type": "markdown",
     "metadata": {},
     "source": [
      "The model.fit() method returns an History callback, which has a history attribute containing the lists of successive losses and other metrics."
     ]
    },
    {
     "cell_type": "heading",
     "level": 4,
     "metadata": {},
     "source": [
      "5) Display the loss and the accuracy across training "
     ]
    },
    {
     "cell_type": "code",
     "collapsed": false,
     "input": [
      "for k,v in history.history.items():\n",
      "    print(k,v)\n",
      "\n",
      "    \n"
     ],
     "language": "python",
     "metadata": {},
     "outputs": [
      {
       "output_type": "stream",
       "stream": "stdout",
       "text": [
        "('acc', [0.77949999809265136, 0.91256666858990987, 0.92875000019868215, 0.93998333076635998, 0.94849999566872911, 0.95438332776228585, 0.95919999619325003, 0.96334999938805899, 0.9659833329916, 0.96828333655993148])\n",
        "('loss', [0.93072437375783923, 0.29278259153167407, 0.23899831873675187, 0.20318859368562697, 0.17315470291922488, 0.15319472851852575, 0.13718106274803479, 0.12353455049296221, 0.11315825197845697, 0.10579503078013658])\n",
        "('val_acc', [0.90199999690055843, 0.92710000157356265, 0.94040000200271612, 0.94700000166893006, 0.95130000114440916, 0.96040000200271602, 0.96009999990463257, 0.96720000267028805, 0.96710000157356257, 0.96909999847412109])\n",
        "('val_loss', [0.3313510078191757, 0.24621018595993518, 0.20686365742236376, 0.17631451562047004, 0.16783772487193346, 0.14088615108281374, 0.13324864089488983, 0.11411953827366234, 0.11255871385335922, 0.10453955331817269])\n"
       ]
      }
     ],
     "prompt_number": 64
    },
    {
     "cell_type": "code",
     "collapsed": false,
     "input": [],
     "language": "python",
     "metadata": {},
     "outputs": [],
     "prompt_number": 36
    },
    {
     "cell_type": "heading",
     "level": 4,
     "metadata": {},
     "source": [
      "6) Evaluate the global test loss and accuracy using the evaluate() method (https://keras.io/models/sequential/#evaluate)."
     ]
    },
    {
     "cell_type": "code",
     "collapsed": false,
     "input": [
      "model.evaluate(x_test,z_test)"
     ],
     "language": "python",
     "metadata": {},
     "outputs": [
      {
       "output_type": "stream",
       "stream": "stdout",
       "text": [
        "\n",
        "   32/10000 [..............................] - ETA: 1s"
       ]
      },
      {
       "output_type": "stream",
       "stream": "stdout",
       "text": [
        "\n",
        "  672/10000 [=>............................] - ETA: 0s"
       ]
      },
      {
       "output_type": "stream",
       "stream": "stdout",
       "text": [
        "\n",
        " 1440/10000 [===>..........................] - ETA: 0s"
       ]
      },
      {
       "output_type": "stream",
       "stream": "stdout",
       "text": [
        "\n",
        " 2240/10000 [=====>........................] - ETA: 0s"
       ]
      },
      {
       "output_type": "stream",
       "stream": "stdout",
       "text": [
        "\n",
        " 3008/10000 [========>.....................] - ETA: 0s"
       ]
      },
      {
       "output_type": "stream",
       "stream": "stdout",
       "text": [
        "\n",
        " 3744/10000 [==========>...................] - ETA: 0s"
       ]
      },
      {
       "output_type": "stream",
       "stream": "stdout",
       "text": [
        "\n",
        " 4448/10000 [============>.................] - ETA: 0s"
       ]
      },
      {
       "output_type": "stream",
       "stream": "stdout",
       "text": [
        "\n",
        " 5088/10000 [==============>...............] - ETA: 0s"
       ]
      },
      {
       "output_type": "stream",
       "stream": "stdout",
       "text": [
        "\n",
        " 5888/10000 [================>.............] - ETA: 0s"
       ]
      },
      {
       "output_type": "stream",
       "stream": "stdout",
       "text": [
        "\n",
        " 6752/10000 [===================>..........] - ETA: 0s"
       ]
      },
      {
       "output_type": "stream",
       "stream": "stdout",
       "text": [
        "\n",
        " 7616/10000 [=====================>........] - ETA: 0s"
       ]
      },
      {
       "output_type": "stream",
       "stream": "stdout",
       "text": [
        "\n",
        " 8352/10000 [========================>.....] - ETA: 0s"
       ]
      },
      {
       "output_type": "stream",
       "stream": "stdout",
       "text": [
        "\n",
        " 9216/10000 [==========================>...] - ETA: 0s"
       ]
      },
      {
       "output_type": "stream",
       "stream": "stdout",
       "text": [
        "\n",
        "10000/10000 [==============================] - 1s 66us/step\n"
       ]
      },
      {
       "metadata": {},
       "output_type": "pyout",
       "prompt_number": 66,
       "text": [
        "[0.10453955338317901, 0.96909999999999996]"
       ]
      }
     ],
     "prompt_number": 66
    },
    {
     "cell_type": "heading",
     "level": 4,
     "metadata": {},
     "source": [
      "7) Visualize some wrongly predicted data"
     ]
    },
    {
     "cell_type": "code",
     "collapsed": false,
     "input": [
      "y_predict=model.predict(x_test,batch_size=500,verbose=1)\n",
      "\n"
     ],
     "language": "python",
     "metadata": {},
     "outputs": [
      {
       "output_type": "stream",
       "stream": "stdout",
       "text": [
        "\n",
        "  500/10000 [>.............................] - ETA: 1s"
       ]
      },
      {
       "output_type": "stream",
       "stream": "stdout",
       "text": [
        "\n",
        " 4000/10000 [===========>..................] - ETA: 0s"
       ]
      },
      {
       "output_type": "stream",
       "stream": "stdout",
       "text": [
        "\n",
        " 7500/10000 [=====================>........] - ETA: 0s"
       ]
      },
      {
       "output_type": "stream",
       "stream": "stdout",
       "text": [
        "\n",
        "10000/10000 [==============================] - 0s 23us/step\n"
       ]
      }
     ],
     "prompt_number": 67
    },
    {
     "cell_type": "code",
     "collapsed": false,
     "input": [
      "print(y_predict.shape,z_test.shape,x_test.shape)\n",
      "x_print=x_test.reshape(10000,28,28)\n",
      "for i in range(1,10) : \n",
      "    if np.array_equal(y_predict[i],z_test[i])==False:\n",
      "        plt.subplot(2, 50, i + 1)\n",
      "        plt.axis('off')\n",
      "        plt.imshow(x_print[i,:,:],cmap=plt.cm.gray_r)\n",
      "        plt.title('Training: %i' % y_train[index])"
     ],
     "language": "python",
     "metadata": {},
     "outputs": [
      {
       "output_type": "stream",
       "stream": "stdout",
       "text": [
        "((10000, 10), (10000, 10), (10000, 28, 28, 1))\n"
       ]
      },
      {
       "metadata": {},
       "output_type": "display_data",
       "png": "[encoded data removed]",
       "text": [
        "<matplotlib.figure.Figure at 0x7f19e3a24f90>"
       ]
      }
     ],
     "prompt_number": 83
    },
    {
     "cell_type": "markdown",
     "metadata": {},
     "source": [
      "Up to now, we have learned how to quickly and easily build, train, and evaluate a convolutional neural network using Keras. The final test set accuracy on MNIST dataset is approximately 99% which is better than the results obtained with MLP."
     ]
    },
    {
     "cell_type": "heading",
     "level": 3,
     "metadata": {},
     "source": [
      "Part 4 - Robustness to noise"
     ]
    },
    {
     "cell_type": "heading",
     "level": 4,
     "metadata": {},
     "source": [
      "8) Evaluate the network predictions on noisy data with two different noise factors"
     ]
    },
    {
     "cell_type": "code",
     "collapsed": false,
     "input": [
      "noise_factor = 0.2\n",
      "x_test_noisy = x_test + noise_factor * np.random.normal(loc=0.0, scale=1.0, size=x_test.shape)\n",
      "x_test_noisy = np.clip(x_test_noisy, 0., 1.)\n",
      "plt.figure()\n",
      "for i in range(10):\n",
      "    plt.subplot(2, 5, i + 1)\n",
      "    plt.axis('off')\n",
      "    index = np.where(y_test == i)[0][0]\n",
      "    plt.imshow(x_test_noisy[index,:,:,0], cmap=plt.cm.gray_r)\n",
      "    plt.title('%i' % y_test[index])\n",
      "plt.show()\n",
      "score = model.evaluate(x_test_noisy, z_test, verbose=0)\n",
      "print('Test loss:', score[0])\n",
      "print('Test accuracy:', score[1])\n"
     ],
     "language": "python",
     "metadata": {},
     "outputs": [],
     "prompt_number": null
    },
    {
     "cell_type": "code",
     "collapsed": false,
     "input": [
      "noise_factor = 0.4\n",
      "x_test_noisy = x_test + noise_factor * np.random.normal(loc=0.0, scale=1.0, size=x_test.shape)\n",
      "x_test_noisy = np.clip(x_test_noisy, 0., 1.)\n",
      "plt.figure()\n",
      "for i in range(10):\n",
      "    plt.subplot(2, 5, i + 1)\n",
      "    plt.axis('off')\n",
      "    index = np.where(y_test == i)[0][0]\n",
      "    plt.imshow(x_test_noisy[index,:,:,0], cmap=plt.cm.gray_r)\n",
      "    plt.title('%i' % y_test[index])\n",
      "plt.show()\n",
      "score = model.evaluate(x_test_noisy, z_test, verbose=0)\n",
      "print('Test loss:', score[0])\n",
      "print('Test accuracy:', score[1])\n",
      "\n"
     ],
     "language": "python",
     "metadata": {},
     "outputs": [],
     "prompt_number": null
    },
    {
     "cell_type": "markdown",
     "metadata": {},
     "source": [
      "With strong noise, the accuracy decreases from 99% to 80% since training samples are not enough representative. Let us train the model directly on noisy data samples to see the performance."
     ]
    },
    {
     "cell_type": "heading",
     "level": 4,
     "metadata": {},
     "source": [
      "9) Train and evaluate the same CNN architecture on noisy data with 0.4 as noise factor. "
     ]
    },
    {
     "cell_type": "code",
     "collapsed": false,
     "input": [
      "# x_train_noisy = ...\n",
      "# model_noise = Sequential()\n",
      "# to do"
     ],
     "language": "python",
     "metadata": {},
     "outputs": [],
     "prompt_number": null
    },
    {
     "cell_type": "heading",
     "level": 4,
     "metadata": {},
     "source": [
      "10) What is the expected result when using Dropout layers? Evaluate the network without Dropout layers and conclude based on global test accuracy "
     ]
    },
    {
     "cell_type": "markdown",
     "metadata": {},
     "source": [
      "Dropout consists in randomly setting a fraction rate of input units to 0 at each update during training time, which helps prevent overfitting."
     ]
    },
    {
     "cell_type": "code",
     "collapsed": false,
     "input": [
      "# model_noise2 = Sequential()\n",
      "# to do"
     ],
     "language": "python",
     "metadata": {},
     "outputs": [],
     "prompt_number": null
    },
    {
     "cell_type": "markdown",
     "metadata": {},
     "source": [
      "For this small convolutional network, performance is actually nearly identical with and without dropout. Here, when training and predict on noisy data, we jump from 97,8% (without dropout) to 98,0% (with dropout). Dropout is often very effective at reducing overfitting, but it is most useful when training very large neural networks."
     ]
    },
    {
     "cell_type": "heading",
     "level": 3,
     "metadata": {},
     "source": [
      "Part 5 - Towards more deeper networks"
     ]
    },
    {
     "cell_type": "markdown",
     "metadata": {},
     "source": [
      "In this last part, we come back to the original dataset, i.e. without additional noise."
     ]
    },
    {
     "cell_type": "heading",
     "level": 4,
     "metadata": {},
     "source": [
      "11) Implement a deeper convolutional neural network by adding two convolutional  layers and one max pooling layer before the first Dropout. What is the performance gain?"
     ]
    },
    {
     "cell_type": "code",
     "collapsed": false,
     "input": [
      "model2 = Sequential()\n",
      "# to do"
     ],
     "language": "python",
     "metadata": {},
     "outputs": [],
     "prompt_number": null
    },
    {
     "cell_type": "markdown",
     "metadata": {},
     "source": [
      "This slightly more deeper network reaches around 99,35% in terms of accuracy (instead of 99% as in question 6). "
     ]
    },
    {
     "cell_type": "heading",
     "level": 4,
     "metadata": {},
     "source": [
      "12) Study the confusion matrix:"
     ]
    },
    {
     "cell_type": "code",
     "collapsed": false,
     "input": [
      "from sklearn.metrics import confusion_matrix\n",
      "import itertools\n",
      "\n",
      "z_pred = model2.predict(x_test)\n",
      "y_pred = np.argmax(z_pred,axis=1)\n",
      "\n",
      "class_names= ['0','1','2','3','4','5','6','7','8','9']\n",
      "\n",
      "def plot_confusion_matrix(cm, classes,\n",
      "                          normalize=False,\n",
      "                          title='Confusion matrix',\n",
      "                          cmap=plt.cm.Blues):\n",
      "    \"\"\"\n",
      "    This function prints and plots the confusion matrix.\n",
      "    Normalization can be applied by setting `normalize=True`.\n",
      "    \"\"\"\n",
      "    if normalize:\n",
      "        cm = cm.astype('float') / cm.sum(axis=1)[:, np.newaxis]\n",
      "        print(\"Normalized confusion matrix\")\n",
      "    else:\n",
      "        print('Confusion matrix, without normalization')\n",
      "\n",
      "    #print(cm)\n",
      "\n",
      "    plt.imshow(cm, interpolation='nearest', cmap=cmap)\n",
      "    plt.title(title)\n",
      "    plt.colorbar()\n",
      "    tick_marks = np.arange(len(classes))\n",
      "    plt.xticks(tick_marks, classes, rotation=45)\n",
      "    plt.yticks(tick_marks, classes)\n",
      "\n",
      "    fmt = '.2f' if normalize else 'd'\n",
      "    thresh = cm.max() / 2.\n",
      "    for i, j in itertools.product(range(cm.shape[0]), range(cm.shape[1])):\n",
      "        plt.text(j, i, format(cm[i, j], fmt),\n",
      "                 horizontalalignment=\"center\",\n",
      "                 color=\"white\" if cm[i, j] > thresh else \"black\")\n",
      "\n",
      "    plt.tight_layout()\n",
      "    plt.ylabel('True label')\n",
      "    plt.xlabel('Predicted label')\n",
      "\n",
      "# Compute confusion matrix\n",
      "cnf_matrix = confusion_matrix(y_test, y_pred)\n",
      "np.set_printoptions(precision=2)\n",
      "\n",
      "# Plot normalized confusion matrix\n",
      "plt.figure()\n",
      "plot_confusion_matrix(cnf_matrix, classes=class_names, normalize=True,\n",
      "                      title='Normalized confusion matrix')\n",
      "\n",
      "plt.show()"
     ],
     "language": "python",
     "metadata": {},
     "outputs": [],
     "prompt_number": null
    },
    {
     "cell_type": "markdown",
     "metadata": {
      "collapsed": true
     },
     "source": [
      "To conclude, an overview of results obtained with different methodologies can be found here: https://rodrigob.github.io/are_we_there_yet/build/classification_datasets_results."
     ]
    }
   ],
   "metadata": {}
  }
 ]
}