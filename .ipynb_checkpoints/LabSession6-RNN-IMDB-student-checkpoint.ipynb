{
 "metadata": {
  "kernelspec": {
   "display_name": "Python 3",
   "language": "python",
   "name": "python3"
  },
  "language_info": {
   "codemirror_mode": {
    "name": "ipython",
    "version": 3
   },
   "file_extension": ".py",
   "mimetype": "text/x-python",
   "name": "python",
   "nbconvert_exporter": "python",
   "pygments_lexer": "ipython3",
   "version": "3.6.3"
  },
  "name": "",
  "signature": "sha256:7109984d7fbb946607a5d1da4e4a1e490ce2e6387cbaadf3dfd6b364484f85fb"
 },
 "nbformat": 3,
 "nbformat_minor": 0,
 "worksheets": [
  {
   "cells": [
    {
     "cell_type": "markdown",
     "metadata": {
      "nbpresent": {
       "id": "18cde020-8365-4923-8590-7d111b4a41f8"
      }
     },
     "source": [
      "# ELU 502 Deep learning  IMT Atlantique -- Lab session 6\n",
      "Max Sobroza, Pierre Tandeo - session: 1h20+3h\n"
     ]
    },
    {
     "cell_type": "markdown",
     "metadata": {
      "nbpresent": {
       "id": "797413a2-61f3-40e6-a8f0-242b28d4e090"
      }
     },
     "source": [
      "### Objectives: Perform sentiment analysis classification on *IMDB dataset* exploring multiples architectures of recurrent neural networks (RNN, LSTM, BiLSTM, ...) and transfer learning from word embeddings vectors to achieve better results on a NLP (Natural Language Processing) task.\n",
      "\n",
      "Hint: See the documentation of Keras for implementation details."
     ]
    },
    {
     "cell_type": "markdown",
     "metadata": {},
     "source": [
      "<font color='blue'> What is IMDB ?</font>\n",
      "\n",
      "- It is a website that contains several movies reviews from users\n",
      "\n",
      "[Imdb's site](https://www.imdb.com)\n",
      "\n",
      "Considering that we have only two classes of reviews (<font color='blue'>positive</font> or <font color='red'> negative </font>). Could you predict the labels of reviews based only on text content of these reviews ?\n",
      "\n",
      "**Review \\#1**\n",
      "\n",
      "*Quite simply, the finest gangster film ever made. No doubt about it, this a spectacular viewing experience. The acting along with the storyline makes this film a genuine masterpiece. The film covers a wide spectrum of genre keeping the viewer entertained throughout. TOP CLASS!*\n",
      "\n",
      "**Review \\#2**\n",
      "\n",
      "*This movie is like football, people only watch it because the think its 'cool' or 'popular', but really it is the most dreary repetitive and slow film i have had the displeasure in viewing. How this film grew to be such a ''great'' i do not know, bu ti know that it shouldn't be, Shawshank Redemption may not deserve to be second best film ever, but at least it is worthy of being where it is and is certainly a better film than any of the Godfathers.\n",
      "So please consider this when voting, the Godfather is poorly directed, badly scripted, crudely acted and most importantly is, quite frankly boring and wearisome.*\n",
      "\n",
      "**Review \\#3**\n",
      "\n",
      "*Great Book... Slightly above average movie (so sad)\n",
      "The book is awesome, one of the best books ever. Sadly the movie is weak, and fails to portrait the true essence of the characters, what's so great about the book is that you're able to know and understand the background stories, therefore you identify with the characters behavior to the point where you even forget they're mobsters!! however in the movie many minor and irrelevant scenes take too much time, time that could be used to go a little deeper into the characters, and what's even worst is the total disregard to important passages of the book which didn't even make the movie, or if they did, they were over-synthesized. I don't think I'm the only one that really loved the book, but was sadly disappointed by the movie, still is a movie worth watching, but if you really want to enjoy a great story you should read the book!!*\n",
      "\n",
      "\n",
      "Sometimes, even for us it is complicated to perform this task. In this lab session, we will create an algorithm that does these predictions automatically with more than 82.0% of accuracy. The state-of-the art methods achieves on this task (about 87.0% to 90.0%). Examples of application of this task are human dialogue sentiment identification, user opinion of product reviews, chat bots language understanding and/or Twitter language understanding."
     ]
    },
    {
     "cell_type": "markdown",
     "metadata": {
      "nbpresent": {
       "id": "ec0f8430-76a1-475d-a360-8f93ab4f2732"
      }
     },
     "source": [
      "Now it is your turn and good luck!\n",
      "\n",
      "First, we need to download and import the IMDB dataset from Keras."
     ]
    },
    {
     "cell_type": "code",
     "collapsed": true,
     "input": [
      "import keras\n",
      "from keras.datasets import imdb\n",
      "from keras.preprocessing import sequence\n",
      "from keras.utils import np_utils\n",
      "import numpy as np\n",
      "\n",
      "(x_train, y_train), (x_test, y_test) = imdb.load_data(path=\"imdb.npz\",\n",
      "                                                      num_words=None, # Number of words of the vocabulary (None=gets all words)\n",
      "                                                      skip_top=0,     # Excludes top-k frequent words\n",
      "                                                      maxlen=None,)   # Max length of sentences"
     ],
     "language": "python",
     "metadata": {
      "nbpresent": {
       "id": "2b07a011-1503-4935-8cb4-30013804a57c"
      }
     },
     "outputs": [
      {
       "output_type": "stream",
       "stream": "stderr",
       "text": [
        "Using TensorFlow backend.\n"
       ]
      }
     ],
     "prompt_number": 1
    },
    {
     "cell_type": "markdown",
     "metadata": {
      "nbpresent": {
       "id": "ef32a37b-7b4d-48b6-af65-15f6d4fc2f11"
      }
     },
     "source": [
      "Differently from images, the text contains only discrete information:\n",
      "\n",
      "- Each unique word is mapped to an unique index (integer)\n",
      "- Each sentence or document contains a sequence of words (or indexes)"
     ]
    },
    {
     "cell_type": "code",
     "collapsed": false,
     "input": [
      "print(y_train)"
     ],
     "language": "python",
     "metadata": {},
     "outputs": [
      {
       "output_type": "stream",
       "stream": "stdout",
       "text": [
        "[1 0 0 ..., 0 1 0]\n"
       ]
      }
     ],
     "prompt_number": 15
    },
    {
     "cell_type": "markdown",
     "metadata": {
      "nbpresent": {
       "id": "3932ee92-6e56-4848-ad3c-217fa649a1a0"
      }
     },
     "source": [
      "In the dataset loaded by Keras the preprocessing is already done: words are already tokenized and indexed.\n",
      "\n",
      "The second step is to obtain the dictionary that translates indexes (integer) to words (string)"
     ]
    },
    {
     "cell_type": "code",
     "collapsed": true,
     "input": [
      "word_index = imdb.get_word_index(path='imdb_word_index.json') # Load word vocabulary dictionary \n",
      "print('> Index of word \\\"special\\\" is {}'.format(word_index['special']))\n",
      "print('> Index of word \\\"effects\\\" is {}'.format(word_index['effects']))\n",
      "\n"
     ],
     "language": "python",
     "metadata": {
      "nbpresent": {
       "id": "51ce5a95-c7f7-4a4f-aac8-f63cccd10c47"
      }
     },
     "outputs": [
      {
       "output_type": "stream",
       "stream": "stdout",
       "text": [
        "> Index of word \"special\" is 315\n",
        "> Index of word \"effects\" is 299\n"
       ]
      }
     ],
     "prompt_number": 2
    },
    {
     "cell_type": "markdown",
     "metadata": {
      "nbpresent": {
       "id": "1e3b1492-da1f-4c1b-82f2-97820ad210a1"
      }
     },
     "source": [
      "The reversed dictionary of *word_index* is obtained by the follow command:"
     ]
    },
    {
     "cell_type": "code",
     "collapsed": true,
     "input": [
      "index_word = dict([[v,k] for k,v in word_index.items()])\n",
      "print('> The word corresponding to the Index 315 is \\\"{}\\\"'.format(index_word[315]))\n",
      "print('> The word corresponding to the Index 299 is \\\"{}\\\"'.format(index_word[299]))"
     ],
     "language": "python",
     "metadata": {
      "nbpresent": {
       "id": "177952ae-d1ac-45d1-81fa-20361b8a48cf"
      }
     },
     "outputs": [
      {
       "output_type": "stream",
       "stream": "stdout",
       "text": [
        "> The word corresponding to the Index 315 is \"special\"\n",
        "> The word corresponding to the Index 299 is \"effects\"\n"
       ]
      }
     ],
     "prompt_number": 3
    },
    {
     "cell_type": "markdown",
     "metadata": {
      "nbpresent": {
       "id": "12084ea3-801c-46ca-a9c8-2442457d921f"
      }
     },
     "source": [
      "The number of unique words in the vocabulary is:"
     ]
    },
    {
     "cell_type": "code",
     "collapsed": true,
     "input": [
      "print('> Number of words in vocabulary: {}'.format(len(word_index)))"
     ],
     "language": "python",
     "metadata": {
      "nbpresent": {
       "id": "8eadbdf7-06fd-4d7c-bb63-fbfd1d7d4877"
      }
     },
     "outputs": [
      {
       "output_type": "stream",
       "stream": "stdout",
       "text": [
        "> Number of words in vocabulary: 88584\n"
       ]
      }
     ],
     "prompt_number": 4
    },
    {
     "cell_type": "heading",
     "level": 2,
     "metadata": {
      "nbpresent": {
       "id": "5fae17c5-d856-45ea-b6c3-d01dd6dc501f"
      }
     },
     "source": [
      "Part 1) Exploring the dataset"
     ]
    },
    {
     "cell_type": "code",
     "collapsed": true,
     "input": [
      "# Transform sequences of indexes to raw text\n",
      "# If the index does not in vocabulary you need to continue without this index\n",
      "def indexes_to_text(indexes):\n",
      "    result = \"\"\n",
      "    for i in indexes:\n",
      "        if i not in index_word:\n",
      "            continue\n",
      "        try:\n",
      "            result = result+\" \"+str(index_word[i])\n",
      "        except:\n",
      "            continue\n",
      "    return result    "
     ],
     "language": "python",
     "metadata": {
      "nbpresent": {
       "id": "1c8c1351-b90b-4481-90d2-4decd3b8ad08"
      }
     },
     "outputs": [],
     "prompt_number": 5
    },
    {
     "cell_type": "code",
     "collapsed": true,
     "input": [
      "print('> Number of training examples (x_train): {} \\n'.format(x_train.shape))\n",
      "print('> Number of training labeled examples (y_train): {} \\n'.format(y_train.shape))\n",
      "print('> First training example (indexes) is: {} \\n'.format(x_train[0]))\n",
      "print('> First training example (raw text) is: \\\"{}\\\" \\n'.format(indexes_to_text(x_train[0])))\n",
      "print('> Label of first example is: \\\"{}\\\" (positive = \\\"1\\\" and negative = \\\"0\\\")\\n'.format(y_train[0]))"
     ],
     "language": "python",
     "metadata": {
      "nbpresent": {
       "id": "418f9517-920a-4a9b-b2c2-89a3ac50107b"
      }
     },
     "outputs": [
      {
       "output_type": "stream",
       "stream": "stdout",
       "text": [
        "> Number of training examples (x_train): (25000,) \n",
        "\n",
        "> Number of training labeled examples (y_train): (25000,) \n",
        "\n",
        "> First training example (indexes) is: [1, 14, 22, 16, 43, 530, 973, 1622, 1385, 65, 458, 4468, 66, 3941, 4, 173, 36, 256, 5, 25, 100, 43, 838, 112, 50, 670, 22665, 9, 35, 480, 284, 5, 150, 4, 172, 112, 167, 21631, 336, 385, 39, 4, 172, 4536, 1111, 17, 546, 38, 13, 447, 4, 192, 50, 16, 6, 147, 2025, 19, 14, 22, 4, 1920, 4613, 469, 4, 22, 71, 87, 12, 16, 43, 530, 38, 76, 15, 13, 1247, 4, 22, 17, 515, 17, 12, 16, 626, 18, 19193, 5, 62, 386, 12, 8, 316, 8, 106, 5, 4, 2223, 5244, 16, 480, 66, 3785, 33, 4, 130, 12, 16, 38, 619, 5, 25, 124, 51, 36, 135, 48, 25, 1415, 33, 6, 22, 12, 215, 28, 77, 52, 5, 14, 407, 16, 82, 10311, 8, 4, 107, 117, 5952, 15, 256, 4, 31050, 7, 3766, 5, 723, 36, 71, 43, 530, 476, 26, 400, 317, 46, 7, 4, 12118, 1029, 13, 104, 88, 4, 381, 15, 297, 98, 32, 2071, 56, 26, 141, 6, 194, 7486, 18, 4, 226, 22, 21, 134, 476, 26, 480, 5, 144, 30, 5535, 18, 51, 36, 28, 224, 92, 25, 104, 4, 226, 65, 16, 38, 1334, 88, 12, 16, 283, 5, 16, 4472, 113, 103, 32, 15, 16, 5345, 19, 178, 32] \n",
        "\n",
        "> First training example (raw text) is: \" the as you with out themselves powerful lets loves their becomes reaching had journalist of lot from anyone to have after out atmosphere never more room titillate it so heart shows to years of every never going villaronga help moments or of every chest visual movie except her was several of enough more with is now current film as you of mine potentially unfortunately of you than him that with out themselves her get for was camp of you movie sometimes movie that with scary but pratfalls to story wonderful that in seeing in character to of 70s musicians with heart had shadows they of here that with her serious to have does when from why what have critics they is you that isn't one will very to as itself with other tricky in of seen over landed for anyone of gilmore's br show's to whether from than out themselves history he name half some br of 'n odd was two most of mean for 1 any an boat she he should is thought frog but of script you not while history he heart to real at barrel but when from one bit then have two of script their with her nobody most that with wasn't to with armed acting watch an for with heartfelt film want an\" \n",
        "\n",
        "> Label of first example is: \"1\" (positive = \"1\" and negative = \"0\")\n",
        "\n"
       ]
      }
     ],
     "prompt_number": 6
    },
    {
     "cell_type": "raw",
     "metadata": {},
     "source": [
      "The first training example seems not to be written in proper english --> words are missing because they cant be found in the dict.\n",
      "Because of that observation, a question arises. How were the words picked in order to build this dictionary? Is it the best one to treat this problem? Should we rather use a complete one or an incomplete with only words relative to bad or good movies --> can we make feature selection on the dict."
     ]
    },
    {
     "cell_type": "markdown",
     "metadata": {},
     "source": [
      "Question 1.1) Find the first document review (training example) that appears the words **soundtrack** and **effects** (not necessarily consecutives):\n",
      "\n",
      "Answer:"
     ]
    },
    {
     "cell_type": "code",
     "collapsed": true,
     "input": [
      "print(word_index[\"soundtrack\"])\n",
      "print(word_index[\"effects\"])\n",
      "\n",
      "\n",
      "for review in x_train:\n",
      "    if word_index[\"soundtrack\"] in review and word_index[\"effects\"] in review:\n",
      "        break\n",
      "print(review)\n",
      "print(\"first example with soundtrack and effects\",indexes_to_text(review))\n"
     ],
     "language": "python",
     "metadata": {},
     "outputs": [
      {
       "output_type": "stream",
       "stream": "stdout",
       "text": [
        "813\n",
        "299\n",
        "[1, 21, 13, 824, 111, 71, 620, 8, 67, 14, 20, 42, 49, 385, 620, 46, 7, 4, 438, 864, 198, 6, 227, 2494, 10, 10, 4, 22, 517, 11, 35, 3386, 2849, 96, 5413, 430, 266, 145, 8, 27, 8146, 103, 111, 153, 14, 460, 14274, 7, 1807, 5, 4, 226, 513, 9, 11683, 34, 27, 4791, 29, 9, 3543, 44, 316, 494, 8, 740, 8, 90, 5, 175, 255, 29, 892, 14569, 19, 90, 40, 225, 57, 5520, 60, 27, 6328, 4199, 15, 59, 62, 9974, 28, 3444, 41, 1304, 8, 8996, 19, 5413, 430, 6, 117, 1207, 60, 27, 184, 6328, 494, 6, 418, 7, 90, 934, 40, 31, 7, 148, 1322, 1952, 4225, 672, 121, 175, 686, 668, 494, 14666, 28198, 5, 40, 14666, 28198, 5413, 430, 9, 233, 21, 6, 52, 267, 3219, 4440, 925, 11, 147, 113, 294, 40, 2390, 209, 4, 2246, 586, 79, 746, 1245, 1983, 7, 294, 17, 307, 17, 13623, 21, 11, 14, 363, 20, 45, 4, 85, 96, 187, 13623, 9, 427, 4765, 44, 5413, 430, 21, 29, 426, 459, 329, 2390, 299, 27, 646, 10272, 76, 99, 400, 11, 27, 102, 5, 12, 9, 1713, 3084, 2643, 1593, 9, 243, 7, 3226, 29, 218, 3226, 17, 6, 3155, 1799, 21, 247, 88, 7, 4, 1191, 63, 331, 152, 1735, 90, 13623, 9, 1220, 17, 126, 21, 59, 299, 6, 6209, 5, 14, 13339, 23, 5249, 9, 31, 7, 4, 1121, 712, 19, 4, 22, 4, 293, 105, 26, 32, 49, 432, 7, 2118, 46, 7, 78, 42, 110, 12, 32, 159, 102, 5, 706, 2868, 5413, 9, 4, 646, 1132, 37, 266, 145, 8, 513, 8, 79, 32, 4, 372, 5, 29, 426, 459, 329, 44, 27, 487, 63, 6755, 853, 31685, 4637, 1593, 9, 6, 2928, 21, 2575, 3155, 1799, 13623, 9, 4, 995, 21, 55, 1451, 8204, 15547, 4384, 119, 602, 9, 6, 16407, 5292, 2809, 15547, 597, 9, 4, 1112, 232, 37, 1021, 83, 27, 5078, 970, 5, 47, 6, 2320, 1349, 5, 38, 23, 1807, 10, 10, 4, 65, 1367, 6, 378, 7, 10046, 63, 26, 6, 117, 99, 230, 4190, 18, 61, 1296, 5413, 43, 571, 8, 10933, 83, 27, 6328, 11, 6, 8435, 27, 6328, 43, 571, 8, 30, 17009, 245, 39, 41, 4429, 54, 4, 1569, 9893, 27, 3377, 18, 4, 86, 58, 5, 95, 50, 9, 4, 373, 379, 277, 10, 10, 11, 12, 6, 1819, 232, 5609, 23, 880, 5413, 430, 820, 1030, 8, 169, 90, 11, 6, 9110, 7, 32, 1370, 4, 273, 9, 1254, 8429, 19, 4, 801, 3361, 5, 4117, 935, 45, 1448, 11, 4, 2193, 5, 246, 4, 232, 820, 659, 5413, 11, 2716, 7, 112, 1819, 17, 6, 30138, 5, 3234, 33, 90, 21, 482, 37, 29, 1098, 13623, 59, 2980, 11, 1011, 7, 4, 3985, 8, 607, 5413, 6, 1591, 63, 700, 274, 927, 238, 4032, 33, 14, 1254, 1235, 120, 905, 5, 616, 277, 434, 566, 591, 101, 60, 2394, 1089, 529, 5, 14, 571, 23, 4, 172, 251, 15, 13623, 5, 2390, 188, 1021, 4, 564, 7, 14, 1835, 186, 8, 28, 332, 2136, 9594, 2868, 27, 226, 113, 89, 334, 9, 4, 487, 7, 14, 20, 8, 30, 1852, 50, 9, 60, 6, 3155, 500, 11, 63, 6, 10227, 4741, 19, 5413, 1593, 1918, 49, 1591, 5249, 46, 7, 4, 6819, 3983, 1546, 12, 16, 40, 6, 1543, 1010, 1087, 160, 995, 155, 9, 4, 96, 2390, 16, 932, 44, 4, 357, 16407, 14147, 8204, 5, 184, 76, 3714, 13623, 17, 4, 20, 4608, 75, 169, 46, 15, 2390, 659, 13623, 8, 30, 99, 995, 18, 90, 43, 17, 4, 4384, 8204, 659, 2390, 8, 30, 99, 364, 707, 18, 41, 50, 9, 6, 813, 71084, 5, 9312, 8, 30, 32449, 11, 4, 229, 2795, 13623, 13623, 9, 1899, 17, 3545, 34, 316, 137, 4, 4384, 8204, 9, 1899, 17, 6, 2549, 5, 35, 2772, 4, 2954, 882, 9, 15, 4, 20486, 109, 266, 125, 17, 247, 995, 5, 24, 33, 32, 17, 2772, 41, 5424, 795, 5, 4704, 26, 669, 2711, 710, 1471, 1948, 5, 5243, 33, 222, 40475, 109, 694, 15, 59, 13623, 9, 995, 50, 9, 160, 3159, 15, 13, 161, 1854, 8, 1495, 2390, 69, 1113, 1556, 35, 277, 18, 27, 2484, 65, 76, 40, 4, 564, 7, 14, 20, 5, 198, 138, 29, 385, 56, 19, 4, 2031, 2136, 1962, 10, 10, 4, 22, 691, 47, 6, 1156, 177, 5, 4, 1381, 9, 327, 21, 4, 229, 151, 518, 864, 4066, 8, 2699, 23, 710, 1835, 305, 7, 23, 635, 448, 105, 5, 687, 10, 10, 48, 335, 928, 11, 886, 61, 15954, 7, 4389, 13623, 5, 85, 363, 11076, 3154, 72, 34, 963, 4738]\n",
        "('first example with soundtrack and effects', \" the not was tom plot than taken in can as on it's good moments taken some br of entertaining believable series is far mistakes i i of you gave this so charismatic timing too regarded worse trying those in be enormously watch plot actors as example lungs br dressed to of script kill it ww who be iran all it jamie has seeing tries in giving in made to us found all begin nah film made just music even guaranteed which be mates florida for would story michel one chuck about terrific in illusion film regarded worse is over anti which be around mates tries is felt br made whom just by br though producer private tie rating know us four power tries scant fillmore to just scant fillmore regarded worse it last not is very set annoyed agrees interested this now acting play just louis comedy of sheriff attempt also message military streets br play movie version movie stagecoach not this as until on if of because too however stagecoach it boy damon has regarded worse not all against laugh read louis effects be relationship dietrich get movies name this be characters to that it theatre spin lifetime intense it yet br virgin all interesting virgin movie is courage fred not girl most br of changed really else thing danny made stagecoach it tony movie your not would effects is lasts to as utilizing are ross it by br of german words film of you of watched films he an good went br leader some br do it's life that an new characters to 8 introduction regarded it of relationship walk like trying those in kill in also an of next to all against laugh read has be you'll really commitment average polarized complexity intense it is ned not crying courage fred stagecoach it of various not time falling capote satires passionate did cut it is commune complaining quirky satires none it of violent feel like william first be grayson casting to there is france costumes to her are dressed i i of their places is stars br logo really he is over movies anything dozens but only twists regarded out involved in borg first be mates this is fighters be mates out involved in at chips tv or about facing no of extreme declares be covers but of how my to them more it of tell perhaps once i i this that is originally feel palance are romance regarded worse crime recently in same made this is locales br an details of put it fair plotted film of famous videos to trees america if likable this of vehicle to worst of feel crime talking regarded this artists br never originally movie is cadavers to guilt they made not lead like all language stagecoach would blair this match br of kidding in looked regarded is collection really earth ending forward 2 implausible they as fair surprisingly show earlier to sad once waste hit wonder think which north fear self to as involved are of every hard for stagecoach to louis can't william of violence br as lies horror in one you're broadway underdog introduction be script acting don't fan it of you'll br as on in at creating more it which is courage b this really is resurrection classical film regarded intense manage good collection ross some br of slapped odds flying that with just is imagination boys escape funny various 10 it of too louis with plus has of rest commune referenced capote to around get mitchell stagecoach movie of on hung bad same some for louis talking stagecoach in at movies various but made out movie of passionate capote talking louis in at movies along silly but about more it is soundtrack to in at preying this of guy greater stagecoach stagecoach it cuts movie ambitious who seeing go of passionate capote it cuts movie is occasional to so settings of arrives nor it for of munsters being trying better movie girl various to his they an movie settings about baldwin avoid to civilization he episodes china aren't difference dealing to infected they there's pero being knew for would stagecoach it various more it funny storm for was nothing knowledge in laughed louis me ultimately beat so once but be crash their get just of violence br as on to series such all moments she film of blind broadway ann i i of you knows there is impressive down to of impression it mind not of guy old run believable parent in table are aren't lies john br are across fans films to songs i i what poor comment this leaves only arabia br improve stagecoach to because until bunker pack we who incredibly ensues\")\n"
       ]
      }
     ],
     "prompt_number": 7
    },
    {
     "cell_type": "markdown",
     "metadata": {},
     "source": [
      "Question 1.2) Find the maximum, minimum and the average number of words per document?\n",
      "\n",
      "Answer:"
     ]
    },
    {
     "cell_type": "code",
     "collapsed": true,
     "input": [
      "sum=0\n",
      "max=-1\n",
      "min=100000000000000000000000\n",
      "for review in x_train:\n",
      "    sum+=len(review)\n",
      "    if len(review)>max:\n",
      "        max=len(review)\n",
      "    if len(review)<min:\n",
      "        min=len(review)\n",
      "        \n",
      "avg=sum/len(x_train)\n",
      "print(\"average number of word\",avg,\"minimum number of words\", min,\"max number of words\",max)\n"
     ],
     "language": "python",
     "metadata": {},
     "outputs": [
      {
       "output_type": "stream",
       "stream": "stdout",
       "text": [
        "('average number of word', 238, 'minimum number of words', 11, 'max number of words', 2494)\n"
       ]
      }
     ],
     "prompt_number": 8
    },
    {
     "cell_type": "code",
     "collapsed": true,
     "input": [
      "# Shows the total number of labels\n",
      "num_classes = np.max(y_train)+1\n",
      "print('> Number of classes: {}\\n'.format(num_classes))\n",
      "# We select only sequences that contain less or equal than maxlen words\n",
      "# We chosed this value because it is between max and min length words per document but it is a hyperparameter\n",
      "# We limited this value in order to take less time to process sequences\n",
      "maxlen = 500"
     ],
     "language": "python",
     "metadata": {},
     "outputs": [
      {
       "output_type": "stream",
       "stream": "stdout",
       "text": [
        "> Number of classes: 2\n",
        "\n"
       ]
      }
     ],
     "prompt_number": 9
    },
    {
     "cell_type": "markdown",
     "metadata": {},
     "source": [
      "Question 1.3) What is the size of the training and test datasets before and after paddings? Why do we use paddings? What happens if the sequence length is shorter or longer than *maxlen*?\n",
      "\n",
      "Answer:"
     ]
    },
    {
     "cell_type": "code",
     "collapsed": false,
     "input": [
      "print(x_train.shape)\n",
      "print(x_test.shape)\n",
      "for review in x_train[:3]:\n",
      "    print(len(review))\n",
      "    print(review[:3])\n",
      "    \n",
      "print(\"len of x_train[7]\",len(x_train[7]),x_train[7][:3]) #this review has more words than maxlen"
     ],
     "language": "python",
     "metadata": {},
     "outputs": [
      {
       "output_type": "stream",
       "stream": "stdout",
       "text": [
        "(25000,)\n",
        "(25000,)\n",
        "218\n",
        "[1, 14, 22]\n",
        "189\n",
        "[1, 194, 1153]\n",
        "141\n",
        "[1, 14, 47]\n",
        "('len of x_train[7]', 562, [1, 4, 14906])\n"
       ]
      }
     ],
     "prompt_number": 10
    },
    {
     "cell_type": "code",
     "collapsed": true,
     "input": [
      "# We use all words of vocabulary\n",
      "max_words = len(word_index)\n",
      "print('Vectorizing sequence data...\\n')\n",
      "# Adding padding in sequences with less than max_words\n",
      "X_train = sequence.pad_sequences(x_train, maxlen=maxlen)\n",
      "X_test = sequence.pad_sequences(x_test, maxlen=maxlen)\n",
      "\n",
      "### CELL TO COMPLETE (print information of the last question below) (~ 6 lines)"
     ],
     "language": "python",
     "metadata": {},
     "outputs": [
      {
       "output_type": "stream",
       "stream": "stdout",
       "text": [
        "Vectorizing sequence data...\n",
        "\n"
       ]
      }
     ],
     "prompt_number": 11
    },
    {
     "cell_type": "code",
     "collapsed": false,
     "input": [
      "print(X_train.shape)\n",
      "print(X_test.shape)\n",
      "for review in X_train[:3]:\n",
      "    print(len(review))\n",
      "    print(review[:3])\n",
      "print(\"len of x_train[7]\",len(X_train[7]),X_train[7,:3])"
     ],
     "language": "python",
     "metadata": {},
     "outputs": [
      {
       "output_type": "stream",
       "stream": "stdout",
       "text": [
        "(25000, 500)\n",
        "(25000, 500)\n",
        "500\n",
        "[0 0 0]\n",
        "500\n",
        "[0 0 0]\n",
        "500\n",
        "[0 0 0]\n",
        "('len of x_train[7]', 500, array([   4, 3231,  152], dtype=int32))\n"
       ]
      }
     ],
     "prompt_number": 12
    },
    {
     "cell_type": "markdown",
     "metadata": {},
     "source": [
      "Question 1.3) What is the size of the training and test datasets before and after paddings? \n",
      "The length of the training and the test datasets are the same (25000 each) before and after padding, but the length of reviews are the same after padding (and not before).\n",
      "\n",
      "\n",
      "\n",
      "Why do we use paddings? What happens if the sequence length is shorter or longer than maxlen?\n",
      "We use paddings to have the same shape for each input x.\n",
      "\n",
      "If the sequence length is shorter : we add zero at the beggining of the review (indexes sequence).\n",
      "Whereas if the sequence length is longer : we cut the sequence at the beggining."
     ]
    },
    {
     "cell_type": "markdown",
     "metadata": {},
     "source": [
      "## Part 2) Many-to-one sequence logistic classifier\n",
      "\n",
      "**Recall:**\n",
      "\n",
      "The image above shows a simple RNN model that for each time $1 \\leq t \\leq t_{max}$ gives the output vector $o_t$ based on inputs $s_{t-1}$ and $x_t$.\n",
      "\n",
      "In a many-to-one sequence logistic classifier, the final output is $o_{t_{max}}$. In the case of predicting labels for reviews the last output vector is used in the logistic regression. We call in lab session the vector $s_{t_{max}}$ as context vector.\n",
      "\n",
      "We could summarize the RNN model as a function:\n",
      "\n",
      "$$ f_{RNN}(U, V, W; s_0, x_1, x_2, ... x_{t_{max}}) = o_{t_{max}}  = P(y=1 | s_0, x_1, x_2, ..., x_{t_{max}})$$\n",
      "\n",
      "The set of parameters in RNN model to be optimized is $\\theta = \\{U, V, W\\}$.\n",
      "\n",
      "The RNN model is optmized following the binary cross-entropy criteria. For the example $i$:\n",
      "\n",
      "$$L_{i}= -[y_i log  (o_{t_{max}}) + (1-y_i) log (1-o_{t_{max}})]$$\n",
      "\n",
      "The optimization algorithm consists in find a good solution the equation above on the set of training samples:\n",
      "\n",
      "$$ arg_{\\theta} min \\frac{1}{N}\\sum_{i}^{N}L_{i}$$\n",
      "\n",
      "*Specific formulas of the Simple RNN model can be found on material of Deep Learning module*\n",
      "\n",
      "![RNN model](http://www.wildml.com/wp-content/uploads/2015/09/rnn.jpg)\n",
      "RNN model figure extracted from [source rnn](http://www.wildml.com/2015/09/recurrent-neural-networks-tutorial-part-2-implementing-a-language-model-rnn-with-python-numpy-and-theano/)"
     ]
    },
    {
     "cell_type": "markdown",
     "metadata": {},
     "source": [
      "Now, you should test others RNN architectures such as (LSTM and BiLSTM)\n",
      "\n",
      "An Embedding layer in Keras:\n",
      "\n",
      "Turns positive integers (indexes) into dense vectors of fixed size. eg. [[4], [20]] -> [[0.25, 0.1], [0.6, -0.2]]\n",
      "\n",
      "In this last example, we transform the sequence of indexes 4 and 20 into real vectors respectively (0.25, 0.1) and (0.6, -0.2). Each index corresponds to a word in vocabulary. All word vectors are parameters of the model and they are optimized as parameters.\n",
      "\n",
      "[See this link for more information about](https://keras.io/layers/embeddings/)"
     ]
    },
    {
     "cell_type": "markdown",
     "metadata": {},
     "source": [
      "What is an Embedding layer : layer that makes a projection of vectors in an espace of n dimension, into an espace of p dimension, with p<n. It's dimmensionnality reduction\n",
      "\n",
      "https://arxiv.org/pdf/1301.3781.pdf\n",
      "                                                                                                                                          \n",
      "                                                                                                                                           "
     ]
    },
    {
     "cell_type": "heading",
     "level": 2,
     "metadata": {},
     "source": [
      "2.1) Simple RNN model with Embedding Layer"
     ]
    },
    {
     "cell_type": "markdown",
     "metadata": {},
     "source": [
      "Here we give you an example of simple RNN declaration."
     ]
    },
    {
     "cell_type": "code",
     "collapsed": true,
     "input": [
      "from keras.layers import SimpleRNN, Dense, Embedding, Activation\n",
      "from keras.models import Sequential\n",
      "\n",
      "embedding_dims = 300\n",
      "rnn_units = 50\n",
      "\n",
      "print('Build model...')\n",
      "model = Sequential()\n",
      "\n",
      "# max_words is the vocabulary size\n",
      "# embeddings_dim is the dimension of each word embeddings vector\n",
      "# maxlen is the maximum length of each sequence\n",
      "# Embedding layer definition\n",
      "model.add(Embedding(max_words, embedding_dims, input_length=maxlen))\n",
      "# Recurrent layer definition\n",
      "model.add(SimpleRNN(rnn_units, activation='tanh', return_sequences=False)) # Output of this layer is the context vector\n",
      "# Linear layer definition\n",
      "model.add(Dense(num_classes-1))\n",
      "# Non-linear function bounded (0 to 1)\n",
      "model.add(Activation('sigmoid'))\n",
      "\n",
      "model.compile(loss='binary_crossentropy', optimizer='adam', metrics=['acc'])\n",
      "# Show the model architecture\n",
      "print (model.summary())"
     ],
     "language": "python",
     "metadata": {},
     "outputs": [
      {
       "output_type": "stream",
       "stream": "stdout",
       "text": [
        "Build model...\n",
        "_________________________________________________________________"
       ]
      },
      {
       "output_type": "stream",
       "stream": "stdout",
       "text": [
        "\n",
        "Layer (type)                 Output Shape              Param #   \n",
        "=================================================================\n",
        "embedding_1 (Embedding)      (None, 500, 300)          26575200  \n",
        "_________________________________________________________________\n",
        "simple_rnn_1 (SimpleRNN)     (None, 50)                17550     \n",
        "_________________________________________________________________\n",
        "dense_1 (Dense)              (None, 1)                 51        \n",
        "_________________________________________________________________\n",
        "activation_1 (Activation)    (None, 1)                 0         \n",
        "=================================================================\n",
        "Total params: 26,592,801\n",
        "Trainable params: 26,592,801\n",
        "Non-trainable params: 0\n",
        "_________________________________________________________________\n",
        "None\n"
       ]
      }
     ],
     "prompt_number": 13
    },
    {
     "cell_type": "code",
     "collapsed": true,
     "input": [
      "# Train model\n",
      "batch_size=128\n",
      "num_epochs=5\n",
      "\n",
      "model.fit(X_train, y_train, batch_size=batch_size, epochs=num_epochs, validation_data=(X_test, y_test), verbose=2)\n",
      "\n",
      "print('Now it takes time...')\n",
      "# Evaluate model\n",
      "test_loss, acc = model.evaluate(X_test, y_test, batch_size=batch_size)\n",
      "    \n",
      "print('Test loss: %1.4f' % test_loss)\n",
      "print('Test Accuracy: %1.4f' % acc)"
     ],
     "language": "python",
     "metadata": {},
     "outputs": [
      {
       "output_type": "stream",
       "stream": "stdout",
       "text": [
        "Train on 25000 samples, validate on 25000 samples\n",
        "Epoch 1/5\n",
        " - 121s - loss: 0.5110 - acc: 0.7479 - val_loss: 0.5614 - val_acc: 0.7032\n"
       ]
      },
      {
       "output_type": "stream",
       "stream": "stdout",
       "text": [
        "Epoch 2/5\n",
        " - 82s - loss: 0.2648 - acc: 0.8956 - val_loss: 0.4237 - val_acc: 0.8239\n"
       ]
      },
      {
       "output_type": "stream",
       "stream": "stdout",
       "text": [
        "Epoch 3/5\n",
        " - 78s - loss: 0.0470 - acc: 0.9867 - val_loss: 0.5089 - val_acc: 0.8008\n"
       ]
      },
      {
       "output_type": "stream",
       "stream": "stdout",
       "text": [
        "Epoch 4/5\n",
        " - 79s - loss: 0.0078 - acc: 0.9991 - val_loss: 0.5463 - val_acc: 0.8176\n"
       ]
      },
      {
       "output_type": "stream",
       "stream": "stdout",
       "text": [
        "Epoch 5/5\n",
        " - 78s - loss: 0.0022 - acc: 0.9999 - val_loss: 0.5770 - val_acc: 0.8211\n"
       ]
      },
      {
       "output_type": "stream",
       "stream": "stdout",
       "text": [
        "Now it takes time...\n",
        "\n",
        "  128/25000 [..............................] - ETA: 5s"
       ]
      },
      {
       "output_type": "stream",
       "stream": "stdout",
       "text": [
        "\n",
        "  384/25000 [..............................] - ETA: 5s"
       ]
      },
      {
       "output_type": "stream",
       "stream": "stdout",
       "text": [
        "\n",
        "  640/25000 [..............................] - ETA: 5s"
       ]
      },
      {
       "output_type": "stream",
       "stream": "stdout",
       "text": [
        "\n",
        "  896/25000 [>.............................] - ETA: 5s"
       ]
      },
      {
       "output_type": "stream",
       "stream": "stdout",
       "text": [
        "\n",
        " 1152/25000 [>.............................] - ETA: 5s"
       ]
      },
      {
       "output_type": "stream",
       "stream": "stdout",
       "text": [
        "\n",
        " 1408/25000 [>.............................] - ETA: 5s"
       ]
      },
      {
       "output_type": "stream",
       "stream": "stdout",
       "text": [
        "\n",
        " 1536/25000 [>.............................] - ETA: 5s"
       ]
      },
      {
       "output_type": "stream",
       "stream": "stdout",
       "text": [
        "\n",
        " 1792/25000 [=>............................] - ETA: 6s"
       ]
      },
      {
       "output_type": "stream",
       "stream": "stdout",
       "text": [
        "\n",
        " 2048/25000 [=>............................] - ETA: 5s"
       ]
      },
      {
       "output_type": "stream",
       "stream": "stdout",
       "text": [
        "\n",
        " 2304/25000 [=>............................] - ETA: 5s"
       ]
      },
      {
       "output_type": "stream",
       "stream": "stdout",
       "text": [
        "\n",
        " 2560/25000 [==>...........................] - ETA: 5s"
       ]
      },
      {
       "output_type": "stream",
       "stream": "stdout",
       "text": [
        "\n",
        " 2816/25000 [==>...........................] - ETA: 5s"
       ]
      },
      {
       "output_type": "stream",
       "stream": "stdout",
       "text": [
        "\n",
        " 3072/25000 [==>...........................] - ETA: 5s"
       ]
      },
      {
       "output_type": "stream",
       "stream": "stdout",
       "text": [
        "\n",
        " 3328/25000 [==>...........................] - ETA: 5s"
       ]
      },
      {
       "output_type": "stream",
       "stream": "stdout",
       "text": [
        "\n",
        " 3584/25000 [===>..........................] - ETA: 5s"
       ]
      },
      {
       "output_type": "stream",
       "stream": "stdout",
       "text": [
        "\n",
        " 3712/25000 [===>..........................] - ETA: 5s"
       ]
      },
      {
       "output_type": "stream",
       "stream": "stdout",
       "text": [
        "\n",
        " 3840/25000 [===>..........................] - ETA: 5s"
       ]
      },
      {
       "output_type": "stream",
       "stream": "stdout",
       "text": [
        "\n",
        " 3968/25000 [===>..........................] - ETA: 5s"
       ]
      },
      {
       "output_type": "stream",
       "stream": "stdout",
       "text": [
        "\n",
        " 4224/25000 [====>.........................] - ETA: 5s"
       ]
      },
      {
       "output_type": "stream",
       "stream": "stdout",
       "text": [
        "\n",
        " 4480/25000 [====>.........................] - ETA: 5s"
       ]
      },
      {
       "output_type": "stream",
       "stream": "stdout",
       "text": [
        "\n",
        " 4608/25000 [====>.........................] - ETA: 5s"
       ]
      },
      {
       "output_type": "stream",
       "stream": "stdout",
       "text": [
        "\n",
        " 4736/25000 [====>.........................] - ETA: 5s"
       ]
      },
      {
       "output_type": "stream",
       "stream": "stdout",
       "text": [
        "\n",
        " 4864/25000 [====>.........................] - ETA: 5s"
       ]
      },
      {
       "output_type": "stream",
       "stream": "stdout",
       "text": [
        "\n",
        " 5120/25000 [=====>........................] - ETA: 5s"
       ]
      },
      {
       "output_type": "stream",
       "stream": "stdout",
       "text": [
        "\n",
        " 5376/25000 [=====>........................] - ETA: 5s"
       ]
      },
      {
       "output_type": "stream",
       "stream": "stdout",
       "text": [
        "\n",
        " 5504/25000 [=====>........................] - ETA: 5s"
       ]
      },
      {
       "output_type": "stream",
       "stream": "stdout",
       "text": [
        "\n",
        " 5760/25000 [=====>........................] - ETA: 5s"
       ]
      },
      {
       "output_type": "stream",
       "stream": "stdout",
       "text": [
        "\n",
        " 6016/25000 [======>.......................] - ETA: 5s"
       ]
      },
      {
       "output_type": "stream",
       "stream": "stdout",
       "text": [
        "\n",
        " 6272/25000 [======>.......................] - ETA: 5s"
       ]
      },
      {
       "output_type": "stream",
       "stream": "stdout",
       "text": [
        "\n",
        " 6528/25000 [======>.......................] - ETA: 5s"
       ]
      },
      {
       "output_type": "stream",
       "stream": "stdout",
       "text": [
        "\n",
        " 6784/25000 [=======>......................] - ETA: 5s"
       ]
      },
      {
       "output_type": "stream",
       "stream": "stdout",
       "text": [
        "\n",
        " 7040/25000 [=======>......................] - ETA: 5s"
       ]
      },
      {
       "output_type": "stream",
       "stream": "stdout",
       "text": [
        "\n",
        " 7296/25000 [=======>......................] - ETA: 5s"
       ]
      },
      {
       "output_type": "stream",
       "stream": "stdout",
       "text": [
        "\n",
        " 7552/25000 [========>.....................] - ETA: 5s"
       ]
      },
      {
       "output_type": "stream",
       "stream": "stdout",
       "text": [
        "\n",
        " 7808/25000 [========>.....................] - ETA: 5s"
       ]
      },
      {
       "output_type": "stream",
       "stream": "stdout",
       "text": [
        "\n",
        " 8064/25000 [========>.....................] - ETA: 4s"
       ]
      },
      {
       "output_type": "stream",
       "stream": "stdout",
       "text": [
        "\n",
        " 8320/25000 [========>.....................] - ETA: 4s"
       ]
      },
      {
       "output_type": "stream",
       "stream": "stdout",
       "text": [
        "\n",
        " 8576/25000 [=========>....................] - ETA: 4s"
       ]
      },
      {
       "output_type": "stream",
       "stream": "stdout",
       "text": [
        "\n",
        " 8832/25000 [=========>....................] - ETA: 4s"
       ]
      },
      {
       "output_type": "stream",
       "stream": "stdout",
       "text": [
        "\n",
        " 9088/25000 [=========>....................] - ETA: 4s"
       ]
      },
      {
       "output_type": "stream",
       "stream": "stdout",
       "text": [
        "\n",
        " 9344/25000 [==========>...................] - ETA: 4s"
       ]
      },
      {
       "output_type": "stream",
       "stream": "stdout",
       "text": [
        "\n",
        " 9600/25000 [==========>...................] - ETA: 4s"
       ]
      },
      {
       "output_type": "stream",
       "stream": "stdout",
       "text": [
        "\n",
        " 9856/25000 [==========>...................] - ETA: 4s"
       ]
      },
      {
       "output_type": "stream",
       "stream": "stdout",
       "text": [
        "\n",
        "10112/25000 [===========>..................] - ETA: 4s"
       ]
      },
      {
       "output_type": "stream",
       "stream": "stdout",
       "text": [
        "\n",
        "10240/25000 [===========>..................] - ETA: 4s"
       ]
      },
      {
       "output_type": "stream",
       "stream": "stdout",
       "text": [
        "\n",
        "10368/25000 [===========>..................] - ETA: 4s"
       ]
      },
      {
       "output_type": "stream",
       "stream": "stdout",
       "text": [
        "\n",
        "10496/25000 [===========>..................] - ETA: 4s"
       ]
      },
      {
       "output_type": "stream",
       "stream": "stdout",
       "text": [
        "\n",
        "10624/25000 [===========>..................] - ETA: 4s"
       ]
      },
      {
       "output_type": "stream",
       "stream": "stdout",
       "text": [
        "\n",
        "10752/25000 [===========>..................] - ETA: 4s"
       ]
      },
      {
       "output_type": "stream",
       "stream": "stdout",
       "text": [
        "\n",
        "10880/25000 [============>.................] - ETA: 4s"
       ]
      },
      {
       "output_type": "stream",
       "stream": "stdout",
       "text": [
        "\n",
        "11008/25000 [============>.................] - ETA: 4s"
       ]
      },
      {
       "output_type": "stream",
       "stream": "stdout",
       "text": [
        "\n",
        "11136/25000 [============>.................] - ETA: 4s"
       ]
      },
      {
       "output_type": "stream",
       "stream": "stdout",
       "text": [
        "\n",
        "11264/25000 [============>.................] - ETA: 4s"
       ]
      },
      {
       "output_type": "stream",
       "stream": "stdout",
       "text": [
        "\n",
        "11392/25000 [============>.................] - ETA: 4s"
       ]
      },
      {
       "output_type": "stream",
       "stream": "stdout",
       "text": [
        "\n",
        "11520/25000 [============>.................] - ETA: 4s"
       ]
      },
      {
       "output_type": "stream",
       "stream": "stdout",
       "text": [
        "\n",
        "11776/25000 [=============>................] - ETA: 4s"
       ]
      },
      {
       "output_type": "stream",
       "stream": "stdout",
       "text": [
        "\n",
        "12032/25000 [=============>................] - ETA: 4s"
       ]
      },
      {
       "output_type": "stream",
       "stream": "stdout",
       "text": [
        "\n",
        "12288/25000 [=============>................] - ETA: 4s"
       ]
      },
      {
       "output_type": "stream",
       "stream": "stdout",
       "text": [
        "\n",
        "12544/25000 [==============>...............] - ETA: 3s"
       ]
      },
      {
       "output_type": "stream",
       "stream": "stdout",
       "text": [
        "\n",
        "12800/25000 [==============>...............] - ETA: 3s"
       ]
      },
      {
       "output_type": "stream",
       "stream": "stdout",
       "text": [
        "\n",
        "13056/25000 [==============>...............] - ETA: 3s"
       ]
      },
      {
       "output_type": "stream",
       "stream": "stdout",
       "text": [
        "\n",
        "13184/25000 [==============>...............] - ETA: 3s"
       ]
      },
      {
       "output_type": "stream",
       "stream": "stdout",
       "text": [
        "\n",
        "13440/25000 [===============>..............] - ETA: 3s"
       ]
      },
      {
       "output_type": "stream",
       "stream": "stdout",
       "text": [
        "\n",
        "13568/25000 [===============>..............] - ETA: 3s"
       ]
      },
      {
       "output_type": "stream",
       "stream": "stdout",
       "text": [
        "\n",
        "13696/25000 [===============>..............] - ETA: 3s"
       ]
      },
      {
       "output_type": "stream",
       "stream": "stdout",
       "text": [
        "\n",
        "13824/25000 [===============>..............] - ETA: 3s"
       ]
      },
      {
       "output_type": "stream",
       "stream": "stdout",
       "text": [
        "\n",
        "13952/25000 [===============>..............] - ETA: 3s"
       ]
      },
      {
       "output_type": "stream",
       "stream": "stdout",
       "text": [
        "\n",
        "14080/25000 [===============>..............] - ETA: 3s"
       ]
      },
      {
       "output_type": "stream",
       "stream": "stdout",
       "text": [
        "\n",
        "14208/25000 [================>.............] - ETA: 3s"
       ]
      },
      {
       "output_type": "stream",
       "stream": "stdout",
       "text": [
        "\n",
        "14336/25000 [================>.............] - ETA: 3s"
       ]
      },
      {
       "output_type": "stream",
       "stream": "stdout",
       "text": [
        "\n",
        "14464/25000 [================>.............] - ETA: 3s"
       ]
      },
      {
       "output_type": "stream",
       "stream": "stdout",
       "text": [
        "\n",
        "14592/25000 [================>.............] - ETA: 3s"
       ]
      },
      {
       "output_type": "stream",
       "stream": "stdout",
       "text": [
        "\n",
        "14720/25000 [================>.............] - ETA: 3s"
       ]
      },
      {
       "output_type": "stream",
       "stream": "stdout",
       "text": [
        "\n",
        "14848/25000 [================>.............] - ETA: 3s"
       ]
      },
      {
       "output_type": "stream",
       "stream": "stdout",
       "text": [
        "\n",
        "14976/25000 [================>.............] - ETA: 3s"
       ]
      },
      {
       "output_type": "stream",
       "stream": "stdout",
       "text": [
        "\n",
        "15104/25000 [=================>............] - ETA: 3s"
       ]
      },
      {
       "output_type": "stream",
       "stream": "stdout",
       "text": [
        "\n",
        "15232/25000 [=================>............] - ETA: 3s"
       ]
      },
      {
       "output_type": "stream",
       "stream": "stdout",
       "text": [
        "\n",
        "15360/25000 [=================>............] - ETA: 3s"
       ]
      },
      {
       "output_type": "stream",
       "stream": "stdout",
       "text": [
        "\n",
        "15488/25000 [=================>............] - ETA: 3s"
       ]
      },
      {
       "output_type": "stream",
       "stream": "stdout",
       "text": [
        "\n",
        "15616/25000 [=================>............] - ETA: 3s"
       ]
      },
      {
       "output_type": "stream",
       "stream": "stdout",
       "text": [
        "\n",
        "15744/25000 [=================>............] - ETA: 3s"
       ]
      },
      {
       "output_type": "stream",
       "stream": "stdout",
       "text": [
        "\n",
        "15872/25000 [==================>...........] - ETA: 3s"
       ]
      },
      {
       "output_type": "stream",
       "stream": "stdout",
       "text": [
        "\n",
        "16000/25000 [==================>...........] - ETA: 3s"
       ]
      },
      {
       "output_type": "stream",
       "stream": "stdout",
       "text": [
        "\n",
        "16128/25000 [==================>...........] - ETA: 3s"
       ]
      },
      {
       "output_type": "stream",
       "stream": "stdout",
       "text": [
        "\n",
        "16384/25000 [==================>...........] - ETA: 3s"
       ]
      },
      {
       "output_type": "stream",
       "stream": "stdout",
       "text": [
        "\n",
        "16512/25000 [==================>...........] - ETA: 3s"
       ]
      },
      {
       "output_type": "stream",
       "stream": "stdout",
       "text": [
        "\n",
        "16640/25000 [==================>...........] - ETA: 3s"
       ]
      },
      {
       "output_type": "stream",
       "stream": "stdout",
       "text": [
        "\n",
        "16768/25000 [===================>..........] - ETA: 3s"
       ]
      },
      {
       "output_type": "stream",
       "stream": "stdout",
       "text": [
        "\n",
        "16896/25000 [===================>..........] - ETA: 3s"
       ]
      },
      {
       "output_type": "stream",
       "stream": "stdout",
       "text": [
        "\n",
        "17024/25000 [===================>..........] - ETA: 3s"
       ]
      },
      {
       "output_type": "stream",
       "stream": "stdout",
       "text": [
        "\n",
        "17152/25000 [===================>..........] - ETA: 3s"
       ]
      },
      {
       "output_type": "stream",
       "stream": "stdout",
       "text": [
        "\n",
        "17280/25000 [===================>..........] - ETA: 3s"
       ]
      },
      {
       "output_type": "stream",
       "stream": "stdout",
       "text": [
        "\n",
        "17408/25000 [===================>..........] - ETA: 3s"
       ]
      },
      {
       "output_type": "stream",
       "stream": "stdout",
       "text": [
        "\n",
        "17536/25000 [====================>.........] - ETA: 3s"
       ]
      },
      {
       "output_type": "stream",
       "stream": "stdout",
       "text": [
        "\n",
        "17664/25000 [====================>.........] - ETA: 3s"
       ]
      },
      {
       "output_type": "stream",
       "stream": "stdout",
       "text": [
        "\n",
        "17792/25000 [====================>.........] - ETA: 3s"
       ]
      },
      {
       "output_type": "stream",
       "stream": "stdout",
       "text": [
        "\n",
        "17920/25000 [====================>.........] - ETA: 2s"
       ]
      },
      {
       "output_type": "stream",
       "stream": "stdout",
       "text": [
        "\n",
        "18048/25000 [====================>.........] - ETA: 2s"
       ]
      },
      {
       "output_type": "stream",
       "stream": "stdout",
       "text": [
        "\n",
        "18304/25000 [====================>.........] - ETA: 2s"
       ]
      },
      {
       "output_type": "stream",
       "stream": "stdout",
       "text": [
        "\n",
        "18560/25000 [=====================>........] - ETA: 2s"
       ]
      },
      {
       "output_type": "stream",
       "stream": "stdout",
       "text": [
        "\n",
        "18816/25000 [=====================>........] - ETA: 2s"
       ]
      },
      {
       "output_type": "stream",
       "stream": "stdout",
       "text": [
        "\n",
        "19072/25000 [=====================>........] - ETA: 2s"
       ]
      },
      {
       "output_type": "stream",
       "stream": "stdout",
       "text": [
        "\n",
        "19328/25000 [======================>.......] - ETA: 2s"
       ]
      },
      {
       "output_type": "stream",
       "stream": "stdout",
       "text": [
        "\n",
        "19584/25000 [======================>.......] - ETA: 2s"
       ]
      },
      {
       "output_type": "stream",
       "stream": "stdout",
       "text": [
        "\n",
        "19840/25000 [======================>.......] - ETA: 2s"
       ]
      },
      {
       "output_type": "stream",
       "stream": "stdout",
       "text": [
        "\n",
        "20096/25000 [=======================>......] - ETA: 1s"
       ]
      },
      {
       "output_type": "stream",
       "stream": "stdout",
       "text": [
        "\n",
        "20352/25000 [=======================>......] - ETA: 1s"
       ]
      },
      {
       "output_type": "stream",
       "stream": "stdout",
       "text": [
        "\n",
        "20608/25000 [=======================>......] - ETA: 1s"
       ]
      },
      {
       "output_type": "stream",
       "stream": "stdout",
       "text": [
        "\n",
        "20864/25000 [========================>.....] - ETA: 1s"
       ]
      },
      {
       "output_type": "stream",
       "stream": "stdout",
       "text": [
        "\n",
        "21120/25000 [========================>.....] - ETA: 1s"
       ]
      },
      {
       "output_type": "stream",
       "stream": "stdout",
       "text": [
        "\n",
        "21376/25000 [========================>.....] - ETA: 1s"
       ]
      },
      {
       "output_type": "stream",
       "stream": "stdout",
       "text": [
        "\n",
        "21504/25000 [========================>.....] - ETA: 1s"
       ]
      },
      {
       "output_type": "stream",
       "stream": "stdout",
       "text": [
        "\n",
        "21632/25000 [========================>.....] - ETA: 1s"
       ]
      },
      {
       "output_type": "stream",
       "stream": "stdout",
       "text": [
        "\n",
        "21888/25000 [=========================>....] - ETA: 1s"
       ]
      },
      {
       "output_type": "stream",
       "stream": "stdout",
       "text": [
        "\n",
        "22144/25000 [=========================>....] - ETA: 1s"
       ]
      },
      {
       "output_type": "stream",
       "stream": "stdout",
       "text": [
        "\n",
        "22272/25000 [=========================>....] - ETA: 1s"
       ]
      },
      {
       "output_type": "stream",
       "stream": "stdout",
       "text": [
        "\n",
        "22400/25000 [=========================>....] - ETA: 1s"
       ]
      },
      {
       "output_type": "stream",
       "stream": "stdout",
       "text": [
        "\n",
        "22528/25000 [==========================>...] - ETA: 0s"
       ]
      },
      {
       "output_type": "stream",
       "stream": "stdout",
       "text": [
        "\n",
        "22656/25000 [==========================>...] - ETA: 0s"
       ]
      },
      {
       "output_type": "stream",
       "stream": "stdout",
       "text": [
        "\n",
        "22784/25000 [==========================>...] - ETA: 0s"
       ]
      },
      {
       "output_type": "stream",
       "stream": "stdout",
       "text": [
        "\n",
        "22912/25000 [==========================>...] - ETA: 0s"
       ]
      },
      {
       "output_type": "stream",
       "stream": "stdout",
       "text": [
        "\n",
        "23040/25000 [==========================>...] - ETA: 0s"
       ]
      },
      {
       "output_type": "stream",
       "stream": "stdout",
       "text": [
        "\n",
        "23296/25000 [==========================>...] - ETA: 0s"
       ]
      },
      {
       "output_type": "stream",
       "stream": "stdout",
       "text": [
        "\n",
        "23552/25000 [===========================>..] - ETA: 0s"
       ]
      },
      {
       "output_type": "stream",
       "stream": "stdout",
       "text": [
        "\n",
        "23680/25000 [===========================>..] - ETA: 0s"
       ]
      },
      {
       "output_type": "stream",
       "stream": "stdout",
       "text": [
        "\n",
        "23936/25000 [===========================>..] - ETA: 0s"
       ]
      },
      {
       "output_type": "stream",
       "stream": "stdout",
       "text": [
        "\n",
        "24192/25000 [============================>.] - ETA: 0s"
       ]
      },
      {
       "output_type": "stream",
       "stream": "stdout",
       "text": [
        "\n",
        "24448/25000 [============================>.] - ETA: 0s"
       ]
      },
      {
       "output_type": "stream",
       "stream": "stdout",
       "text": [
        "\n",
        "24576/25000 [============================>.] - ETA: 0s"
       ]
      },
      {
       "output_type": "stream",
       "stream": "stdout",
       "text": [
        "\n",
        "24704/25000 [============================>.] - ETA: 0s"
       ]
      },
      {
       "output_type": "stream",
       "stream": "stdout",
       "text": [
        "\n",
        "24960/25000 [============================>.] - ETA: 0s"
       ]
      },
      {
       "output_type": "stream",
       "stream": "stdout",
       "text": [
        "\n",
        "25000/25000 [==============================] - 10s 400us/step\n"
       ]
      },
      {
       "output_type": "stream",
       "stream": "stdout",
       "text": [
        "Test loss: 0.5770\n",
        "Test Accuracy: 0.8211\n"
       ]
      }
     ],
     "prompt_number": 14
    },
    {
     "cell_type": "markdown",
     "metadata": {},
     "source": [
      "Question 2.1) What does the option *return_sequences=False* in *SimpleRNN* layer definition ? If this option is activated, what should be the *output shape* of Recurrent layer?\n",
      "\n",
      "Answer: Whether to return the last output in the output sequence, or the full sequence."
     ]
    },
    {
     "cell_type": "markdown",
     "metadata": {},
     "source": [
      "## 2.2) LSTM/ BiLSTM model with Embedding Layer\n",
      "\n",
      "*Specific formulas of LSTM model can be found on material of Deep Learning module.*\n",
      "\n",
      "The LSTM model is more complex than the RNN model. It is pictured in the figure above:\n",
      "\n",
      "![LSTM model](http://colah.github.io/posts/2015-08-Understanding-LSTMs/img/LSTM3-chain.png)\n",
      "\n"
     ]
    },
    {
     "cell_type": "markdown",
     "metadata": {},
     "source": [
      "Question 2.2) What are the advantages (two minimum) in using LSTM instead of a simple RNN model ?\n",
      "\n",
      "Answer: Using LSTM solves the problem of vanishing gradient descent and so allows the model to acquire maintain information in memory for a long period of time.\n",
      "\n",
      "\n",
      "Question 2.3) What is the bidirectional recurrent architecture ? What kind of operation is performed in context vectors of each direction ?\n",
      "\n",
      "Answer: \"The principle of bidirectional recurrent architecture is to split the neurons of a regular RNN into two directions, one for positive time direction (forward states), and another for negative time direction (backward states). Those two states\u2019 output are not connected to inputs of the opposite direction states. The general structure of RNN and BRNN can be depicted in the right diagram. By using two time directions, input information from the past and future of the current time frame can be used unlike standard RNN which requires the delays for including future information\" \n",
      "\n",
      "https://en.wikipedia.org/wiki/Bidirectional_recurrent_neural_networks\n",
      "\n",
      "\n",
      "Obvious application of BRNN : find the translation of a word by looking at the translation of previous words and next words.\n",
      "\n",
      "\n",
      "Question 2.4) Write your own LSTM and/or Bidirectional LSTM model and compare the results with simple RNN model. (use *CuDNNLSTM* layer instead of *LSTM* for faster results) \n"
     ]
    },
    {
     "cell_type": "code",
     "collapsed": true,
     "input": [
      "#LSTM model\n",
      "from keras.layers import CuDNNLSTM\n",
      "\n",
      "embedding_dims = 300\n",
      "rnn_units = 50\n",
      "\n",
      "print('Build model...')\n",
      "model2 = Sequential()\n",
      "\n",
      "# max_words is the vocabulary size\n",
      "# embeddings_dim is the dimension of each word embeddings vector\n",
      "# maxlen is the maximum length of each sequence\n",
      "# Embedding layer definition\n",
      "model2.add(Embedding(max_words, embedding_dims, input_length=maxlen))\n",
      "# Recurrent layer definition\n",
      "model2.add(CuDNNLSTM(rnn_units, kernel_initializer='glorot_uniform', recurrent_initializer='orthogonal', bias_initializer='zeros'))\n",
      "#model2.add(SimpleRNN(rnn_units, activation='tanh', return_sequences=False)) # Output of this layer is the context vector\n",
      "# Linear layer definition\n",
      "model2.add(Dense(num_classes-1))\n",
      "# Non-linear function bounded (0 to 1)\n",
      "model2.add(Activation('sigmoid'))\n",
      "\n",
      "model2.compile(loss='binary_crossentropy', optimizer='adam', metrics=['acc'])\n",
      "# Show the model architecture\n",
      "print (model2.summary())\n",
      "\n"
     ],
     "language": "python",
     "metadata": {},
     "outputs": [
      {
       "output_type": "stream",
       "stream": "stdout",
       "text": [
        "Build model...\n",
        "_________________________________________________________________"
       ]
      },
      {
       "output_type": "stream",
       "stream": "stdout",
       "text": [
        "\n",
        "Layer (type)                 Output Shape              Param #   \n",
        "=================================================================\n",
        "embedding_4 (Embedding)      (None, 500, 300)          26575200  \n",
        "_________________________________________________________________\n",
        "cu_dnnlstm_2 (CuDNNLSTM)     (None, 50)                70400     \n",
        "_________________________________________________________________\n",
        "dense_3 (Dense)              (None, 1)                 51        \n",
        "_________________________________________________________________\n",
        "activation_3 (Activation)    (None, 1)                 0         \n",
        "=================================================================\n",
        "Total params: 26,645,651\n",
        "Trainable params: 26,645,651\n",
        "Non-trainable params: 0\n",
        "_________________________________________________________________\n",
        "None\n"
       ]
      }
     ],
     "prompt_number": 18
    },
    {
     "cell_type": "code",
     "collapsed": false,
     "input": [
      "# Train model\n",
      "batch_size=128\n",
      "num_epochs=5\n",
      "\n",
      "model2.fit(X_train, y_train, batch_size=batch_size, epochs=num_epochs, validation_data=(X_test, y_test), verbose=2)\n",
      "\n",
      "print('Now it takes time...')\n",
      "# Evaluate model\n",
      "test_loss, acc = model2.evaluate(X_test, y_test, batch_size=batch_size)\n",
      "    \n",
      "print('Test loss: %1.4f' % test_loss)\n",
      "print('Test Accuracy: %1.4f' % acc)"
     ],
     "language": "python",
     "metadata": {},
     "outputs": [
      {
       "output_type": "stream",
       "stream": "stdout",
       "text": [
        "Train on 25000 samples, validate on 25000 samples\n",
        "Epoch 1/5\n",
        " - 18s - loss: 0.4328 - acc: 0.7982 - val_loss: 0.3938 - val_acc: 0.8284\n"
       ]
      },
      {
       "output_type": "stream",
       "stream": "stdout",
       "text": [
        "Epoch 2/5\n",
        " - 16s - loss: 0.1921 - acc: 0.9299 - val_loss: 0.3277 - val_acc: 0.8647\n"
       ]
      },
      {
       "output_type": "stream",
       "stream": "stdout",
       "text": [
        "Epoch 3/5\n",
        " - 16s - loss: 0.0846 - acc: 0.9724 - val_loss: 0.4278 - val_acc: 0.8589\n"
       ]
      },
      {
       "output_type": "stream",
       "stream": "stdout",
       "text": [
        "Epoch 4/5\n",
        " - 16s - loss: 0.0499 - acc: 0.9839 - val_loss: 0.6537 - val_acc: 0.7981\n"
       ]
      },
      {
       "output_type": "stream",
       "stream": "stdout",
       "text": [
        "Epoch 5/5\n",
        " - 16s - loss: 0.0513 - acc: 0.9833 - val_loss: 0.5562 - val_acc: 0.8568\n"
       ]
      },
      {
       "output_type": "stream",
       "stream": "stdout",
       "text": [
        "Now it takes time...\n",
        "\n",
        "  128/25000 [..............................] - ETA: 3s"
       ]
      },
      {
       "output_type": "stream",
       "stream": "stdout",
       "text": [
        "\n",
        "  512/25000 [..............................] - ETA: 3s"
       ]
      },
      {
       "output_type": "stream",
       "stream": "stdout",
       "text": [
        "\n",
        "  896/25000 [>.............................] - ETA: 3s"
       ]
      },
      {
       "output_type": "stream",
       "stream": "stdout",
       "text": [
        "\n",
        " 1280/25000 [>.............................] - ETA: 3s"
       ]
      },
      {
       "output_type": "stream",
       "stream": "stdout",
       "text": [
        "\n",
        " 1664/25000 [>.............................] - ETA: 3s"
       ]
      },
      {
       "output_type": "stream",
       "stream": "stdout",
       "text": [
        "\n",
        " 2048/25000 [=>............................] - ETA: 3s"
       ]
      },
      {
       "output_type": "stream",
       "stream": "stdout",
       "text": [
        "\n",
        " 2432/25000 [=>............................] - ETA: 3s"
       ]
      },
      {
       "output_type": "stream",
       "stream": "stdout",
       "text": [
        "\n",
        " 2816/25000 [==>...........................] - ETA: 3s"
       ]
      },
      {
       "output_type": "stream",
       "stream": "stdout",
       "text": [
        "\n",
        " 3328/25000 [==>...........................] - ETA: 3s"
       ]
      },
      {
       "output_type": "stream",
       "stream": "stdout",
       "text": [
        "\n",
        " 3712/25000 [===>..........................] - ETA: 2s"
       ]
      },
      {
       "output_type": "stream",
       "stream": "stdout",
       "text": [
        "\n",
        " 4096/25000 [===>..........................] - ETA: 2s"
       ]
      },
      {
       "output_type": "stream",
       "stream": "stdout",
       "text": [
        "\n",
        " 4480/25000 [====>.........................] - ETA: 2s"
       ]
      },
      {
       "output_type": "stream",
       "stream": "stdout",
       "text": [
        "\n",
        " 4864/25000 [====>.........................] - ETA: 2s"
       ]
      },
      {
       "output_type": "stream",
       "stream": "stdout",
       "text": [
        "\n",
        " 5248/25000 [=====>........................] - ETA: 2s"
       ]
      },
      {
       "output_type": "stream",
       "stream": "stdout",
       "text": [
        "\n",
        " 5632/25000 [=====>........................] - ETA: 2s"
       ]
      },
      {
       "output_type": "stream",
       "stream": "stdout",
       "text": [
        "\n",
        " 6144/25000 [======>.......................] - ETA: 2s"
       ]
      },
      {
       "output_type": "stream",
       "stream": "stdout",
       "text": [
        "\n",
        " 6528/25000 [======>.......................] - ETA: 2s"
       ]
      },
      {
       "output_type": "stream",
       "stream": "stdout",
       "text": [
        "\n",
        " 6912/25000 [=======>......................] - ETA: 2s"
       ]
      },
      {
       "output_type": "stream",
       "stream": "stdout",
       "text": [
        "\n",
        " 7296/25000 [=======>......................] - ETA: 2s"
       ]
      },
      {
       "output_type": "stream",
       "stream": "stdout",
       "text": [
        "\n",
        " 7680/25000 [========>.....................] - ETA: 2s"
       ]
      },
      {
       "output_type": "stream",
       "stream": "stdout",
       "text": [
        "\n",
        " 8064/25000 [========>.....................] - ETA: 2s"
       ]
      },
      {
       "output_type": "stream",
       "stream": "stdout",
       "text": [
        "\n",
        " 8448/25000 [=========>....................] - ETA: 2s"
       ]
      },
      {
       "output_type": "stream",
       "stream": "stdout",
       "text": [
        "\n",
        " 8832/25000 [=========>....................] - ETA: 2s"
       ]
      },
      {
       "output_type": "stream",
       "stream": "stdout",
       "text": [
        "\n",
        " 9216/25000 [==========>...................] - ETA: 2s"
       ]
      },
      {
       "output_type": "stream",
       "stream": "stdout",
       "text": [
        "\n",
        " 9600/25000 [==========>...................] - ETA: 2s"
       ]
      },
      {
       "output_type": "stream",
       "stream": "stdout",
       "text": [
        "\n",
        " 9984/25000 [==========>...................] - ETA: 2s"
       ]
      },
      {
       "output_type": "stream",
       "stream": "stdout",
       "text": [
        "\n",
        "10368/25000 [===========>..................] - ETA: 2s"
       ]
      },
      {
       "output_type": "stream",
       "stream": "stdout",
       "text": [
        "\n",
        "10752/25000 [===========>..................] - ETA: 1s"
       ]
      },
      {
       "output_type": "stream",
       "stream": "stdout",
       "text": [
        "\n",
        "11136/25000 [============>.................] - ETA: 1s"
       ]
      },
      {
       "output_type": "stream",
       "stream": "stdout",
       "text": [
        "\n",
        "11520/25000 [============>.................] - ETA: 1s"
       ]
      },
      {
       "output_type": "stream",
       "stream": "stdout",
       "text": [
        "\n",
        "11904/25000 [=============>................] - ETA: 1s"
       ]
      },
      {
       "output_type": "stream",
       "stream": "stdout",
       "text": [
        "\n",
        "12288/25000 [=============>................] - ETA: 1s"
       ]
      },
      {
       "output_type": "stream",
       "stream": "stdout",
       "text": [
        "\n",
        "12672/25000 [==============>...............] - ETA: 1s"
       ]
      },
      {
       "output_type": "stream",
       "stream": "stdout",
       "text": [
        "\n",
        "13056/25000 [==============>...............] - ETA: 1s"
       ]
      },
      {
       "output_type": "stream",
       "stream": "stdout",
       "text": [
        "\n",
        "13440/25000 [===============>..............] - ETA: 1s"
       ]
      },
      {
       "output_type": "stream",
       "stream": "stdout",
       "text": [
        "\n",
        "13824/25000 [===============>..............] - ETA: 1s"
       ]
      },
      {
       "output_type": "stream",
       "stream": "stdout",
       "text": [
        "\n",
        "14208/25000 [================>.............] - ETA: 1s"
       ]
      },
      {
       "output_type": "stream",
       "stream": "stdout",
       "text": [
        "\n",
        "14592/25000 [================>.............] - ETA: 1s"
       ]
      },
      {
       "output_type": "stream",
       "stream": "stdout",
       "text": [
        "\n",
        "14976/25000 [================>.............] - ETA: 1s"
       ]
      },
      {
       "output_type": "stream",
       "stream": "stdout",
       "text": [
        "\n",
        "15360/25000 [=================>............] - ETA: 1s"
       ]
      },
      {
       "output_type": "stream",
       "stream": "stdout",
       "text": [
        "\n",
        "15744/25000 [=================>............] - ETA: 1s"
       ]
      },
      {
       "output_type": "stream",
       "stream": "stdout",
       "text": [
        "\n",
        "16128/25000 [==================>...........] - ETA: 1s"
       ]
      },
      {
       "output_type": "stream",
       "stream": "stdout",
       "text": [
        "\n",
        "16512/25000 [==================>...........] - ETA: 1s"
       ]
      },
      {
       "output_type": "stream",
       "stream": "stdout",
       "text": [
        "\n",
        "16896/25000 [===================>..........] - ETA: 1s"
       ]
      },
      {
       "output_type": "stream",
       "stream": "stdout",
       "text": [
        "\n",
        "17280/25000 [===================>..........] - ETA: 1s"
       ]
      },
      {
       "output_type": "stream",
       "stream": "stdout",
       "text": [
        "\n",
        "17664/25000 [====================>.........] - ETA: 1s"
       ]
      },
      {
       "output_type": "stream",
       "stream": "stdout",
       "text": [
        "\n",
        "18048/25000 [====================>.........] - ETA: 0s"
       ]
      },
      {
       "output_type": "stream",
       "stream": "stdout",
       "text": [
        "\n",
        "18432/25000 [=====================>........] - ETA: 0s"
       ]
      },
      {
       "output_type": "stream",
       "stream": "stdout",
       "text": [
        "\n",
        "18816/25000 [=====================>........] - ETA: 0s"
       ]
      },
      {
       "output_type": "stream",
       "stream": "stdout",
       "text": [
        "\n",
        "19200/25000 [======================>.......] - ETA: 0s"
       ]
      },
      {
       "output_type": "stream",
       "stream": "stdout",
       "text": [
        "\n",
        "19584/25000 [======================>.......] - ETA: 0s"
       ]
      },
      {
       "output_type": "stream",
       "stream": "stdout",
       "text": [
        "\n",
        "19968/25000 [======================>.......] - ETA: 0s"
       ]
      },
      {
       "output_type": "stream",
       "stream": "stdout",
       "text": [
        "\n",
        "20352/25000 [=======================>......] - ETA: 0s"
       ]
      },
      {
       "output_type": "stream",
       "stream": "stdout",
       "text": [
        "\n",
        "20736/25000 [=======================>......] - ETA: 0s"
       ]
      },
      {
       "output_type": "stream",
       "stream": "stdout",
       "text": [
        "\n",
        "21120/25000 [========================>.....] - ETA: 0s"
       ]
      },
      {
       "output_type": "stream",
       "stream": "stdout",
       "text": [
        "\n",
        "21504/25000 [========================>.....] - ETA: 0s"
       ]
      },
      {
       "output_type": "stream",
       "stream": "stdout",
       "text": [
        "\n",
        "22016/25000 [=========================>....] - ETA: 0s"
       ]
      },
      {
       "output_type": "stream",
       "stream": "stdout",
       "text": [
        "\n",
        "22400/25000 [=========================>....] - ETA: 0s"
       ]
      },
      {
       "output_type": "stream",
       "stream": "stdout",
       "text": [
        "\n",
        "22784/25000 [==========================>...] - ETA: 0s"
       ]
      },
      {
       "output_type": "stream",
       "stream": "stdout",
       "text": [
        "\n",
        "23168/25000 [==========================>...] - ETA: 0s"
       ]
      },
      {
       "output_type": "stream",
       "stream": "stdout",
       "text": [
        "\n",
        "23552/25000 [===========================>..] - ETA: 0s"
       ]
      },
      {
       "output_type": "stream",
       "stream": "stdout",
       "text": [
        "\n",
        "23936/25000 [===========================>..] - ETA: 0s"
       ]
      },
      {
       "output_type": "stream",
       "stream": "stdout",
       "text": [
        "\n",
        "24320/25000 [============================>.] - ETA: 0s"
       ]
      },
      {
       "output_type": "stream",
       "stream": "stdout",
       "text": [
        "\n",
        "24704/25000 [============================>.] - ETA: 0s"
       ]
      },
      {
       "output_type": "stream",
       "stream": "stdout",
       "text": [
        "\n",
        "25000/25000 [==============================] - 4s 144us/step\n"
       ]
      },
      {
       "output_type": "stream",
       "stream": "stdout",
       "text": [
        "Test loss: 0.5562\n",
        "Test Accuracy: 0.8568\n"
       ]
      }
     ],
     "prompt_number": 19
    },
    {
     "cell_type": "code",
     "collapsed": false,
     "input": [
      "#bidirectionnal LSTM model\n",
      "from keras.layers import Bidirectional\n",
      "\n",
      "embedding_dims = 300\n",
      "rnn_units = 50\n",
      "\n",
      "print('Build model...')\n",
      "model3 = Sequential()\n",
      "\n",
      "# max_words is the vocabulary size\n",
      "# embeddings_dim is the dimension of each word embeddings vector\n",
      "# maxlen is the maximum length of each sequence\n",
      "# Embedding layer definition\n",
      "model3.add(Embedding(max_words, embedding_dims, input_length=maxlen))\n",
      "# Recurrent layer definition\n",
      "\n",
      "#model3.add(CuDNNLSTM(rnn_units, kernel_initializer='glorot_uniform', recurrent_initializer='orthogonal', bias_initializer='zeros'))\n",
      "#model2.add(SimpleRNN(rnn_units, activation='tanh', return_sequences=False)) # Output of this layer is the context vector\n",
      "model3.add(Bidirectional(CuDNNLSTM(rnn_units, kernel_initializer='glorot_uniform', recurrent_initializer='orthogonal', bias_initializer='zeros')\n",
      "                         , merge_mode='concat', weights=None))\n",
      "\n",
      "# Linear layer definition\n",
      "model3.add(Dense(num_classes-1))\n",
      "# Non-linear function bounded (0 to 1)\n",
      "model3.add(Activation('sigmoid'))\n",
      "\n",
      "model3.compile(loss='binary_crossentropy', optimizer='adam', metrics=['acc'])\n",
      "# Show the model architecture\n",
      "print (model3.summary())\n",
      "\n"
     ],
     "language": "python",
     "metadata": {},
     "outputs": [
      {
       "output_type": "stream",
       "stream": "stdout",
       "text": [
        "Build model...\n",
        "_________________________________________________________________"
       ]
      },
      {
       "output_type": "stream",
       "stream": "stdout",
       "text": [
        "\n",
        "Layer (type)                 Output Shape              Param #   \n",
        "=================================================================\n",
        "embedding_5 (Embedding)      (None, 500, 300)          26575200  \n",
        "_________________________________________________________________\n",
        "bidirectional_1 (Bidirection (None, 100)               140800    \n",
        "_________________________________________________________________\n",
        "dense_4 (Dense)              (None, 1)                 101       \n",
        "_________________________________________________________________\n",
        "activation_4 (Activation)    (None, 1)                 0         \n",
        "=================================================================\n",
        "Total params: 26,716,101\n",
        "Trainable params: 26,716,101\n",
        "Non-trainable params: 0\n",
        "_________________________________________________________________\n",
        "None\n"
       ]
      }
     ],
     "prompt_number": 22
    },
    {
     "cell_type": "code",
     "collapsed": false,
     "input": [
      "# Train model\n",
      "batch_size=128\n",
      "num_epochs=5\n",
      "\n",
      "model3.fit(X_train, y_train, batch_size=batch_size, epochs=num_epochs, validation_data=(X_test, y_test), verbose=2)\n",
      "\n",
      "print('Now it takes time...')\n",
      "# Evaluate model\n",
      "test_loss, acc = model3.evaluate(X_test, y_test, batch_size=batch_size)\n",
      "    \n",
      "print('Test loss: %1.4f' % test_loss)\n",
      "print('Test Accuracy: %1.4f' % acc)"
     ],
     "language": "python",
     "metadata": {},
     "outputs": [
      {
       "output_type": "stream",
       "stream": "stdout",
       "text": [
        "Train on 25000 samples, validate on 25000 samples\n",
        "Epoch 1/5\n",
        " - 29s - loss: 0.4118 - acc: 0.8034 - val_loss: 0.3174 - val_acc: 0.8715\n"
       ]
      },
      {
       "output_type": "stream",
       "stream": "stdout",
       "text": [
        "Epoch 2/5\n",
        " - 28s - loss: 0.1805 - acc: 0.9354 - val_loss: 0.3599 - val_acc: 0.8652\n"
       ]
      },
      {
       "output_type": "stream",
       "stream": "stdout",
       "text": [
        "Epoch 3/5\n",
        " - 28s - loss: 0.0927 - acc: 0.9708 - val_loss: 0.3953 - val_acc: 0.8613\n"
       ]
      },
      {
       "output_type": "stream",
       "stream": "stdout",
       "text": [
        "Epoch 4/5\n",
        " - 28s - loss: 0.0491 - acc: 0.9856 - val_loss: 0.5327 - val_acc: 0.8539\n"
       ]
      },
      {
       "output_type": "stream",
       "stream": "stdout",
       "text": [
        "Epoch 5/5\n",
        " - 28s - loss: 0.0536 - acc: 0.9836 - val_loss: 0.6254 - val_acc: 0.7730\n"
       ]
      },
      {
       "output_type": "stream",
       "stream": "stdout",
       "text": [
        "Now it takes time...\n",
        "\n",
        "  128/25000 [..............................] - ETA: 8s"
       ]
      },
      {
       "output_type": "stream",
       "stream": "stdout",
       "text": [
        "\n",
        "  384/25000 [..............................] - ETA: 7s"
       ]
      },
      {
       "output_type": "stream",
       "stream": "stdout",
       "text": [
        "\n",
        "  640/25000 [..............................] - ETA: 7s"
       ]
      },
      {
       "output_type": "stream",
       "stream": "stdout",
       "text": [
        "\n",
        "  896/25000 [>.............................] - ETA: 7s"
       ]
      },
      {
       "output_type": "stream",
       "stream": "stdout",
       "text": [
        "\n",
        " 1152/25000 [>.............................] - ETA: 6s"
       ]
      },
      {
       "output_type": "stream",
       "stream": "stdout",
       "text": [
        "\n",
        " 1408/25000 [>.............................] - ETA: 6s"
       ]
      },
      {
       "output_type": "stream",
       "stream": "stdout",
       "text": [
        "\n",
        " 1664/25000 [>.............................] - ETA: 6s"
       ]
      },
      {
       "output_type": "stream",
       "stream": "stdout",
       "text": [
        "\n",
        " 1920/25000 [=>............................] - ETA: 6s"
       ]
      },
      {
       "output_type": "stream",
       "stream": "stdout",
       "text": [
        "\n",
        " 2176/25000 [=>............................] - ETA: 6s"
       ]
      },
      {
       "output_type": "stream",
       "stream": "stdout",
       "text": [
        "\n",
        " 2432/25000 [=>............................] - ETA: 6s"
       ]
      },
      {
       "output_type": "stream",
       "stream": "stdout",
       "text": [
        "\n",
        " 2688/25000 [==>...........................] - ETA: 6s"
       ]
      },
      {
       "output_type": "stream",
       "stream": "stdout",
       "text": [
        "\n",
        " 2944/25000 [==>...........................] - ETA: 6s"
       ]
      },
      {
       "output_type": "stream",
       "stream": "stdout",
       "text": [
        "\n",
        " 3200/25000 [==>...........................] - ETA: 6s"
       ]
      },
      {
       "output_type": "stream",
       "stream": "stdout",
       "text": [
        "\n",
        " 3456/25000 [===>..........................] - ETA: 6s"
       ]
      },
      {
       "output_type": "stream",
       "stream": "stdout",
       "text": [
        "\n",
        " 3712/25000 [===>..........................] - ETA: 5s"
       ]
      },
      {
       "output_type": "stream",
       "stream": "stdout",
       "text": [
        "\n",
        " 3968/25000 [===>..........................] - ETA: 5s"
       ]
      },
      {
       "output_type": "stream",
       "stream": "stdout",
       "text": [
        "\n",
        " 4224/25000 [====>.........................] - ETA: 5s"
       ]
      },
      {
       "output_type": "stream",
       "stream": "stdout",
       "text": [
        "\n",
        " 4480/25000 [====>.........................] - ETA: 5s"
       ]
      },
      {
       "output_type": "stream",
       "stream": "stdout",
       "text": [
        "\n",
        " 4736/25000 [====>.........................] - ETA: 5s"
       ]
      },
      {
       "output_type": "stream",
       "stream": "stdout",
       "text": [
        "\n",
        " 4992/25000 [====>.........................] - ETA: 5s"
       ]
      },
      {
       "output_type": "stream",
       "stream": "stdout",
       "text": [
        "\n",
        " 5248/25000 [=====>........................] - ETA: 5s"
       ]
      },
      {
       "output_type": "stream",
       "stream": "stdout",
       "text": [
        "\n",
        " 5504/25000 [=====>........................] - ETA: 5s"
       ]
      },
      {
       "output_type": "stream",
       "stream": "stdout",
       "text": [
        "\n",
        " 5760/25000 [=====>........................] - ETA: 5s"
       ]
      },
      {
       "output_type": "stream",
       "stream": "stdout",
       "text": [
        "\n",
        " 6016/25000 [======>.......................] - ETA: 5s"
       ]
      },
      {
       "output_type": "stream",
       "stream": "stdout",
       "text": [
        "\n",
        " 6272/25000 [======>.......................] - ETA: 5s"
       ]
      },
      {
       "output_type": "stream",
       "stream": "stdout",
       "text": [
        "\n",
        " 6528/25000 [======>.......................] - ETA: 5s"
       ]
      },
      {
       "output_type": "stream",
       "stream": "stdout",
       "text": [
        "\n",
        " 6784/25000 [=======>......................] - ETA: 5s"
       ]
      },
      {
       "output_type": "stream",
       "stream": "stdout",
       "text": [
        "\n",
        " 7040/25000 [=======>......................] - ETA: 5s"
       ]
      },
      {
       "output_type": "stream",
       "stream": "stdout",
       "text": [
        "\n",
        " 7296/25000 [=======>......................] - ETA: 4s"
       ]
      },
      {
       "output_type": "stream",
       "stream": "stdout",
       "text": [
        "\n",
        " 7552/25000 [========>.....................] - ETA: 4s"
       ]
      },
      {
       "output_type": "stream",
       "stream": "stdout",
       "text": [
        "\n",
        " 7808/25000 [========>.....................] - ETA: 4s"
       ]
      },
      {
       "output_type": "stream",
       "stream": "stdout",
       "text": [
        "\n",
        " 8064/25000 [========>.....................] - ETA: 4s"
       ]
      },
      {
       "output_type": "stream",
       "stream": "stdout",
       "text": [
        "\n",
        " 8320/25000 [========>.....................] - ETA: 4s"
       ]
      },
      {
       "output_type": "stream",
       "stream": "stdout",
       "text": [
        "\n",
        " 8576/25000 [=========>....................] - ETA: 4s"
       ]
      },
      {
       "output_type": "stream",
       "stream": "stdout",
       "text": [
        "\n",
        " 8832/25000 [=========>....................] - ETA: 4s"
       ]
      },
      {
       "output_type": "stream",
       "stream": "stdout",
       "text": [
        "\n",
        " 9088/25000 [=========>....................] - ETA: 4s"
       ]
      },
      {
       "output_type": "stream",
       "stream": "stdout",
       "text": [
        "\n",
        " 9344/25000 [==========>...................] - ETA: 4s"
       ]
      },
      {
       "output_type": "stream",
       "stream": "stdout",
       "text": [
        "\n",
        " 9600/25000 [==========>...................] - ETA: 4s"
       ]
      },
      {
       "output_type": "stream",
       "stream": "stdout",
       "text": [
        "\n",
        " 9856/25000 [==========>...................] - ETA: 4s"
       ]
      },
      {
       "output_type": "stream",
       "stream": "stdout",
       "text": [
        "\n",
        "10112/25000 [===========>..................] - ETA: 4s"
       ]
      },
      {
       "output_type": "stream",
       "stream": "stdout",
       "text": [
        "\n",
        "10368/25000 [===========>..................] - ETA: 4s"
       ]
      },
      {
       "output_type": "stream",
       "stream": "stdout",
       "text": [
        "\n",
        "10624/25000 [===========>..................] - ETA: 4s"
       ]
      },
      {
       "output_type": "stream",
       "stream": "stdout",
       "text": [
        "\n",
        "10880/25000 [============>.................] - ETA: 3s"
       ]
      },
      {
       "output_type": "stream",
       "stream": "stdout",
       "text": [
        "\n",
        "11136/25000 [============>.................] - ETA: 3s"
       ]
      },
      {
       "output_type": "stream",
       "stream": "stdout",
       "text": [
        "\n",
        "11392/25000 [============>.................] - ETA: 3s"
       ]
      },
      {
       "output_type": "stream",
       "stream": "stdout",
       "text": [
        "\n",
        "11648/25000 [============>.................] - ETA: 3s"
       ]
      },
      {
       "output_type": "stream",
       "stream": "stdout",
       "text": [
        "\n",
        "11904/25000 [=============>................] - ETA: 3s"
       ]
      },
      {
       "output_type": "stream",
       "stream": "stdout",
       "text": [
        "\n",
        "12160/25000 [=============>................] - ETA: 3s"
       ]
      },
      {
       "output_type": "stream",
       "stream": "stdout",
       "text": [
        "\n",
        "12416/25000 [=============>................] - ETA: 3s"
       ]
      },
      {
       "output_type": "stream",
       "stream": "stdout",
       "text": [
        "\n",
        "12672/25000 [==============>...............] - ETA: 3s"
       ]
      },
      {
       "output_type": "stream",
       "stream": "stdout",
       "text": [
        "\n",
        "12928/25000 [==============>...............] - ETA: 3s"
       ]
      },
      {
       "output_type": "stream",
       "stream": "stdout",
       "text": [
        "\n",
        "13184/25000 [==============>...............] - ETA: 3s"
       ]
      },
      {
       "output_type": "stream",
       "stream": "stdout",
       "text": [
        "\n",
        "13440/25000 [===============>..............] - ETA: 3s"
       ]
      },
      {
       "output_type": "stream",
       "stream": "stdout",
       "text": [
        "\n",
        "13696/25000 [===============>..............] - ETA: 3s"
       ]
      },
      {
       "output_type": "stream",
       "stream": "stdout",
       "text": [
        "\n",
        "13952/25000 [===============>..............] - ETA: 3s"
       ]
      },
      {
       "output_type": "stream",
       "stream": "stdout",
       "text": [
        "\n",
        "14208/25000 [================>.............] - ETA: 3s"
       ]
      },
      {
       "output_type": "stream",
       "stream": "stdout",
       "text": [
        "\n",
        "14464/25000 [================>.............] - ETA: 2s"
       ]
      },
      {
       "output_type": "stream",
       "stream": "stdout",
       "text": [
        "\n",
        "14720/25000 [================>.............] - ETA: 2s"
       ]
      },
      {
       "output_type": "stream",
       "stream": "stdout",
       "text": [
        "\n",
        "14976/25000 [================>.............] - ETA: 2s"
       ]
      },
      {
       "output_type": "stream",
       "stream": "stdout",
       "text": [
        "\n",
        "15232/25000 [=================>............] - ETA: 2s"
       ]
      },
      {
       "output_type": "stream",
       "stream": "stdout",
       "text": [
        "\n",
        "15488/25000 [=================>............] - ETA: 2s"
       ]
      },
      {
       "output_type": "stream",
       "stream": "stdout",
       "text": [
        "\n",
        "15744/25000 [=================>............] - ETA: 2s"
       ]
      },
      {
       "output_type": "stream",
       "stream": "stdout",
       "text": [
        "\n",
        "16000/25000 [==================>...........] - ETA: 2s"
       ]
      },
      {
       "output_type": "stream",
       "stream": "stdout",
       "text": [
        "\n",
        "16256/25000 [==================>...........] - ETA: 2s"
       ]
      },
      {
       "output_type": "stream",
       "stream": "stdout",
       "text": [
        "\n",
        "16512/25000 [==================>...........] - ETA: 2s"
       ]
      },
      {
       "output_type": "stream",
       "stream": "stdout",
       "text": [
        "\n",
        "16768/25000 [===================>..........] - ETA: 2s"
       ]
      },
      {
       "output_type": "stream",
       "stream": "stdout",
       "text": [
        "\n",
        "17024/25000 [===================>..........] - ETA: 2s"
       ]
      },
      {
       "output_type": "stream",
       "stream": "stdout",
       "text": [
        "\n",
        "17280/25000 [===================>..........] - ETA: 2s"
       ]
      },
      {
       "output_type": "stream",
       "stream": "stdout",
       "text": [
        "\n",
        "17536/25000 [====================>.........] - ETA: 2s"
       ]
      },
      {
       "output_type": "stream",
       "stream": "stdout",
       "text": [
        "\n",
        "17792/25000 [====================>.........] - ETA: 2s"
       ]
      },
      {
       "output_type": "stream",
       "stream": "stdout",
       "text": [
        "\n",
        "18048/25000 [====================>.........] - ETA: 1s"
       ]
      },
      {
       "output_type": "stream",
       "stream": "stdout",
       "text": [
        "\n",
        "18304/25000 [====================>.........] - ETA: 1s"
       ]
      },
      {
       "output_type": "stream",
       "stream": "stdout",
       "text": [
        "\n",
        "18560/25000 [=====================>........] - ETA: 1s"
       ]
      },
      {
       "output_type": "stream",
       "stream": "stdout",
       "text": [
        "\n",
        "18816/25000 [=====================>........] - ETA: 1s"
       ]
      },
      {
       "output_type": "stream",
       "stream": "stdout",
       "text": [
        "\n",
        "19072/25000 [=====================>........] - ETA: 1s"
       ]
      },
      {
       "output_type": "stream",
       "stream": "stdout",
       "text": [
        "\n",
        "19328/25000 [======================>.......] - ETA: 1s"
       ]
      },
      {
       "output_type": "stream",
       "stream": "stdout",
       "text": [
        "\n",
        "19584/25000 [======================>.......] - ETA: 1s"
       ]
      },
      {
       "output_type": "stream",
       "stream": "stdout",
       "text": [
        "\n",
        "19840/25000 [======================>.......] - ETA: 1s"
       ]
      },
      {
       "output_type": "stream",
       "stream": "stdout",
       "text": [
        "\n",
        "20096/25000 [=======================>......] - ETA: 1s"
       ]
      },
      {
       "output_type": "stream",
       "stream": "stdout",
       "text": [
        "\n",
        "20352/25000 [=======================>......] - ETA: 1s"
       ]
      },
      {
       "output_type": "stream",
       "stream": "stdout",
       "text": [
        "\n",
        "20608/25000 [=======================>......] - ETA: 1s"
       ]
      },
      {
       "output_type": "stream",
       "stream": "stdout",
       "text": [
        "\n",
        "20864/25000 [========================>.....] - ETA: 1s"
       ]
      },
      {
       "output_type": "stream",
       "stream": "stdout",
       "text": [
        "\n",
        "21120/25000 [========================>.....] - ETA: 1s"
       ]
      },
      {
       "output_type": "stream",
       "stream": "stdout",
       "text": [
        "\n",
        "21376/25000 [========================>.....] - ETA: 1s"
       ]
      },
      {
       "output_type": "stream",
       "stream": "stdout",
       "text": [
        "\n",
        "21632/25000 [========================>.....] - ETA: 0s"
       ]
      },
      {
       "output_type": "stream",
       "stream": "stdout",
       "text": [
        "\n",
        "21888/25000 [=========================>....] - ETA: 0s"
       ]
      },
      {
       "output_type": "stream",
       "stream": "stdout",
       "text": [
        "\n",
        "22144/25000 [=========================>....] - ETA: 0s"
       ]
      },
      {
       "output_type": "stream",
       "stream": "stdout",
       "text": [
        "\n",
        "22400/25000 [=========================>....] - ETA: 0s"
       ]
      },
      {
       "output_type": "stream",
       "stream": "stdout",
       "text": [
        "\n",
        "22656/25000 [==========================>...] - ETA: 0s"
       ]
      },
      {
       "output_type": "stream",
       "stream": "stdout",
       "text": [
        "\n",
        "22912/25000 [==========================>...] - ETA: 0s"
       ]
      },
      {
       "output_type": "stream",
       "stream": "stdout",
       "text": [
        "\n",
        "23168/25000 [==========================>...] - ETA: 0s"
       ]
      },
      {
       "output_type": "stream",
       "stream": "stdout",
       "text": [
        "\n",
        "23424/25000 [===========================>..] - ETA: 0s"
       ]
      },
      {
       "output_type": "stream",
       "stream": "stdout",
       "text": [
        "\n",
        "23680/25000 [===========================>..] - ETA: 0s"
       ]
      },
      {
       "output_type": "stream",
       "stream": "stdout",
       "text": [
        "\n",
        "23936/25000 [===========================>..] - ETA: 0s"
       ]
      },
      {
       "output_type": "stream",
       "stream": "stdout",
       "text": [
        "\n",
        "24192/25000 [============================>.] - ETA: 0s"
       ]
      },
      {
       "output_type": "stream",
       "stream": "stdout",
       "text": [
        "\n",
        "24448/25000 [============================>.] - ETA: 0s"
       ]
      },
      {
       "output_type": "stream",
       "stream": "stdout",
       "text": [
        "\n",
        "24704/25000 [============================>.] - ETA: 0s"
       ]
      },
      {
       "output_type": "stream",
       "stream": "stdout",
       "text": [
        "\n",
        "24960/25000 [============================>.] - ETA: 0s"
       ]
      },
      {
       "output_type": "stream",
       "stream": "stdout",
       "text": [
        "\n",
        "25000/25000 [==============================] - 7s 282us/step\n"
       ]
      },
      {
       "output_type": "stream",
       "stream": "stdout",
       "text": [
        "Test loss: 0.6254\n",
        "Test Accuracy: 0.7730\n"
       ]
      }
     ],
     "prompt_number": 23
    },
    {
     "cell_type": "code",
     "collapsed": false,
     "input": [
      "# Our bidirectionnal LSTM model\n",
      "from keras.layers import Bidirectional\n",
      "\n",
      "embedding_dims = 300\n",
      "rnn_units = 50\n",
      "\n",
      "print('Build model...')\n",
      "model4 = Sequential()\n",
      "\n",
      "# max_words is the vocabulary size\n",
      "# embeddings_dim is the dimension of each word embeddings vector\n",
      "# maxlen is the maximum length of each sequence\n",
      "# Embedding layer definition\n",
      "model4.add(Embedding(max_words, embedding_dims, input_length=maxlen))\n",
      "# Recurrent layer definition\n",
      "\n",
      "#model3.add(CuDNNLSTM(rnn_units, kernel_initializer='glorot_uniform', recurrent_initializer='orthogonal', bias_initializer='zeros'))\n",
      "#model2.add(SimpleRNN(rnn_units, activation='tanh', return_sequences=False)) # Output of this layer is the context vector\n",
      "model4.add(Bidirectional(CuDNNLSTM(rnn_units/4, kernel_initializer='glorot_uniform', recurrent_initializer='orthogonal', bias_initializer='zeros')\n",
      "                         , merge_mode='concat', weights=None))\n",
      "\n",
      "# Linear layer definition\n",
      "model4.add(Dense(num_classes-1))\n",
      "# Non-linear function bounded (0 to 1)\n",
      "model4.add(Activation('sigmoid'))\n",
      "\n",
      "model4.compile(loss='binary_crossentropy', optimizer='adam', metrics=['acc'])\n",
      "# Show the model architecture\n",
      "print (model4.summary())\n",
      "\n"
     ],
     "language": "python",
     "metadata": {},
     "outputs": [
      {
       "output_type": "stream",
       "stream": "stdout",
       "text": [
        "Build model...\n",
        "_________________________________________________________________"
       ]
      },
      {
       "output_type": "stream",
       "stream": "stdout",
       "text": [
        "\n",
        "Layer (type)                 Output Shape              Param #   \n",
        "=================================================================\n",
        "embedding_6 (Embedding)      (None, 500, 300)          26575200  \n",
        "_________________________________________________________________\n",
        "bidirectional_2 (Bidirection (None, 24)                30144     \n",
        "_________________________________________________________________\n",
        "dense_5 (Dense)              (None, 1)                 25        \n",
        "_________________________________________________________________\n",
        "activation_5 (Activation)    (None, 1)                 0         \n",
        "=================================================================\n",
        "Total params: 26,605,369\n",
        "Trainable params: 26,605,369\n",
        "Non-trainable params: 0\n",
        "_________________________________________________________________\n",
        "None\n"
       ]
      }
     ],
     "prompt_number": 24
    },
    {
     "cell_type": "code",
     "collapsed": false,
     "input": [
      "# Train model\n",
      "batch_size=128\n",
      "num_epochs=5\n",
      "\n",
      "model4.fit(X_train, y_train, batch_size=batch_size, epochs=num_epochs, validation_data=(X_test, y_test), verbose=2)\n",
      "\n",
      "print('Now it takes time...')\n",
      "# Evaluate model\n",
      "test_loss, acc = model4.evaluate(X_test, y_test, batch_size=batch_size)\n",
      "    \n",
      "print('Test loss: %1.4f' % test_loss)\n",
      "print('Test Accuracy: %1.4f' % acc)"
     ],
     "language": "python",
     "metadata": {},
     "outputs": [
      {
       "output_type": "stream",
       "stream": "stdout",
       "text": [
        "Train on 25000 samples, validate on 25000 samples\n",
        "Epoch 1/5\n",
        " - 26s - loss: 0.5188 - acc: 0.7536 - val_loss: 0.4308 - val_acc: 0.8096\n"
       ]
      },
      {
       "output_type": "stream",
       "stream": "stdout",
       "text": [
        "Epoch 2/5\n",
        " - 25s - loss: 0.3036 - acc: 0.8809 - val_loss: 0.4047 - val_acc: 0.8252\n"
       ]
      },
      {
       "output_type": "stream",
       "stream": "stdout",
       "text": [
        "Epoch 3/5\n",
        " - 25s - loss: 0.1826 - acc: 0.9368 - val_loss: 0.3913 - val_acc: 0.8459\n"
       ]
      },
      {
       "output_type": "stream",
       "stream": "stdout",
       "text": [
        "Epoch 4/5\n",
        " - 25s - loss: 0.0945 - acc: 0.9710 - val_loss: 0.4288 - val_acc: 0.8472\n"
       ]
      },
      {
       "output_type": "stream",
       "stream": "stdout",
       "text": [
        "Epoch 5/5\n",
        " - 24s - loss: 0.0544 - acc: 0.9852 - val_loss: 0.5186 - val_acc: 0.8420\n"
       ]
      },
      {
       "output_type": "stream",
       "stream": "stdout",
       "text": [
        "Now it takes time...\n",
        "\n",
        "  128/25000 [..............................] - ETA: 7s"
       ]
      },
      {
       "output_type": "stream",
       "stream": "stdout",
       "text": [
        "\n",
        "  384/25000 [..............................] - ETA: 7s"
       ]
      },
      {
       "output_type": "stream",
       "stream": "stdout",
       "text": [
        "\n",
        "  640/25000 [..............................] - ETA: 7s"
       ]
      },
      {
       "output_type": "stream",
       "stream": "stdout",
       "text": [
        "\n",
        "  896/25000 [>.............................] - ETA: 7s"
       ]
      },
      {
       "output_type": "stream",
       "stream": "stdout",
       "text": [
        "\n",
        " 1152/25000 [>.............................] - ETA: 6s"
       ]
      },
      {
       "output_type": "stream",
       "stream": "stdout",
       "text": [
        "\n",
        " 1408/25000 [>.............................] - ETA: 6s"
       ]
      },
      {
       "output_type": "stream",
       "stream": "stdout",
       "text": [
        "\n",
        " 1664/25000 [>.............................] - ETA: 6s"
       ]
      },
      {
       "output_type": "stream",
       "stream": "stdout",
       "text": [
        "\n",
        " 1920/25000 [=>............................] - ETA: 6s"
       ]
      },
      {
       "output_type": "stream",
       "stream": "stdout",
       "text": [
        "\n",
        " 2176/25000 [=>............................] - ETA: 6s"
       ]
      },
      {
       "output_type": "stream",
       "stream": "stdout",
       "text": [
        "\n",
        " 2432/25000 [=>............................] - ETA: 6s"
       ]
      },
      {
       "output_type": "stream",
       "stream": "stdout",
       "text": [
        "\n",
        " 2688/25000 [==>...........................] - ETA: 6s"
       ]
      },
      {
       "output_type": "stream",
       "stream": "stdout",
       "text": [
        "\n",
        " 2944/25000 [==>...........................] - ETA: 6s"
       ]
      },
      {
       "output_type": "stream",
       "stream": "stdout",
       "text": [
        "\n",
        " 3200/25000 [==>...........................] - ETA: 6s"
       ]
      },
      {
       "output_type": "stream",
       "stream": "stdout",
       "text": [
        "\n",
        " 3456/25000 [===>..........................] - ETA: 6s"
       ]
      },
      {
       "output_type": "stream",
       "stream": "stdout",
       "text": [
        "\n",
        " 3712/25000 [===>..........................] - ETA: 6s"
       ]
      },
      {
       "output_type": "stream",
       "stream": "stdout",
       "text": [
        "\n",
        " 3968/25000 [===>..........................] - ETA: 5s"
       ]
      },
      {
       "output_type": "stream",
       "stream": "stdout",
       "text": [
        "\n",
        " 4224/25000 [====>.........................] - ETA: 5s"
       ]
      },
      {
       "output_type": "stream",
       "stream": "stdout",
       "text": [
        "\n",
        " 4480/25000 [====>.........................] - ETA: 5s"
       ]
      },
      {
       "output_type": "stream",
       "stream": "stdout",
       "text": [
        "\n",
        " 4736/25000 [====>.........................] - ETA: 5s"
       ]
      },
      {
       "output_type": "stream",
       "stream": "stdout",
       "text": [
        "\n",
        " 4992/25000 [====>.........................] - ETA: 5s"
       ]
      },
      {
       "output_type": "stream",
       "stream": "stdout",
       "text": [
        "\n",
        " 5248/25000 [=====>........................] - ETA: 5s"
       ]
      },
      {
       "output_type": "stream",
       "stream": "stdout",
       "text": [
        "\n",
        " 5504/25000 [=====>........................] - ETA: 5s"
       ]
      },
      {
       "output_type": "stream",
       "stream": "stdout",
       "text": [
        "\n",
        " 5760/25000 [=====>........................] - ETA: 5s"
       ]
      },
      {
       "output_type": "stream",
       "stream": "stdout",
       "text": [
        "\n",
        " 6016/25000 [======>.......................] - ETA: 5s"
       ]
      },
      {
       "output_type": "stream",
       "stream": "stdout",
       "text": [
        "\n",
        " 6272/25000 [======>.......................] - ETA: 5s"
       ]
      },
      {
       "output_type": "stream",
       "stream": "stdout",
       "text": [
        "\n",
        " 6528/25000 [======>.......................] - ETA: 4s"
       ]
      },
      {
       "output_type": "stream",
       "stream": "stdout",
       "text": [
        "\n",
        " 6784/25000 [=======>......................] - ETA: 4s"
       ]
      },
      {
       "output_type": "stream",
       "stream": "stdout",
       "text": [
        "\n",
        " 7040/25000 [=======>......................] - ETA: 4s"
       ]
      },
      {
       "output_type": "stream",
       "stream": "stdout",
       "text": [
        "\n",
        " 7296/25000 [=======>......................] - ETA: 4s"
       ]
      },
      {
       "output_type": "stream",
       "stream": "stdout",
       "text": [
        "\n",
        " 7552/25000 [========>.....................] - ETA: 4s"
       ]
      },
      {
       "output_type": "stream",
       "stream": "stdout",
       "text": [
        "\n",
        " 7808/25000 [========>.....................] - ETA: 4s"
       ]
      },
      {
       "output_type": "stream",
       "stream": "stdout",
       "text": [
        "\n",
        " 8064/25000 [========>.....................] - ETA: 4s"
       ]
      },
      {
       "output_type": "stream",
       "stream": "stdout",
       "text": [
        "\n",
        " 8320/25000 [========>.....................] - ETA: 4s"
       ]
      },
      {
       "output_type": "stream",
       "stream": "stdout",
       "text": [
        "\n",
        " 8576/25000 [=========>....................] - ETA: 4s"
       ]
      },
      {
       "output_type": "stream",
       "stream": "stdout",
       "text": [
        "\n",
        " 8832/25000 [=========>....................] - ETA: 4s"
       ]
      },
      {
       "output_type": "stream",
       "stream": "stdout",
       "text": [
        "\n",
        " 9088/25000 [=========>....................] - ETA: 4s"
       ]
      },
      {
       "output_type": "stream",
       "stream": "stdout",
       "text": [
        "\n",
        " 9344/25000 [==========>...................] - ETA: 4s"
       ]
      },
      {
       "output_type": "stream",
       "stream": "stdout",
       "text": [
        "\n",
        " 9600/25000 [==========>...................] - ETA: 4s"
       ]
      },
      {
       "output_type": "stream",
       "stream": "stdout",
       "text": [
        "\n",
        " 9856/25000 [==========>...................] - ETA: 4s"
       ]
      },
      {
       "output_type": "stream",
       "stream": "stdout",
       "text": [
        "\n",
        "10112/25000 [===========>..................] - ETA: 3s"
       ]
      },
      {
       "output_type": "stream",
       "stream": "stdout",
       "text": [
        "\n",
        "10368/25000 [===========>..................] - ETA: 3s"
       ]
      },
      {
       "output_type": "stream",
       "stream": "stdout",
       "text": [
        "\n",
        "10624/25000 [===========>..................] - ETA: 3s"
       ]
      },
      {
       "output_type": "stream",
       "stream": "stdout",
       "text": [
        "\n",
        "10880/25000 [============>.................] - ETA: 3s"
       ]
      },
      {
       "output_type": "stream",
       "stream": "stdout",
       "text": [
        "\n",
        "11136/25000 [============>.................] - ETA: 3s"
       ]
      },
      {
       "output_type": "stream",
       "stream": "stdout",
       "text": [
        "\n",
        "11392/25000 [============>.................] - ETA: 3s"
       ]
      },
      {
       "output_type": "stream",
       "stream": "stdout",
       "text": [
        "\n",
        "11648/25000 [============>.................] - ETA: 3s"
       ]
      },
      {
       "output_type": "stream",
       "stream": "stdout",
       "text": [
        "\n",
        "11904/25000 [=============>................] - ETA: 3s"
       ]
      },
      {
       "output_type": "stream",
       "stream": "stdout",
       "text": [
        "\n",
        "12160/25000 [=============>................] - ETA: 3s"
       ]
      },
      {
       "output_type": "stream",
       "stream": "stdout",
       "text": [
        "\n",
        "12416/25000 [=============>................] - ETA: 3s"
       ]
      },
      {
       "output_type": "stream",
       "stream": "stdout",
       "text": [
        "\n",
        "12672/25000 [==============>...............] - ETA: 3s"
       ]
      },
      {
       "output_type": "stream",
       "stream": "stdout",
       "text": [
        "\n",
        "12928/25000 [==============>...............] - ETA: 3s"
       ]
      },
      {
       "output_type": "stream",
       "stream": "stdout",
       "text": [
        "\n",
        "13184/25000 [==============>...............] - ETA: 3s"
       ]
      },
      {
       "output_type": "stream",
       "stream": "stdout",
       "text": [
        "\n",
        "13440/25000 [===============>..............] - ETA: 3s"
       ]
      },
      {
       "output_type": "stream",
       "stream": "stdout",
       "text": [
        "\n",
        "13696/25000 [===============>..............] - ETA: 2s"
       ]
      },
      {
       "output_type": "stream",
       "stream": "stdout",
       "text": [
        "\n",
        "13952/25000 [===============>..............] - ETA: 2s"
       ]
      },
      {
       "output_type": "stream",
       "stream": "stdout",
       "text": [
        "\n",
        "14208/25000 [================>.............] - ETA: 2s"
       ]
      },
      {
       "output_type": "stream",
       "stream": "stdout",
       "text": [
        "\n",
        "14464/25000 [================>.............] - ETA: 2s"
       ]
      },
      {
       "output_type": "stream",
       "stream": "stdout",
       "text": [
        "\n",
        "14720/25000 [================>.............] - ETA: 2s"
       ]
      },
      {
       "output_type": "stream",
       "stream": "stdout",
       "text": [
        "\n",
        "14976/25000 [================>.............] - ETA: 2s"
       ]
      },
      {
       "output_type": "stream",
       "stream": "stdout",
       "text": [
        "\n",
        "15232/25000 [=================>............] - ETA: 2s"
       ]
      },
      {
       "output_type": "stream",
       "stream": "stdout",
       "text": [
        "\n",
        "15488/25000 [=================>............] - ETA: 2s"
       ]
      },
      {
       "output_type": "stream",
       "stream": "stdout",
       "text": [
        "\n",
        "15744/25000 [=================>............] - ETA: 2s"
       ]
      },
      {
       "output_type": "stream",
       "stream": "stdout",
       "text": [
        "\n",
        "16000/25000 [==================>...........] - ETA: 2s"
       ]
      },
      {
       "output_type": "stream",
       "stream": "stdout",
       "text": [
        "\n",
        "16256/25000 [==================>...........] - ETA: 2s"
       ]
      },
      {
       "output_type": "stream",
       "stream": "stdout",
       "text": [
        "\n",
        "16512/25000 [==================>...........] - ETA: 2s"
       ]
      },
      {
       "output_type": "stream",
       "stream": "stdout",
       "text": [
        "\n",
        "16768/25000 [===================>..........] - ETA: 2s"
       ]
      },
      {
       "output_type": "stream",
       "stream": "stdout",
       "text": [
        "\n",
        "17024/25000 [===================>..........] - ETA: 2s"
       ]
      },
      {
       "output_type": "stream",
       "stream": "stdout",
       "text": [
        "\n",
        "17280/25000 [===================>..........] - ETA: 2s"
       ]
      },
      {
       "output_type": "stream",
       "stream": "stdout",
       "text": [
        "\n",
        "17536/25000 [====================>.........] - ETA: 1s"
       ]
      },
      {
       "output_type": "stream",
       "stream": "stdout",
       "text": [
        "\n",
        "17792/25000 [====================>.........] - ETA: 1s"
       ]
      },
      {
       "output_type": "stream",
       "stream": "stdout",
       "text": [
        "\n",
        "18048/25000 [====================>.........] - ETA: 1s"
       ]
      },
      {
       "output_type": "stream",
       "stream": "stdout",
       "text": [
        "\n",
        "18304/25000 [====================>.........] - ETA: 1s"
       ]
      },
      {
       "output_type": "stream",
       "stream": "stdout",
       "text": [
        "\n",
        "18560/25000 [=====================>........] - ETA: 1s"
       ]
      },
      {
       "output_type": "stream",
       "stream": "stdout",
       "text": [
        "\n",
        "18816/25000 [=====================>........] - ETA: 1s"
       ]
      },
      {
       "output_type": "stream",
       "stream": "stdout",
       "text": [
        "\n",
        "19072/25000 [=====================>........] - ETA: 1s"
       ]
      },
      {
       "output_type": "stream",
       "stream": "stdout",
       "text": [
        "\n",
        "19328/25000 [======================>.......] - ETA: 1s"
       ]
      },
      {
       "output_type": "stream",
       "stream": "stdout",
       "text": [
        "\n",
        "19584/25000 [======================>.......] - ETA: 1s"
       ]
      },
      {
       "output_type": "stream",
       "stream": "stdout",
       "text": [
        "\n",
        "19840/25000 [======================>.......] - ETA: 1s"
       ]
      },
      {
       "output_type": "stream",
       "stream": "stdout",
       "text": [
        "\n",
        "20096/25000 [=======================>......] - ETA: 1s"
       ]
      },
      {
       "output_type": "stream",
       "stream": "stdout",
       "text": [
        "\n",
        "20352/25000 [=======================>......] - ETA: 1s"
       ]
      },
      {
       "output_type": "stream",
       "stream": "stdout",
       "text": [
        "\n",
        "20608/25000 [=======================>......] - ETA: 1s"
       ]
      },
      {
       "output_type": "stream",
       "stream": "stdout",
       "text": [
        "\n",
        "20864/25000 [========================>.....] - ETA: 1s"
       ]
      },
      {
       "output_type": "stream",
       "stream": "stdout",
       "text": [
        "\n",
        "21120/25000 [========================>.....] - ETA: 0s"
       ]
      },
      {
       "output_type": "stream",
       "stream": "stdout",
       "text": [
        "\n",
        "21376/25000 [========================>.....] - ETA: 0s"
       ]
      },
      {
       "output_type": "stream",
       "stream": "stdout",
       "text": [
        "\n",
        "21632/25000 [========================>.....] - ETA: 0s"
       ]
      },
      {
       "output_type": "stream",
       "stream": "stdout",
       "text": [
        "\n",
        "21888/25000 [=========================>....] - ETA: 0s"
       ]
      },
      {
       "output_type": "stream",
       "stream": "stdout",
       "text": [
        "\n",
        "22144/25000 [=========================>....] - ETA: 0s"
       ]
      },
      {
       "output_type": "stream",
       "stream": "stdout",
       "text": [
        "\n",
        "22400/25000 [=========================>....] - ETA: 0s"
       ]
      },
      {
       "output_type": "stream",
       "stream": "stdout",
       "text": [
        "\n",
        "22656/25000 [==========================>...] - ETA: 0s"
       ]
      },
      {
       "output_type": "stream",
       "stream": "stdout",
       "text": [
        "\n",
        "22912/25000 [==========================>...] - ETA: 0s"
       ]
      },
      {
       "output_type": "stream",
       "stream": "stdout",
       "text": [
        "\n",
        "23168/25000 [==========================>...] - ETA: 0s"
       ]
      },
      {
       "output_type": "stream",
       "stream": "stdout",
       "text": [
        "\n",
        "23424/25000 [===========================>..] - ETA: 0s"
       ]
      },
      {
       "output_type": "stream",
       "stream": "stdout",
       "text": [
        "\n",
        "23680/25000 [===========================>..] - ETA: 0s"
       ]
      },
      {
       "output_type": "stream",
       "stream": "stdout",
       "text": [
        "\n",
        "23936/25000 [===========================>..] - ETA: 0s"
       ]
      },
      {
       "output_type": "stream",
       "stream": "stdout",
       "text": [
        "\n",
        "24192/25000 [============================>.] - ETA: 0s"
       ]
      },
      {
       "output_type": "stream",
       "stream": "stdout",
       "text": [
        "\n",
        "24448/25000 [============================>.] - ETA: 0s"
       ]
      },
      {
       "output_type": "stream",
       "stream": "stdout",
       "text": [
        "\n",
        "24704/25000 [============================>.] - ETA: 0s"
       ]
      },
      {
       "output_type": "stream",
       "stream": "stdout",
       "text": [
        "\n",
        "24960/25000 [============================>.] - ETA: 0s"
       ]
      },
      {
       "output_type": "stream",
       "stream": "stdout",
       "text": [
        "\n",
        "25000/25000 [==============================] - 6s 259us/step\n"
       ]
      },
      {
       "output_type": "stream",
       "stream": "stdout",
       "text": [
        "Test loss: 0.5186\n",
        "Test Accuracy: 0.8420\n"
       ]
      }
     ],
     "prompt_number": 25
    },
    {
     "cell_type": "markdown",
     "metadata": {},
     "source": [
      "Question 2.4) What do you propose in order to improve the results ? (Hint: verify the results of previous models and think about overfitting and underfitting)\n",
      "\n",
      "For instance you can use regularization methods:\n",
      "- (Hint: use the regularization method just after the *Embedding* layer)\n",
      "- Describe the regurization method used\n",
      "- Compare the results\n",
      "\n",
      "Please implement and build our own model here...\n",
      "\n",
      "Answer:"
     ]
    },
    {
     "cell_type": "code",
     "collapsed": true,
     "input": [
      "# Our bidirectionnal LSTM model\n",
      "from keras.layers import Bidirectional\n",
      "from keras import regularizers\n",
      "embedding_dims = 300\n",
      "rnn_units = 50\n",
      "\n",
      "print('Build model...')\n",
      "model5 = Sequential()\n",
      "\n",
      "# max_words is the vocabulary size\n",
      "# embeddings_dim is the dimension of each word embeddings vector\n",
      "# maxlen is the maximum length of each sequence\n",
      "# Embedding layer definition\n",
      "model5.add(Embedding(max_words, embedding_dims, input_length=maxlen,embeddings_regularizer=regularizers.l2(0.01)))\n",
      "# Recurrent layer definition\n",
      "\n",
      "\n",
      "                \n",
      "#model3.add(CuDNNLSTM(rnn_units, kernel_initializer='glorot_uniform', recurrent_initializer='orthogonal', bias_initializer='zeros'))\n",
      "#model2.add(SimpleRNN(rnn_units, activation='tanh', return_sequences=False)) # Output of this layer is the context vector\n",
      "model5.add(Bidirectional(CuDNNLSTM(rnn_units/4, kernel_initializer='glorot_uniform', recurrent_initializer='orthogonal', bias_initializer='zeros')\n",
      "                         , merge_mode='concat', weights=None))\n",
      "\n",
      "# Linear layer definition\n",
      "model5.add(Dense(num_classes-1))\n",
      "# Non-linear function bounded (0 to 1)\n",
      "model5.add(Activation('sigmoid'))\n",
      "\n",
      "model5.compile(loss='binary_crossentropy', optimizer='adam', metrics=['acc'])\n",
      "# Show the model architecture\n",
      "print (model5.summary())"
     ],
     "language": "python",
     "metadata": {},
     "outputs": [
      {
       "output_type": "stream",
       "stream": "stdout",
       "text": [
        "Build model...\n",
        "_________________________________________________________________"
       ]
      },
      {
       "output_type": "stream",
       "stream": "stdout",
       "text": [
        "\n",
        "Layer (type)                 Output Shape              Param #   \n",
        "=================================================================\n",
        "embedding_14 (Embedding)     (None, 500, 300)          26575200  \n",
        "_________________________________________________________________\n",
        "bidirectional_7 (Bidirection (None, 24)                30144     \n",
        "_________________________________________________________________\n",
        "dense_12 (Dense)             (None, 1)                 25        \n",
        "_________________________________________________________________\n",
        "activation_10 (Activation)   (None, 1)                 0         \n",
        "=================================================================\n",
        "Total params: 26,605,369\n",
        "Trainable params: 26,605,369\n",
        "Non-trainable params: 0\n",
        "_________________________________________________________________\n",
        "None\n"
       ]
      }
     ],
     "prompt_number": 37
    },
    {
     "cell_type": "code",
     "collapsed": false,
     "input": [
      "# Train model\n",
      "batch_size=128\n",
      "num_epochs=5\n",
      "\n",
      "model5.fit(X_train, y_train, batch_size=batch_size, epochs=num_epochs, validation_data=(X_test, y_test), verbose=2)\n",
      "\n",
      "print('Now it takes time...')\n",
      "# Evaluate model\n",
      "test_loss, acc = model5.evaluate(X_test, y_test, batch_size=batch_size)\n",
      "    \n",
      "print('Test loss: %1.4f' % test_loss)\n",
      "print('Test Accuracy: %1.4f' % acc)"
     ],
     "language": "python",
     "metadata": {},
     "outputs": [
      {
       "output_type": "stream",
       "stream": "stdout",
       "text": [
        "Train on 25000 samples, validate on 25000 samples\n",
        "Epoch 1/5\n",
        " - 29s - loss: 17.1045 - acc: 0.6627 - val_loss: 0.6518 - val_acc: 0.7680\n"
       ]
      },
      {
       "output_type": "stream",
       "stream": "stdout",
       "text": [
        "Epoch 2/5\n",
        " - 26s - loss: 0.7482 - acc: 0.7762 - val_loss: 1.0566 - val_acc: 0.8056\n"
       ]
      },
      {
       "output_type": "stream",
       "stream": "stdout",
       "text": [
        "Epoch 3/5\n",
        " - 25s - loss: 1.0427 - acc: 0.8157 - val_loss: 1.1043 - val_acc: 0.8087\n"
       ]
      },
      {
       "output_type": "stream",
       "stream": "stdout",
       "text": [
        "Epoch 4/5\n",
        " - 24s - loss: 1.1308 - acc: 0.8601 - val_loss: 1.2770 - val_acc: 0.8586\n"
       ]
      },
      {
       "output_type": "stream",
       "stream": "stdout",
       "text": [
        "Epoch 5/5\n",
        " - 24s - loss: 1.2654 - acc: 0.8826 - val_loss: 1.4333 - val_acc: 0.8440\n"
       ]
      },
      {
       "output_type": "stream",
       "stream": "stdout",
       "text": [
        "Now it takes time...\n",
        "\n",
        "  128/25000 [..............................] - ETA: 6s"
       ]
      },
      {
       "output_type": "stream",
       "stream": "stdout",
       "text": [
        "\n",
        "  384/25000 [..............................] - ETA: 6s"
       ]
      },
      {
       "output_type": "stream",
       "stream": "stdout",
       "text": [
        "\n",
        "  640/25000 [..............................] - ETA: 6s"
       ]
      },
      {
       "output_type": "stream",
       "stream": "stdout",
       "text": [
        "\n",
        "  896/25000 [>.............................] - ETA: 6s"
       ]
      },
      {
       "output_type": "stream",
       "stream": "stdout",
       "text": [
        "\n",
        " 1152/25000 [>.............................] - ETA: 6s"
       ]
      },
      {
       "output_type": "stream",
       "stream": "stdout",
       "text": [
        "\n",
        " 1408/25000 [>.............................] - ETA: 5s"
       ]
      },
      {
       "output_type": "stream",
       "stream": "stdout",
       "text": [
        "\n",
        " 1664/25000 [>.............................] - ETA: 5s"
       ]
      },
      {
       "output_type": "stream",
       "stream": "stdout",
       "text": [
        "\n",
        " 1920/25000 [=>............................] - ETA: 5s"
       ]
      },
      {
       "output_type": "stream",
       "stream": "stdout",
       "text": [
        "\n",
        " 2176/25000 [=>............................] - ETA: 5s"
       ]
      },
      {
       "output_type": "stream",
       "stream": "stdout",
       "text": [
        "\n",
        " 2432/25000 [=>............................] - ETA: 5s"
       ]
      },
      {
       "output_type": "stream",
       "stream": "stdout",
       "text": [
        "\n",
        " 2688/25000 [==>...........................] - ETA: 5s"
       ]
      },
      {
       "output_type": "stream",
       "stream": "stdout",
       "text": [
        "\n",
        " 2944/25000 [==>...........................] - ETA: 5s"
       ]
      },
      {
       "output_type": "stream",
       "stream": "stdout",
       "text": [
        "\n",
        " 3200/25000 [==>...........................] - ETA: 5s"
       ]
      },
      {
       "output_type": "stream",
       "stream": "stdout",
       "text": [
        "\n",
        " 3456/25000 [===>..........................] - ETA: 5s"
       ]
      },
      {
       "output_type": "stream",
       "stream": "stdout",
       "text": [
        "\n",
        " 3712/25000 [===>..........................] - ETA: 5s"
       ]
      },
      {
       "output_type": "stream",
       "stream": "stdout",
       "text": [
        "\n",
        " 3968/25000 [===>..........................] - ETA: 5s"
       ]
      },
      {
       "output_type": "stream",
       "stream": "stdout",
       "text": [
        "\n",
        " 4224/25000 [====>.........................] - ETA: 5s"
       ]
      },
      {
       "output_type": "stream",
       "stream": "stdout",
       "text": [
        "\n",
        " 4480/25000 [====>.........................] - ETA: 5s"
       ]
      },
      {
       "output_type": "stream",
       "stream": "stdout",
       "text": [
        "\n",
        " 4736/25000 [====>.........................] - ETA: 5s"
       ]
      },
      {
       "output_type": "stream",
       "stream": "stdout",
       "text": [
        "\n",
        " 4992/25000 [====>.........................] - ETA: 5s"
       ]
      },
      {
       "output_type": "stream",
       "stream": "stdout",
       "text": [
        "\n",
        " 5248/25000 [=====>........................] - ETA: 4s"
       ]
      },
      {
       "output_type": "stream",
       "stream": "stdout",
       "text": [
        "\n",
        " 5504/25000 [=====>........................] - ETA: 4s"
       ]
      },
      {
       "output_type": "stream",
       "stream": "stdout",
       "text": [
        "\n",
        " 5760/25000 [=====>........................] - ETA: 4s"
       ]
      },
      {
       "output_type": "stream",
       "stream": "stdout",
       "text": [
        "\n",
        " 6016/25000 [======>.......................] - ETA: 4s"
       ]
      },
      {
       "output_type": "stream",
       "stream": "stdout",
       "text": [
        "\n",
        " 6272/25000 [======>.......................] - ETA: 4s"
       ]
      },
      {
       "output_type": "stream",
       "stream": "stdout",
       "text": [
        "\n",
        " 6528/25000 [======>.......................] - ETA: 4s"
       ]
      },
      {
       "output_type": "stream",
       "stream": "stdout",
       "text": [
        "\n",
        " 6784/25000 [=======>......................] - ETA: 4s"
       ]
      },
      {
       "output_type": "stream",
       "stream": "stdout",
       "text": [
        "\n",
        " 7040/25000 [=======>......................] - ETA: 4s"
       ]
      },
      {
       "output_type": "stream",
       "stream": "stdout",
       "text": [
        "\n",
        " 7296/25000 [=======>......................] - ETA: 4s"
       ]
      },
      {
       "output_type": "stream",
       "stream": "stdout",
       "text": [
        "\n",
        " 7552/25000 [========>.....................] - ETA: 4s"
       ]
      },
      {
       "output_type": "stream",
       "stream": "stdout",
       "text": [
        "\n",
        " 7808/25000 [========>.....................] - ETA: 4s"
       ]
      },
      {
       "output_type": "stream",
       "stream": "stdout",
       "text": [
        "\n",
        " 8064/25000 [========>.....................] - ETA: 4s"
       ]
      },
      {
       "output_type": "stream",
       "stream": "stdout",
       "text": [
        "\n",
        " 8320/25000 [========>.....................] - ETA: 4s"
       ]
      },
      {
       "output_type": "stream",
       "stream": "stdout",
       "text": [
        "\n",
        " 8576/25000 [=========>....................] - ETA: 4s"
       ]
      },
      {
       "output_type": "stream",
       "stream": "stdout",
       "text": [
        "\n",
        " 8832/25000 [=========>....................] - ETA: 4s"
       ]
      },
      {
       "output_type": "stream",
       "stream": "stdout",
       "text": [
        "\n",
        " 9088/25000 [=========>....................] - ETA: 3s"
       ]
      },
      {
       "output_type": "stream",
       "stream": "stdout",
       "text": [
        "\n",
        " 9344/25000 [==========>...................] - ETA: 3s"
       ]
      },
      {
       "output_type": "stream",
       "stream": "stdout",
       "text": [
        "\n",
        " 9600/25000 [==========>...................] - ETA: 3s"
       ]
      },
      {
       "output_type": "stream",
       "stream": "stdout",
       "text": [
        "\n",
        " 9856/25000 [==========>...................] - ETA: 3s"
       ]
      },
      {
       "output_type": "stream",
       "stream": "stdout",
       "text": [
        "\n",
        "10112/25000 [===========>..................] - ETA: 3s"
       ]
      },
      {
       "output_type": "stream",
       "stream": "stdout",
       "text": [
        "\n",
        "10368/25000 [===========>..................] - ETA: 3s"
       ]
      },
      {
       "output_type": "stream",
       "stream": "stdout",
       "text": [
        "\n",
        "10624/25000 [===========>..................] - ETA: 3s"
       ]
      },
      {
       "output_type": "stream",
       "stream": "stdout",
       "text": [
        "\n",
        "10880/25000 [============>.................] - ETA: 3s"
       ]
      },
      {
       "output_type": "stream",
       "stream": "stdout",
       "text": [
        "\n",
        "11136/25000 [============>.................] - ETA: 3s"
       ]
      },
      {
       "output_type": "stream",
       "stream": "stdout",
       "text": [
        "\n",
        "11392/25000 [============>.................] - ETA: 3s"
       ]
      },
      {
       "output_type": "stream",
       "stream": "stdout",
       "text": [
        "\n",
        "11648/25000 [============>.................] - ETA: 3s"
       ]
      },
      {
       "output_type": "stream",
       "stream": "stdout",
       "text": [
        "\n",
        "11904/25000 [=============>................] - ETA: 3s"
       ]
      },
      {
       "output_type": "stream",
       "stream": "stdout",
       "text": [
        "\n",
        "12160/25000 [=============>................] - ETA: 3s"
       ]
      },
      {
       "output_type": "stream",
       "stream": "stdout",
       "text": [
        "\n",
        "12416/25000 [=============>................] - ETA: 3s"
       ]
      },
      {
       "output_type": "stream",
       "stream": "stdout",
       "text": [
        "\n",
        "12672/25000 [==============>...............] - ETA: 3s"
       ]
      },
      {
       "output_type": "stream",
       "stream": "stdout",
       "text": [
        "\n",
        "12928/25000 [==============>...............] - ETA: 3s"
       ]
      },
      {
       "output_type": "stream",
       "stream": "stdout",
       "text": [
        "\n",
        "13184/25000 [==============>...............] - ETA: 2s"
       ]
      },
      {
       "output_type": "stream",
       "stream": "stdout",
       "text": [
        "\n",
        "13440/25000 [===============>..............] - ETA: 2s"
       ]
      },
      {
       "output_type": "stream",
       "stream": "stdout",
       "text": [
        "\n",
        "13696/25000 [===============>..............] - ETA: 2s"
       ]
      },
      {
       "output_type": "stream",
       "stream": "stdout",
       "text": [
        "\n",
        "13952/25000 [===============>..............] - ETA: 2s"
       ]
      },
      {
       "output_type": "stream",
       "stream": "stdout",
       "text": [
        "\n",
        "14208/25000 [================>.............] - ETA: 2s"
       ]
      },
      {
       "output_type": "stream",
       "stream": "stdout",
       "text": [
        "\n",
        "14464/25000 [================>.............] - ETA: 2s"
       ]
      },
      {
       "output_type": "stream",
       "stream": "stdout",
       "text": [
        "\n",
        "14720/25000 [================>.............] - ETA: 2s"
       ]
      },
      {
       "output_type": "stream",
       "stream": "stdout",
       "text": [
        "\n",
        "14976/25000 [================>.............] - ETA: 2s"
       ]
      },
      {
       "output_type": "stream",
       "stream": "stdout",
       "text": [
        "\n",
        "15232/25000 [=================>............] - ETA: 2s"
       ]
      },
      {
       "output_type": "stream",
       "stream": "stdout",
       "text": [
        "\n",
        "15488/25000 [=================>............] - ETA: 2s"
       ]
      },
      {
       "output_type": "stream",
       "stream": "stdout",
       "text": [
        "\n",
        "15744/25000 [=================>............] - ETA: 2s"
       ]
      },
      {
       "output_type": "stream",
       "stream": "stdout",
       "text": [
        "\n",
        "16000/25000 [==================>...........] - ETA: 2s"
       ]
      },
      {
       "output_type": "stream",
       "stream": "stdout",
       "text": [
        "\n",
        "16256/25000 [==================>...........] - ETA: 2s"
       ]
      },
      {
       "output_type": "stream",
       "stream": "stdout",
       "text": [
        "\n",
        "16512/25000 [==================>...........] - ETA: 2s"
       ]
      },
      {
       "output_type": "stream",
       "stream": "stdout",
       "text": [
        "\n",
        "16768/25000 [===================>..........] - ETA: 2s"
       ]
      },
      {
       "output_type": "stream",
       "stream": "stdout",
       "text": [
        "\n",
        "17024/25000 [===================>..........] - ETA: 2s"
       ]
      },
      {
       "output_type": "stream",
       "stream": "stdout",
       "text": [
        "\n",
        "17280/25000 [===================>..........] - ETA: 1s"
       ]
      },
      {
       "output_type": "stream",
       "stream": "stdout",
       "text": [
        "\n",
        "17536/25000 [====================>.........] - ETA: 1s"
       ]
      },
      {
       "output_type": "stream",
       "stream": "stdout",
       "text": [
        "\n",
        "17792/25000 [====================>.........] - ETA: 1s"
       ]
      },
      {
       "output_type": "stream",
       "stream": "stdout",
       "text": [
        "\n",
        "18048/25000 [====================>.........] - ETA: 1s"
       ]
      },
      {
       "output_type": "stream",
       "stream": "stdout",
       "text": [
        "\n",
        "18304/25000 [====================>.........] - ETA: 1s"
       ]
      },
      {
       "output_type": "stream",
       "stream": "stdout",
       "text": [
        "\n",
        "18560/25000 [=====================>........] - ETA: 1s"
       ]
      },
      {
       "output_type": "stream",
       "stream": "stdout",
       "text": [
        "\n",
        "18816/25000 [=====================>........] - ETA: 1s"
       ]
      },
      {
       "output_type": "stream",
       "stream": "stdout",
       "text": [
        "\n",
        "19072/25000 [=====================>........] - ETA: 1s"
       ]
      },
      {
       "output_type": "stream",
       "stream": "stdout",
       "text": [
        "\n",
        "19328/25000 [======================>.......] - ETA: 1s"
       ]
      },
      {
       "output_type": "stream",
       "stream": "stdout",
       "text": [
        "\n",
        "19584/25000 [======================>.......] - ETA: 1s"
       ]
      },
      {
       "output_type": "stream",
       "stream": "stdout",
       "text": [
        "\n",
        "19840/25000 [======================>.......] - ETA: 1s"
       ]
      },
      {
       "output_type": "stream",
       "stream": "stdout",
       "text": [
        "\n",
        "20096/25000 [=======================>......] - ETA: 1s"
       ]
      },
      {
       "output_type": "stream",
       "stream": "stdout",
       "text": [
        "\n",
        "20352/25000 [=======================>......] - ETA: 1s"
       ]
      },
      {
       "output_type": "stream",
       "stream": "stdout",
       "text": [
        "\n",
        "20608/25000 [=======================>......] - ETA: 1s"
       ]
      },
      {
       "output_type": "stream",
       "stream": "stdout",
       "text": [
        "\n",
        "20864/25000 [========================>.....] - ETA: 1s"
       ]
      },
      {
       "output_type": "stream",
       "stream": "stdout",
       "text": [
        "\n",
        "21120/25000 [========================>.....] - ETA: 0s"
       ]
      },
      {
       "output_type": "stream",
       "stream": "stdout",
       "text": [
        "\n",
        "21376/25000 [========================>.....] - ETA: 0s"
       ]
      },
      {
       "output_type": "stream",
       "stream": "stdout",
       "text": [
        "\n",
        "21632/25000 [========================>.....] - ETA: 0s"
       ]
      },
      {
       "output_type": "stream",
       "stream": "stdout",
       "text": [
        "\n",
        "21888/25000 [=========================>....] - ETA: 0s"
       ]
      },
      {
       "output_type": "stream",
       "stream": "stdout",
       "text": [
        "\n",
        "22144/25000 [=========================>....] - ETA: 0s"
       ]
      },
      {
       "output_type": "stream",
       "stream": "stdout",
       "text": [
        "\n",
        "22400/25000 [=========================>....] - ETA: 0s"
       ]
      },
      {
       "output_type": "stream",
       "stream": "stdout",
       "text": [
        "\n",
        "22656/25000 [==========================>...] - ETA: 0s"
       ]
      },
      {
       "output_type": "stream",
       "stream": "stdout",
       "text": [
        "\n",
        "22912/25000 [==========================>...] - ETA: 0s"
       ]
      },
      {
       "output_type": "stream",
       "stream": "stdout",
       "text": [
        "\n",
        "23168/25000 [==========================>...] - ETA: 0s"
       ]
      },
      {
       "output_type": "stream",
       "stream": "stdout",
       "text": [
        "\n",
        "23424/25000 [===========================>..] - ETA: 0s"
       ]
      },
      {
       "output_type": "stream",
       "stream": "stdout",
       "text": [
        "\n",
        "23680/25000 [===========================>..] - ETA: 0s"
       ]
      },
      {
       "output_type": "stream",
       "stream": "stdout",
       "text": [
        "\n",
        "23936/25000 [===========================>..] - ETA: 0s"
       ]
      },
      {
       "output_type": "stream",
       "stream": "stdout",
       "text": [
        "\n",
        "24192/25000 [============================>.] - ETA: 0s"
       ]
      },
      {
       "output_type": "stream",
       "stream": "stdout",
       "text": [
        "\n",
        "24448/25000 [============================>.] - ETA: 0s"
       ]
      },
      {
       "output_type": "stream",
       "stream": "stdout",
       "text": [
        "\n",
        "24704/25000 [============================>.] - ETA: 0s"
       ]
      },
      {
       "output_type": "stream",
       "stream": "stdout",
       "text": [
        "\n",
        "24960/25000 [============================>.] - ETA: 0s"
       ]
      },
      {
       "output_type": "stream",
       "stream": "stdout",
       "text": [
        "\n",
        "25000/25000 [==============================] - 6s 253us/step\n"
       ]
      },
      {
       "output_type": "stream",
       "stream": "stdout",
       "text": [
        "Test loss: 1.4333\n",
        "Test Accuracy: 0.8440\n"
       ]
      }
     ],
     "prompt_number": 38
    },
    {
     "cell_type": "markdown",
     "metadata": {},
     "source": [
      "## Part 3) Analysis of results and data visualization \n",
      "### 3.1 ) t-SNE 2D Visualization of context vectors (test data)"
     ]
    },
    {
     "cell_type": "markdown",
     "metadata": {},
     "source": [
      "t-distributed Stochastic Neighbor Embedding (t-SNE)[1] is a non-supervised technique of visualization of high-dimensional data based on KL divergence probabilities approximation to construct a manifold.\n",
      "\n",
      "[t-SNE sklearn manifold](http://scikit-learn.org/stable/modules/generated/sklearn.manifold.TSNE.html)\n",
      "\n",
      "[1] Maaten, Laurens van der, and Geoffrey Hinton. \"Visualizing data using t-SNE.\" Journal of machine learning research 9, no. Nov (2008): 2579-2605.\n",
      "\n",
      "In this example, we will use this technique to visualize context vectors of each document (review) in a 2D space. The original euclidian distance between high dimensional context vectors is mostly preserved. Therefore, we can have an idea of the projection of context vectors in a 2D space. \n",
      "\n",
      "We will plot this representation using a scatter plot (please use a sub-sampling of test data for visualization)\n",
      "\n",
      "[scatter plot matplotlib](https://matplotlib.org/gallery/shapes_and_collections/scatter.html)\n",
      "\n",
      "*plt.scatter(proj_x, proj_y, c=y_test, cmap='rainbow')*\n",
      "\n",
      "The colors of the points will represent the real label (positive or negative review) of the predicted context vector.\n",
      "\n",
      "Apply this method in context vectors (for training and testing data) to perform a visual analysis\n"
     ]
    },
    {
     "cell_type": "code",
     "collapsed": true,
     "input": [
      "from sklearn.manifold import TSNE\n",
      "import math\n",
      "from keras import backend as K\n",
      "%matplotlib inline\n",
      "import matplotlib.pyplot as plt\n",
      "\n",
      "# Function that takes the output of a specific layer of the model\n",
      "def get_activations(model, id_layer, X_batch): # PAY ATTENTION TO THE ID_LAYER !!!!\n",
      "    get_activations = K.function([model.layers[0].input, K.learning_phase()], [model.layers[id_layer].output])\n",
      "    activations = get_activations([X_batch,0])\n",
      "    return activations\n",
      "\n",
      "#  Function that takes the output of a rnn layer of the model (use batchs)\n",
      "def get_context_vectors(model, X, id_rnn_layer = 1):\n",
      "    batch_size_test = 1024\n",
      "    h_context = get_activations(model, id_rnn_layer, X[0,:].reshape(1,-1))[0]\n",
      "    divs = math.floor(X.shape[0]/batch_size_test)\n",
      "    h_ = np.zeros((X.shape[0], rnn_units))\n",
      "    for i in range(int(divs)):\n",
      "        h_context = get_activations(model, id_rnn_layer, X_test[i*batch_size_test:(i+1)*batch_size_test,:].reshape(batch_size_test,-1))[0]\n",
      "        h_[i*batch_size_test:(i+1)*batch_size_test,:] = h_context.reshape(-1, rnn_units)\n",
      "    if X.shape[0] > divs*batch_size_test:\n",
      "        first_id = int(divs*batch_size_test)\n",
      "        h_context = get_activations(model,  id_rnn_layer, X[first_id :,:])[0]\n",
      "        h_[first_id :,:] = h_context.reshape(-1, rnn_units)\n",
      "    h_ = np.asarray(h_).reshape(-1, rnn_units)\n",
      "    return h_"
     ],
     "language": "python",
     "metadata": {},
     "outputs": [],
     "prompt_number": 36
    },
    {
     "cell_type": "code",
     "collapsed": false,
     "input": [
      "print(X_train.shape)\n",
      "X_context=get_context_vectors(model,X_test[:100],id_rnn_layer=1)\n",
      "X_embedded = TSNE(n_components=2).fit_transform(X_context)\n",
      "colors = np.random.rand(100)"
     ],
     "language": "python",
     "metadata": {},
     "outputs": [
      {
       "output_type": "stream",
       "stream": "stdout",
       "text": [
        "(25000, 500)\n"
       ]
      }
     ],
     "prompt_number": 64
    },
    {
     "cell_type": "code",
     "collapsed": false,
     "input": [
      "plt.scatter(X_embedded[:, 0], X_embedded[:, 1], c=colors, cmap=plt.cm.Spectral)"
     ],
     "language": "python",
     "metadata": {},
     "outputs": [
      {
       "metadata": {},
       "output_type": "pyout",
       "prompt_number": 65,
       "text": [
        "<matplotlib.collections.PathCollection at 0x7f90c245a810>"
       ]
      },
      {
       "metadata": {},
       "output_type": "display_data",
       "png": "[encoded data removed]",
       "text": [
        "<matplotlib.figure.Figure at 0x7f90c275b510>"
       ]
      }
     ],
     "prompt_number": 65
    },
    {
     "cell_type": "markdown",
     "metadata": {},
     "source": [
      "Question 3.1) Get context vectors (for training and test data) and complete the tsne transformation of these vectors and then plot using scatter function of matplotlib with a colorbar (Hint: use *get_context_vectors* function and specify correctly the id of the layer). \n",
      "What means the obtained results ?\n",
      "\n",
      "Answer:"
     ]
    },
    {
     "cell_type": "code",
     "collapsed": true,
     "input": [
      "# Then plot using scatter function of matplotlib\n",
      "n_subsamples = 1000"
     ],
     "language": "python",
     "metadata": {},
     "outputs": [],
     "prompt_number": null
    },
    {
     "cell_type": "code",
     "collapsed": true,
     "input": [
      "# Please get context vectors and complete the tsne transformation of these vectors\n",
      "### CELL TO COMPLETE (~ 4 lines)"
     ],
     "language": "python",
     "metadata": {},
     "outputs": [],
     "prompt_number": null
    },
    {
     "cell_type": "markdown",
     "metadata": {},
     "source": [
      "### 3.2 ) Show output probabilities (sigmoid output) for each word of a random review on test data\n",
      "\n",
      "The objective of this subsection is getting predictions of each word added in the sequence. This type of analysis increases the interpretability of the RNN decision. To identify when the model changes the decision for example. \n",
      "\n",
      "- Get a random review on test data with less than 30 words (count the number of non-zeros entries because padding is indexed by 0 element)\n",
      "- Iterate until find first random review with less than 30 words\n",
      "- Converts the numpy sample in a list of integers without padding\n",
      "- Show the raw text of the review (use function *indexes_to_text*)"
     ]
    },
    {
     "cell_type": "code",
     "collapsed": true,
     "input": [
      "import random\n",
      "\n",
      "max_words_constraint=30\n",
      "non_zeros_indexes=X_test.shape[1]\n",
      "\n",
      "# Get a random review with less than max_words_contraint words\n",
      "while non_zeros_indexes > max_words_constraint:\n",
      "    id_random_review = random.randint(0, int(X_test.shape[0]))\n",
      "    non_zeros_indexes = len(np.nonzero(X_test[int(id_random_review),:])[0])\n",
      "    \n",
      "# Create a list of non-zeros elements for remove padding\n",
      "random_review_sample = list()\n",
      "for i in X_test[id_random_review,:].reshape(-1).tolist():\n",
      "    if i != 0:\n",
      "        random_review_sample.append(i)\n",
      "print(indexes_to_text(random_review_sample))"
     ],
     "language": "python",
     "metadata": {},
     "outputs": [],
     "prompt_number": null
    },
    {
     "cell_type": "markdown",
     "metadata": {},
     "source": [
      "Question 3.2)\n",
      "\n",
      "- Add words progressively (get one word per time and creates a new sub-sequence containing past words)\n",
      "- Create sub-sequences of words and add padding for each one of these sub-sequences (Hint: use function *sequence.pad_sequences(seq, maxlen=maxlen)*)\n",
      "- Get the sigmoid output and print it (Hint: use *function get_activations(model, id_layer, X_batch)* on each subsequence)\n",
      "- Create a function *get_predictions* and print the conditional probability of positive prediction given the subsequence\n",
      "- Create a plot with that shows the evolution of predictions (a time series) during the time"
     ]
    },
    {
     "cell_type": "code",
     "collapsed": true,
     "input": [
      "from keras.preprocessing import sequence\n",
      "\n",
      "# Get predictions of each time for a review sample\n",
      "def get_predictions(model, review_sample):\n",
      "     ### CELL TO COMPLETE (~ 7-15 lines)\n",
      "                       \n",
      "get_predictions(model, random_review_sample)\n",
      "print('Real label {}'.format(y_test[id_random_review]))"
     ],
     "language": "python",
     "metadata": {},
     "outputs": [],
     "prompt_number": null
    },
    {
     "cell_type": "markdown",
     "metadata": {},
     "source": [
      "### 3.3 ) Create your own movie review and test it with predictions of your trained model\n",
      "\n",
      "Question 3.3)\n",
      "\n",
      "- Generate your own review\n",
      "- Lowercase all words o the sentence (Hint: *.lower()*)\n",
      "- Use a tokenizer or a simple split for separate words (Hint: *.split(' ')*)\n",
      "- Excludes words that are not in vocabulary\n",
      "- Replace words by indexes\n",
      "- Get the prediction result for each word of your review (Hint: use the function *get_predictions* created in the last exercice)"
     ]
    },
    {
     "cell_type": "code",
     "collapsed": true,
     "input": [
      "# You can modify this text review as you want\n",
      "#text_review = 'Quite simply, the finest gangster film ever made. No doubt about it, this a spectacular viewing experience'"
     ],
     "language": "python",
     "metadata": {},
     "outputs": [],
     "prompt_number": null
    },
    {
     "cell_type": "code",
     "collapsed": true,
     "input": [
      "### CELL TO COMPLETE (~ 8 lines)"
     ],
     "language": "python",
     "metadata": {},
     "outputs": [],
     "prompt_number": null
    },
    {
     "cell_type": "heading",
     "level": 2,
     "metadata": {},
     "source": [
      "Part 4) Transfer learning of pre-trained FastText word embeddings to improve results"
     ]
    },
    {
     "cell_type": "markdown",
     "metadata": {},
     "source": [
      "Question 4.1) What are pre-trained word embeddings? How they are learned (unsupervised or supervised way)?\n",
      "\n",
      "Question 4.2)\n",
      "\n",
      "- Download text pre-trained FastText (Facebook research) word embeddings \n",
      "\n",
      "[English vectors](https://fasttext.cc/docs/en/english-vectors.html) \n",
      "[FastText project](https://research.fb.com/fasttext/)\n",
      "[Pre-trained vectors](https://github.com/facebookresearch/fastText/blob/master/pretrained-vectors.md)\n",
      "\n",
      "- Read and load the text file and extract the dense vector from each word\n",
      "- Saves only words-vectors of IMDB vocabulary\n",
      "- Create a random normal matrix with dimensions *max_words* and *embedding_dims* \n",
      "- Associate extracted vectors using IMDB word indexes\n",
      "- Copy extracted vectors in the indexes of the created matrix\n",
      "- Create the LSTM model with  *Embedding* layer and regularization\n",
      "- Initialize the weights of *Embedding* layer with created matrix values\n",
      "- Compare t-SNE results"
     ]
    },
    {
     "cell_type": "code",
     "collapsed": true,
     "input": [
      "### CELL TO COMPLETE (~ 34 lines)"
     ],
     "language": "python",
     "metadata": {},
     "outputs": [],
     "prompt_number": null
    }
   ],
   "metadata": {}
  }
 ]
}