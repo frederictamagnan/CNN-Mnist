{
 "metadata": {
  "kernelspec": {
   "display_name": "Python 2",
   "language": "python",
   "name": "python2"
  },
  "language_info": {
   "codemirror_mode": {
    "name": "ipython",
    "version": 2
   },
   "file_extension": ".py",
   "mimetype": "text/x-python",
   "name": "python",
   "nbconvert_exporter": "python",
   "pygments_lexer": "ipython2",
   "version": "2.7.14"
  },
  "name": "",
  "signature": "sha256:c94b097536bfa424067b3ef08b5ae16b2f3503253f5e5a01d031f239610c09ab"
 },
 "nbformat": 3,
 "nbformat_minor": 0,
 "worksheets": [
  {
   "cells": [
    {
     "cell_type": "markdown",
     "metadata": {},
     "source": [
      "# ELU 502 Deep learning -- Lab session 5\n",
      "Pierre-Henri Conze, Fran\u00e7ois Rousseau, Ronan Fablet - session: 1h20 (17th april)+3h (20th april)"
     ]
    },
    {
     "cell_type": "heading",
     "level": 3,
     "metadata": {},
     "source": [
      "Objectives: perform classification on Fashion-MNIST dataset using multiple layer perceptrons, convolutional neural networks, data augmentation and transfer learning to obtain the best classification results as possible!"
     ]
    },
    {
     "cell_type": "markdown",
     "metadata": {},
     "source": [
      "First, download and read the Fashion-MNIST data."
     ]
    },
    {
     "cell_type": "code",
     "collapsed": false,
     "input": [
      "%matplotlib inline\n",
      "import keras\n",
      "from keras.datasets import fashion_mnist\n",
      "\n",
      "(x_train, y_train), (x_test, y_test) = fashion_mnist.load_data()"
     ],
     "language": "python",
     "metadata": {},
     "outputs": [
      {
       "output_type": "stream",
       "stream": "stderr",
       "text": [
        "/usr/lib/python2.7/dist-packages/matplotlib/font_manager.py:273: UserWarning: Matplotlib is building the font cache using fc-list. This may take a moment.\n",
        "  warnings.warn('Matplotlib is building the font cache using fc-list. This may take a moment.')\n",
        "Using TensorFlow backend.\n"
       ]
      },
      {
       "output_type": "stream",
       "stream": "stdout",
       "text": [
        "Downloading data from http://fashion-mnist.s3-website.eu-central-1.amazonaws.com/train-labels-idx1-ubyte.gz\n",
        "\n"
       ]
      },
      {
       "output_type": "stream",
       "stream": "stdout",
       "text": [
        "16384/29515 [===============>..............] - ETA: 0s"
       ]
      },
      {
       "output_type": "stream",
       "stream": "stdout",
       "text": [
        "\n",
        "32768/29515 [=================================] - 0s 1us/step\n"
       ]
      },
      {
       "output_type": "stream",
       "stream": "stdout",
       "text": [
        "\n",
        "40960/29515 [=========================================] - 0s 1us/step\n"
       ]
      },
      {
       "output_type": "stream",
       "stream": "stdout",
       "text": [
        "Downloading data from http://fashion-mnist.s3-website.eu-central-1.amazonaws.com/train-images-idx3-ubyte.gz\n",
        "\n"
       ]
      },
      {
       "output_type": "stream",
       "stream": "stdout",
       "text": [
        "   16384/26421880 [..............................] - ETA: 34s"
       ]
      },
      {
       "output_type": "stream",
       "stream": "stdout",
       "text": [
        "\n",
        "  131072/26421880 [..............................] - ETA: 17s"
       ]
      },
      {
       "output_type": "stream",
       "stream": "stdout",
       "text": [
        "\n",
        "  401408/26421880 [..............................] - ETA: 8s "
       ]
      },
      {
       "output_type": "stream",
       "stream": "stdout",
       "text": [
        "\n",
        "  917504/26421880 [>.............................] - ETA: 5s"
       ]
      },
      {
       "output_type": "stream",
       "stream": "stdout",
       "text": [
        "\n",
        " 1155072/26421880 [>.............................] - ETA: 5s"
       ]
      },
      {
       "output_type": "stream",
       "stream": "stdout",
       "text": [
        "\n",
        " 1548288/26421880 [>.............................] - ETA: 4s"
       ]
      },
      {
       "output_type": "stream",
       "stream": "stdout",
       "text": [
        "\n",
        " 2662400/26421880 [==>...........................] - ETA: 3s"
       ]
      },
      {
       "output_type": "stream",
       "stream": "stdout",
       "text": [
        "\n",
        " 3260416/26421880 [==>...........................] - ETA: 2s"
       ]
      },
      {
       "output_type": "stream",
       "stream": "stdout",
       "text": [
        "\n",
        " 3710976/26421880 [===>..........................] - ETA: 2s"
       ]
      },
      {
       "output_type": "stream",
       "stream": "stdout",
       "text": [
        "\n",
        " 4694016/26421880 [====>.........................] - ETA: 2s"
       ]
      },
      {
       "output_type": "stream",
       "stream": "stdout",
       "text": [
        "\n",
        " 5283840/26421880 [====>.........................] - ETA: 2s"
       ]
      },
      {
       "output_type": "stream",
       "stream": "stdout",
       "text": [
        "\n",
        " 5873664/26421880 [=====>........................] - ETA: 2s"
       ]
      },
      {
       "output_type": "stream",
       "stream": "stdout",
       "text": [
        "\n",
        " 6463488/26421880 [======>.......................] - ETA: 2s"
       ]
      },
      {
       "output_type": "stream",
       "stream": "stdout",
       "text": [
        "\n",
        " 7061504/26421880 [=======>......................] - ETA: 1s"
       ]
      },
      {
       "output_type": "stream",
       "stream": "stdout",
       "text": [
        "\n",
        " 7389184/26421880 [=======>......................] - ETA: 2s"
       ]
      },
      {
       "output_type": "stream",
       "stream": "stdout",
       "text": [
        "\n",
        " 8323072/26421880 [========>.....................] - ETA: 1s"
       ]
      },
      {
       "output_type": "stream",
       "stream": "stdout",
       "text": [
        "\n",
        " 8912896/26421880 [=========>....................] - ETA: 1s"
       ]
      },
      {
       "output_type": "stream",
       "stream": "stdout",
       "text": [
        "\n",
        " 9355264/26421880 [=========>....................] - ETA: 1s"
       ]
      },
      {
       "output_type": "stream",
       "stream": "stdout",
       "text": [
        "\n",
        "10199040/26421880 [==========>...................] - ETA: 1s"
       ]
      },
      {
       "output_type": "stream",
       "stream": "stdout",
       "text": [
        "\n",
        "10772480/26421880 [===========>..................] - ETA: 1s"
       ]
      },
      {
       "output_type": "stream",
       "stream": "stdout",
       "text": [
        "\n",
        "11354112/26421880 [===========>..................] - ETA: 1s"
       ]
      },
      {
       "output_type": "stream",
       "stream": "stdout",
       "text": [
        "\n",
        "11935744/26421880 [============>.................] - ETA: 1s"
       ]
      },
      {
       "output_type": "stream",
       "stream": "stdout",
       "text": [
        "\n",
        "12517376/26421880 [=============>................] - ETA: 1s"
       ]
      },
      {
       "output_type": "stream",
       "stream": "stdout",
       "text": [
        "\n",
        "13082624/26421880 [=============>................] - ETA: 1s"
       ]
      },
      {
       "output_type": "stream",
       "stream": "stdout",
       "text": [
        "\n",
        "13565952/26421880 [==============>...............] - ETA: 1s"
       ]
      },
      {
       "output_type": "stream",
       "stream": "stdout",
       "text": [
        "\n",
        "14065664/26421880 [==============>...............] - ETA: 1s"
       ]
      },
      {
       "output_type": "stream",
       "stream": "stdout",
       "text": [
        "\n",
        "14360576/26421880 [===============>..............] - ETA: 1s"
       ]
      },
      {
       "output_type": "stream",
       "stream": "stdout",
       "text": [
        "\n",
        "14958592/26421880 [===============>..............] - ETA: 1s"
       ]
      },
      {
       "output_type": "stream",
       "stream": "stdout",
       "text": [
        "\n",
        "15360000/26421880 [================>.............] - ETA: 1s"
       ]
      },
      {
       "output_type": "stream",
       "stream": "stdout",
       "text": [
        "\n",
        "15794176/26421880 [================>.............] - ETA: 1s"
       ]
      },
      {
       "output_type": "stream",
       "stream": "stdout",
       "text": [
        "\n",
        "16130048/26421880 [=================>............] - ETA: 1s"
       ]
      },
      {
       "output_type": "stream",
       "stream": "stdout",
       "text": [
        "\n",
        "16670720/26421880 [=================>............] - ETA: 0s"
       ]
      },
      {
       "output_type": "stream",
       "stream": "stdout",
       "text": [
        "\n",
        "17047552/26421880 [==================>...........] - ETA: 0s"
       ]
      },
      {
       "output_type": "stream",
       "stream": "stdout",
       "text": [
        "\n",
        "17424384/26421880 [==================>...........] - ETA: 0s"
       ]
      },
      {
       "output_type": "stream",
       "stream": "stdout",
       "text": [
        "\n",
        "17784832/26421880 [===================>..........] - ETA: 0s"
       ]
      },
      {
       "output_type": "stream",
       "stream": "stdout",
       "text": [
        "\n",
        "18178048/26421880 [===================>..........] - ETA: 0s"
       ]
      },
      {
       "output_type": "stream",
       "stream": "stdout",
       "text": [
        "\n",
        "18563072/26421880 [====================>.........] - ETA: 0s"
       ]
      },
      {
       "output_type": "stream",
       "stream": "stdout",
       "text": [
        "\n",
        "18923520/26421880 [====================>.........] - ETA: 0s"
       ]
      },
      {
       "output_type": "stream",
       "stream": "stdout",
       "text": [
        "\n",
        "19292160/26421880 [====================>.........] - ETA: 0s"
       ]
      },
      {
       "output_type": "stream",
       "stream": "stdout",
       "text": [
        "\n",
        "19685376/26421880 [=====================>........] - ETA: 0s"
       ]
      },
      {
       "output_type": "stream",
       "stream": "stdout",
       "text": [
        "\n",
        "20037632/26421880 [=====================>........] - ETA: 0s"
       ]
      },
      {
       "output_type": "stream",
       "stream": "stdout",
       "text": [
        "\n",
        "20340736/26421880 [======================>.......] - ETA: 0s"
       ]
      },
      {
       "output_type": "stream",
       "stream": "stdout",
       "text": [
        "\n",
        "20660224/26421880 [======================>.......] - ETA: 0s"
       ]
      },
      {
       "output_type": "stream",
       "stream": "stdout",
       "text": [
        "\n",
        "20996096/26421880 [======================>.......] - ETA: 0s"
       ]
      },
      {
       "output_type": "stream",
       "stream": "stdout",
       "text": [
        "\n",
        "21323776/26421880 [=======================>......] - ETA: 0s"
       ]
      },
      {
       "output_type": "stream",
       "stream": "stdout",
       "text": [
        "\n",
        "21643264/26421880 [=======================>......] - ETA: 0s"
       ]
      },
      {
       "output_type": "stream",
       "stream": "stdout",
       "text": [
        "\n",
        "21995520/26421880 [=======================>......] - ETA: 0s"
       ]
      },
      {
       "output_type": "stream",
       "stream": "stdout",
       "text": [
        "\n",
        "22331392/26421880 [========================>.....] - ETA: 0s"
       ]
      },
      {
       "output_type": "stream",
       "stream": "stdout",
       "text": [
        "\n",
        "22659072/26421880 [========================>.....] - ETA: 0s"
       ]
      },
      {
       "output_type": "stream",
       "stream": "stdout",
       "text": [
        "\n",
        "22986752/26421880 [=========================>....] - ETA: 0s"
       ]
      },
      {
       "output_type": "stream",
       "stream": "stdout",
       "text": [
        "\n",
        "23339008/26421880 [=========================>....] - ETA: 0s"
       ]
      },
      {
       "output_type": "stream",
       "stream": "stdout",
       "text": [
        "\n",
        "23666688/26421880 [=========================>....] - ETA: 0s"
       ]
      },
      {
       "output_type": "stream",
       "stream": "stdout",
       "text": [
        "\n",
        "24002560/26421880 [==========================>...] - ETA: 0s"
       ]
      },
      {
       "output_type": "stream",
       "stream": "stdout",
       "text": [
        "\n",
        "24346624/26421880 [==========================>...] - ETA: 0s"
       ]
      },
      {
       "output_type": "stream",
       "stream": "stdout",
       "text": [
        "\n",
        "24707072/26421880 [===========================>..] - ETA: 0s"
       ]
      },
      {
       "output_type": "stream",
       "stream": "stdout",
       "text": [
        "\n",
        "25042944/26421880 [===========================>..] - ETA: 0s"
       ]
      },
      {
       "output_type": "stream",
       "stream": "stdout",
       "text": [
        "\n",
        "25387008/26421880 [===========================>..] - ETA: 0s"
       ]
      },
      {
       "output_type": "stream",
       "stream": "stdout",
       "text": [
        "\n",
        "25755648/26421880 [============================>.] - ETA: 0s"
       ]
      },
      {
       "output_type": "stream",
       "stream": "stdout",
       "text": [
        "\n",
        "26107904/26421880 [============================>.] - ETA: 0s"
       ]
      },
      {
       "output_type": "stream",
       "stream": "stdout",
       "text": [
        "\n",
        "26427392/26421880 [==============================] - 3s 0us/step\n"
       ]
      },
      {
       "output_type": "stream",
       "stream": "stdout",
       "text": [
        "\n",
        "26435584/26421880 [==============================] - 3s 0us/step\n"
       ]
      },
      {
       "output_type": "stream",
       "stream": "stdout",
       "text": [
        "Downloading data from http://fashion-mnist.s3-website.eu-central-1.amazonaws.com/t10k-labels-idx1-ubyte.gz\n",
        "\n"
       ]
      },
      {
       "output_type": "stream",
       "stream": "stdout",
       "text": [
        "16384/5148 [===============================================================================================] - 0s 0us/step\n"
       ]
      },
      {
       "output_type": "stream",
       "stream": "stdout",
       "text": [
        "Downloading data from http://fashion-mnist.s3-website.eu-central-1.amazonaws.com/t10k-images-idx3-ubyte.gz\n",
        "\n"
       ]
      },
      {
       "output_type": "stream",
       "stream": "stdout",
       "text": [
        "  16384/4422102 [..............................] - ETA: 5s"
       ]
      },
      {
       "output_type": "stream",
       "stream": "stdout",
       "text": [
        "\n",
        " 131072/4422102 [..............................] - ETA: 2s"
       ]
      },
      {
       "output_type": "stream",
       "stream": "stdout",
       "text": [
        "\n",
        " 417792/4422102 [=>............................] - ETA: 1s"
       ]
      },
      {
       "output_type": "stream",
       "stream": "stdout",
       "text": [
        "\n",
        " 942080/4422102 [=====>........................] - ETA: 0s"
       ]
      },
      {
       "output_type": "stream",
       "stream": "stdout",
       "text": [
        "\n",
        "1163264/4422102 [======>.......................] - ETA: 0s"
       ]
      },
      {
       "output_type": "stream",
       "stream": "stdout",
       "text": [
        "\n",
        "1523712/4422102 [=========>....................] - ETA: 0s"
       ]
      },
      {
       "output_type": "stream",
       "stream": "stdout",
       "text": [
        "\n",
        "2383872/4422102 [===============>..............] - ETA: 0s"
       ]
      },
      {
       "output_type": "stream",
       "stream": "stdout",
       "text": [
        "\n",
        "2940928/4422102 [==================>...........] - ETA: 0s"
       ]
      },
      {
       "output_type": "stream",
       "stream": "stdout",
       "text": [
        "\n",
        "3702784/4422102 [========================>.....] - ETA: 0s"
       ]
      },
      {
       "output_type": "stream",
       "stream": "stdout",
       "text": [
        "\n",
        "3948544/4422102 [=========================>....] - ETA: 0s"
       ]
      },
      {
       "output_type": "stream",
       "stream": "stdout",
       "text": [
        "\n",
        "4423680/4422102 [==============================] - 1s 0us/step\n"
       ]
      },
      {
       "output_type": "stream",
       "stream": "stdout",
       "text": [
        "\n",
        "4431872/4422102 [==============================] - 1s 0us/step\n"
       ]
      }
     ],
     "prompt_number": 1
    },
    {
     "cell_type": "heading",
     "level": 3,
     "metadata": {},
     "source": [
      "Part 1 - Data management and visualization"
     ]
    },
    {
     "cell_type": "heading",
     "level": 4,
     "metadata": {},
     "source": [
      "1) Fashion-MNIST is a dataset consisting of a training set of A examples and a test set of B examples. Each example is a CxC grayscale image, associated with a label from D classes. What are the values for A, B, C and D?"
     ]
    },
    {
     "cell_type": "code",
     "collapsed": false,
     "input": [
      "# to do\n",
      "A=len(x_train)\n",
      "B=len(x_test)\n",
      "C=x_train.shape[1]\n",
      "D=len(set(y_train))"
     ],
     "language": "python",
     "metadata": {},
     "outputs": [],
     "prompt_number": 10
    },
    {
     "cell_type": "markdown",
     "metadata": {},
     "source": [
      "Each training/test sample is assigned to one of the following labels: \n",
      "0\tT-shirt\n",
      "1\tTrouser\n",
      "2\tPullover\n",
      "3\tDress\n",
      "4\tCoat\n",
      "5\tSandal\n",
      "6\tShirt\n",
      "7\tSneaker\n",
      "8\tBag\n",
      "9\tAnkle boot"
     ]
    },
    {
     "cell_type": "code",
     "collapsed": false,
     "input": [
      "num_classes = 10\n",
      "class_names = ['tshirt', 'trouser', 'pullover', 'dress', 'coat', 'sandal', 'shirt', 'sneaker', 'bag', 'boot']"
     ],
     "language": "python",
     "metadata": {},
     "outputs": [],
     "prompt_number": 11
    },
    {
     "cell_type": "heading",
     "level": 4,
     "metadata": {},
     "source": [
      "2) Visualize one example per class among the training dataset:"
     ]
    },
    {
     "cell_type": "code",
     "collapsed": false,
     "input": [
      "import matplotlib.pyplot as plt\n",
      "import numpy as np\n",
      "\n",
      "plt.figure()\n",
      "for i in range(num_classes):\n",
      "    plt.subplot(2, 5, i + 1)\n",
      "    plt.axis('off')\n",
      "    index = np.where(y_train == i)[0][0]\n",
      "    plt.imshow(x_train[index,:,:],cmap=plt.cm.gray_r)\n",
      "    plt.title('Training: %i' % y_train[index])\n",
      "plt.show()"
     ],
     "language": "python",
     "metadata": {},
     "outputs": [
      {
       "metadata": {},
       "output_type": "display_data",
       "png": "[encoded data removed]",
       "text": [
        "<matplotlib.figure.Figure at 0x7fa0b6ca24d0>"
       ]
      }
     ],
     "prompt_number": 12
    },
    {
     "cell_type": "heading",
     "level": 3,
     "metadata": {},
     "source": [
      "Part 2 - Multi-layer perceptrons"
     ]
    },
    {
     "cell_type": "heading",
     "level": 4,
     "metadata": {},
     "source": [
      "3) Define a simple Keras multi-layer perceptron (MLP) architecture using Sequential API and containing 3 dense layers: 2 dense layers with 512 units and ReLU activation followed by 1 dense layer for softmax regression. Use your model to get first classification results on Fashion MNIST."
     ]
    },
    {
     "cell_type": "code",
     "collapsed": true,
     "input": [
      "num_classes = 10\n",
      "z_train = keras.utils.to_categorical(y_train, num_classes)\n",
      "z_test = keras.utils.to_categorical(y_test, num_classes)\n",
      "x_train1=x_train.reshape(A,C*C)\n",
      "x_test1=x_test.reshape(B,C*C)"
     ],
     "language": "python",
     "metadata": {},
     "outputs": [],
     "prompt_number": 22
    },
    {
     "cell_type": "code",
     "collapsed": true,
     "input": [
      "from keras.models import Sequential\n",
      "from keras.layers import Dense, Dropout\n",
      "from keras.optimizers import RMSprop\n",
      "from keras.layers.core import Activation"
     ],
     "language": "python",
     "metadata": {},
     "outputs": [],
     "prompt_number": 18
    },
    {
     "cell_type": "code",
     "collapsed": false,
     "input": [
      "mlp_1 = Sequential()\n",
      "\n",
      "layers = [Dense(units=512, input_dim=C**2), Activation('relu'),\n",
      "          Dense(units=512, input_dim=512), Activation('relu'),\n",
      "          Dense(units=num_classes, input_dim=512), Activation('softmax')]\n",
      "\n",
      "epochs=10\n",
      "batch_size=500\n",
      "\n",
      "for layer in layers :\n",
      "    mlp_1.add(layer)\n",
      "    \n",
      "mlp_1.summary()\n",
      "\n",
      "rmsprop = keras.optimizers.RMSprop(lr=0.001)\n",
      "\n",
      "mlp_1.compile(loss='binary_crossentropy', optimizer=rmsprop,metrics=[\"accuracy\"])\n",
      "hist_mlp_1 = mlp_1.fit(x_train1, z_train, validation_split=0.2, epochs=epochs, verbose=1,batch_size=batch_size)"
     ],
     "language": "python",
     "metadata": {},
     "outputs": [
      {
       "output_type": "stream",
       "stream": "stdout",
       "text": [
        "_________________________________________________________________\n",
        "Layer (type)                 Output Shape              Param #   \n",
        "=================================================================\n",
        "dense_5 (Dense)              (None, 512)               401920    \n",
        "_________________________________________________________________\n",
        "activation_4 (Activation)    (None, 512)               0         \n",
        "_________________________________________________________________\n",
        "dense_6 (Dense)              (None, 512)               262656    \n",
        "_________________________________________________________________\n",
        "activation_5 (Activation)    (None, 512)               0         \n",
        "_________________________________________________________________\n",
        "dense_7 (Dense)              (None, 10)                5130      \n",
        "_________________________________________________________________\n",
        "activation_6 (Activation)    (None, 10)                0         \n",
        "=================================================================\n",
        "Total params: 669,706\n",
        "Trainable params: 669,706\n",
        "Non-trainable params: 0\n",
        "_________________________________________________________________\n",
        "Train on 48000 samples, validate on 12000 samples"
       ]
      },
      {
       "output_type": "stream",
       "stream": "stdout",
       "text": [
        "\n",
        "Epoch 1/10\n",
        "\n"
       ]
      },
      {
       "output_type": "stream",
       "stream": "stdout",
       "text": [
        "  500/48000 [..............................] - ETA: 1:08:08 - loss: 2.5752 - acc: 0.8178"
       ]
      },
      {
       "output_type": "stream",
       "stream": "stdout",
       "text": [
        "\n",
        " 4500/48000 [=>............................] - ETA: 6:56 - loss: 2.8328 - acc: 0.8204   "
       ]
      },
      {
       "output_type": "stream",
       "stream": "stdout",
       "text": [
        "\n",
        " 9500/48000 [====>.........................] - ETA: 2:54 - loss: 2.8524 - acc: 0.8207"
       ]
      },
      {
       "output_type": "stream",
       "stream": "stdout",
       "text": [
        "\n",
        "15000/48000 [========>.....................] - ETA: 1:35 - loss: 2.8594 - acc: 0.8208"
       ]
      },
      {
       "output_type": "stream",
       "stream": "stdout",
       "text": [
        "\n",
        "20500/48000 [===========>..................] - ETA: 58s - loss: 2.8681 - acc: 0.8205 "
       ]
      },
      {
       "output_type": "stream",
       "stream": "stdout",
       "text": [
        "\n",
        "26500/48000 [===============>..............] - ETA: 35s - loss: 2.8731 - acc: 0.8203"
       ]
      },
      {
       "output_type": "stream",
       "stream": "stdout",
       "text": [
        "\n",
        "32000/48000 [===================>..........] - ETA: 21s - loss: 2.8735 - acc: 0.8203"
       ]
      },
      {
       "output_type": "stream",
       "stream": "stdout",
       "text": [
        "\n",
        "37500/48000 [======================>.......] - ETA: 12s - loss: 2.8773 - acc: 0.8202"
       ]
      },
      {
       "output_type": "stream",
       "stream": "stdout",
       "text": [
        "\n",
        "43000/48000 [=========================>....] - ETA: 5s - loss: 2.8786 - acc: 0.8201 "
       ]
      },
      {
       "output_type": "stream",
       "stream": "stdout",
       "text": [
        "\n",
        "48000/48000 [==============================] - 44s 908us/step - loss: 2.8808 - acc: 0.8200 - val_loss: 2.8870 - val_acc: 0.8199\n"
       ]
      },
      {
       "output_type": "stream",
       "stream": "stdout",
       "text": [
        "Epoch 2/10\n",
        "\n",
        "  500/48000 [..............................] - ETA: 0s - loss: 2.8470 - acc: 0.8224"
       ]
      },
      {
       "output_type": "stream",
       "stream": "stdout",
       "text": [
        "\n",
        " 5500/48000 [==>...........................] - ETA: 0s - loss: 2.8837 - acc: 0.8201"
       ]
      },
      {
       "output_type": "stream",
       "stream": "stdout",
       "text": [
        "\n",
        "10500/48000 [=====>........................] - ETA: 0s - loss: 2.8842 - acc: 0.8201"
       ]
      },
      {
       "output_type": "stream",
       "stream": "stdout",
       "text": [
        "\n",
        "16000/48000 [=========>....................] - ETA: 0s - loss: 2.8901 - acc: 0.8197"
       ]
      },
      {
       "output_type": "stream",
       "stream": "stdout",
       "text": [
        "\n",
        "21500/48000 [============>.................] - ETA: 0s - loss: 2.8901 - acc: 0.8197"
       ]
      },
      {
       "output_type": "stream",
       "stream": "stdout",
       "text": [
        "\n",
        "27000/48000 [===============>..............] - ETA: 0s - loss: 2.8865 - acc: 0.8199"
       ]
      },
      {
       "output_type": "stream",
       "stream": "stdout",
       "text": [
        "\n",
        "33000/48000 [===================>..........] - ETA: 0s - loss: 2.8847 - acc: 0.8200"
       ]
      },
      {
       "output_type": "stream",
       "stream": "stdout",
       "text": [
        "\n",
        "39000/48000 [=======================>......] - ETA: 0s - loss: 2.8875 - acc: 0.8199"
       ]
      },
      {
       "output_type": "stream",
       "stream": "stdout",
       "text": [
        "\n",
        "45000/48000 [===========================>..] - ETA: 0s - loss: 2.8867 - acc: 0.8199"
       ]
      },
      {
       "output_type": "stream",
       "stream": "stdout",
       "text": [
        "\n",
        "48000/48000 [==============================] - 1s 10us/step - loss: 2.8850 - acc: 0.8200 - val_loss: 2.8870 - val_acc: 0.8199\n"
       ]
      },
      {
       "output_type": "stream",
       "stream": "stdout",
       "text": [
        "Epoch 3/10\n",
        "\n",
        "  500/48000 [..............................] - ETA: 0s - loss: 2.8854 - acc: 0.8200"
       ]
      },
      {
       "output_type": "stream",
       "stream": "stdout",
       "text": [
        "\n",
        " 5500/48000 [==>...........................] - ETA: 0s - loss: 2.8784 - acc: 0.8204"
       ]
      },
      {
       "output_type": "stream",
       "stream": "stdout",
       "text": [
        "\n",
        "11000/48000 [=====>........................] - ETA: 0s - loss: 2.8723 - acc: 0.8208"
       ]
      },
      {
       "output_type": "stream",
       "stream": "stdout",
       "text": [
        "\n",
        "17000/48000 [=========>....................] - ETA: 0s - loss: 2.8811 - acc: 0.8203"
       ]
      },
      {
       "output_type": "stream",
       "stream": "stdout",
       "text": [
        "\n",
        "22500/48000 [=============>................] - ETA: 0s - loss: 2.8807 - acc: 0.8203"
       ]
      },
      {
       "output_type": "stream",
       "stream": "stdout",
       "text": [
        "\n",
        "28000/48000 [================>.............] - ETA: 0s - loss: 2.8822 - acc: 0.8202"
       ]
      },
      {
       "output_type": "stream",
       "stream": "stdout",
       "text": [
        "\n",
        "33500/48000 [===================>..........] - ETA: 0s - loss: 2.8819 - acc: 0.8202"
       ]
      },
      {
       "output_type": "stream",
       "stream": "stdout",
       "text": [
        "\n",
        "39000/48000 [=======================>......] - ETA: 0s - loss: 2.8810 - acc: 0.8203"
       ]
      },
      {
       "output_type": "stream",
       "stream": "stdout",
       "text": [
        "\n",
        "44500/48000 [==========================>...] - ETA: 0s - loss: 2.8846 - acc: 0.8201"
       ]
      },
      {
       "output_type": "stream",
       "stream": "stdout",
       "text": [
        "\n",
        "48000/48000 [==============================] - 1s 11us/step - loss: 2.8850 - acc: 0.8200 - val_loss: 2.8870 - val_acc: 0.8199\n"
       ]
      },
      {
       "output_type": "stream",
       "stream": "stdout",
       "text": [
        "Epoch 4/10\n",
        "\n",
        "  500/48000 [..............................] - ETA: 0s - loss: 2.8726 - acc: 0.8208"
       ]
      },
      {
       "output_type": "stream",
       "stream": "stdout",
       "text": [
        "\n",
        " 6000/48000 [==>...........................] - ETA: 0s - loss: 2.8673 - acc: 0.8211"
       ]
      },
      {
       "output_type": "stream",
       "stream": "stdout",
       "text": [
        "\n",
        "12000/48000 [======>.......................] - ETA: 0s - loss: 2.8814 - acc: 0.8203"
       ]
      },
      {
       "output_type": "stream",
       "stream": "stdout",
       "text": [
        "\n",
        "17500/48000 [=========>....................] - ETA: 0s - loss: 2.8845 - acc: 0.8201"
       ]
      },
      {
       "output_type": "stream",
       "stream": "stdout",
       "text": [
        "\n",
        "22500/48000 [=============>................] - ETA: 0s - loss: 2.8846 - acc: 0.8201"
       ]
      },
      {
       "output_type": "stream",
       "stream": "stdout",
       "text": [
        "\n",
        "28000/48000 [================>.............] - ETA: 0s - loss: 2.8885 - acc: 0.8198"
       ]
      },
      {
       "output_type": "stream",
       "stream": "stdout",
       "text": [
        "\n",
        "33000/48000 [===================>..........] - ETA: 0s - loss: 2.8873 - acc: 0.8199"
       ]
      },
      {
       "output_type": "stream",
       "stream": "stdout",
       "text": [
        "\n",
        "38000/48000 [======================>.......] - ETA: 0s - loss: 2.8822 - acc: 0.8202"
       ]
      },
      {
       "output_type": "stream",
       "stream": "stdout",
       "text": [
        "\n",
        "43500/48000 [==========================>...] - ETA: 0s - loss: 2.8851 - acc: 0.8200"
       ]
      },
      {
       "output_type": "stream",
       "stream": "stdout",
       "text": [
        "\n",
        "48000/48000 [==============================] - 1s 11us/step - loss: 2.8850 - acc: 0.8200 - val_loss: 2.8870 - val_acc: 0.8199\n"
       ]
      },
      {
       "output_type": "stream",
       "stream": "stdout",
       "text": [
        "Epoch 5/10\n",
        "\n",
        "  500/48000 [..............................] - ETA: 0s - loss: 2.8919 - acc: 0.8196"
       ]
      },
      {
       "output_type": "stream",
       "stream": "stdout",
       "text": [
        "\n",
        " 7000/48000 [===>..........................] - ETA: 0s - loss: 2.8813 - acc: 0.8203"
       ]
      },
      {
       "output_type": "stream",
       "stream": "stdout",
       "text": [
        "\n",
        "14000/48000 [=======>......................] - ETA: 0s - loss: 2.8884 - acc: 0.8198"
       ]
      },
      {
       "output_type": "stream",
       "stream": "stdout",
       "text": [
        "\n",
        "21000/48000 [============>.................] - ETA: 0s - loss: 2.8853 - acc: 0.8200"
       ]
      },
      {
       "output_type": "stream",
       "stream": "stdout",
       "text": [
        "\n",
        "27500/48000 [================>.............] - ETA: 0s - loss: 2.8858 - acc: 0.8200"
       ]
      },
      {
       "output_type": "stream",
       "stream": "stdout",
       "text": [
        "\n",
        "33500/48000 [===================>..........] - ETA: 0s - loss: 2.8858 - acc: 0.8200"
       ]
      },
      {
       "output_type": "stream",
       "stream": "stdout",
       "text": [
        "\n",
        "40000/48000 [========================>.....] - ETA: 0s - loss: 2.8866 - acc: 0.8199"
       ]
      },
      {
       "output_type": "stream",
       "stream": "stdout",
       "text": [
        "\n",
        "46500/48000 [============================>.] - ETA: 0s - loss: 2.8856 - acc: 0.8200"
       ]
      },
      {
       "output_type": "stream",
       "stream": "stdout",
       "text": [
        "\n",
        "48000/48000 [==============================] - 0s 9us/step - loss: 2.8850 - acc: 0.8200 - val_loss: 2.8870 - val_acc: 0.8199\n"
       ]
      },
      {
       "output_type": "stream",
       "stream": "stdout",
       "text": [
        "Epoch 6/10\n",
        "\n",
        "  500/48000 [..............................] - ETA: 0s - loss: 2.8919 - acc: 0.8196"
       ]
      },
      {
       "output_type": "stream",
       "stream": "stdout",
       "text": [
        "\n",
        " 7500/48000 [===>..........................] - ETA: 0s - loss: 2.9115 - acc: 0.8184"
       ]
      },
      {
       "output_type": "stream",
       "stream": "stdout",
       "text": [
        "\n",
        "15000/48000 [========>.....................] - ETA: 0s - loss: 2.8936 - acc: 0.8195"
       ]
      },
      {
       "output_type": "stream",
       "stream": "stdout",
       "text": [
        "\n",
        "22000/48000 [============>.................] - ETA: 0s - loss: 2.8876 - acc: 0.8199"
       ]
      },
      {
       "output_type": "stream",
       "stream": "stdout",
       "text": [
        "\n",
        "28000/48000 [================>.............] - ETA: 0s - loss: 2.8817 - acc: 0.8202"
       ]
      },
      {
       "output_type": "stream",
       "stream": "stdout",
       "text": [
        "\n",
        "34000/48000 [====================>.........] - ETA: 0s - loss: 2.8819 - acc: 0.8202"
       ]
      },
      {
       "output_type": "stream",
       "stream": "stdout",
       "text": [
        "\n",
        "39500/48000 [=======================>......] - ETA: 0s - loss: 2.8827 - acc: 0.8202"
       ]
      },
      {
       "output_type": "stream",
       "stream": "stdout",
       "text": [
        "\n",
        "45500/48000 [===========================>..] - ETA: 0s - loss: 2.8838 - acc: 0.8201"
       ]
      },
      {
       "output_type": "stream",
       "stream": "stdout",
       "text": [
        "\n",
        "48000/48000 [==============================] - 0s 9us/step - loss: 2.8850 - acc: 0.8200 - val_loss: 2.8870 - val_acc: 0.8199\n"
       ]
      },
      {
       "output_type": "stream",
       "stream": "stdout",
       "text": [
        "Epoch 7/10\n",
        "\n",
        "  500/48000 [..............................] - ETA: 0s - loss: 2.8598 - acc: 0.8216"
       ]
      },
      {
       "output_type": "stream",
       "stream": "stdout",
       "text": [
        "\n",
        " 7500/48000 [===>..........................] - ETA: 0s - loss: 2.8795 - acc: 0.8204"
       ]
      },
      {
       "output_type": "stream",
       "stream": "stdout",
       "text": [
        "\n",
        "15000/48000 [========>.....................] - ETA: 0s - loss: 2.8752 - acc: 0.8206"
       ]
      },
      {
       "output_type": "stream",
       "stream": "stdout",
       "text": [
        "\n",
        "22500/48000 [=============>................] - ETA: 0s - loss: 2.8759 - acc: 0.8206"
       ]
      },
      {
       "output_type": "stream",
       "stream": "stdout",
       "text": [
        "\n",
        "29000/48000 [=================>............] - ETA: 0s - loss: 2.8776 - acc: 0.8205"
       ]
      },
      {
       "output_type": "stream",
       "stream": "stdout",
       "text": [
        "\n",
        "36000/48000 [=====================>........] - ETA: 0s - loss: 2.8819 - acc: 0.8202"
       ]
      },
      {
       "output_type": "stream",
       "stream": "stdout",
       "text": [
        "\n",
        "42500/48000 [=========================>....] - ETA: 0s - loss: 2.8843 - acc: 0.8201"
       ]
      },
      {
       "output_type": "stream",
       "stream": "stdout",
       "text": [
        "\n",
        "48000/48000 [==============================] - 0s 9us/step - loss: 2.8850 - acc: 0.8200 - val_loss: 2.8870 - val_acc: 0.8199\n"
       ]
      },
      {
       "output_type": "stream",
       "stream": "stdout",
       "text": [
        "Epoch 8/10\n",
        "\n",
        "  500/48000 [..............................] - ETA: 0s - loss: 2.8662 - acc: 0.8212"
       ]
      },
      {
       "output_type": "stream",
       "stream": "stdout",
       "text": [
        "\n",
        " 6500/48000 [===>..........................] - ETA: 0s - loss: 2.8978 - acc: 0.8192"
       ]
      },
      {
       "output_type": "stream",
       "stream": "stdout",
       "text": [
        "\n",
        "13000/48000 [=======>......................] - ETA: 0s - loss: 2.8877 - acc: 0.8199"
       ]
      },
      {
       "output_type": "stream",
       "stream": "stdout",
       "text": [
        "\n",
        "18500/48000 [==========>...................] - ETA: 0s - loss: 2.8858 - acc: 0.8200"
       ]
      },
      {
       "output_type": "stream",
       "stream": "stdout",
       "text": [
        "\n",
        "23500/48000 [=============>................] - ETA: 0s - loss: 2.8882 - acc: 0.8198"
       ]
      },
      {
       "output_type": "stream",
       "stream": "stdout",
       "text": [
        "\n",
        "29000/48000 [=================>............] - ETA: 0s - loss: 2.8910 - acc: 0.8197"
       ]
      },
      {
       "output_type": "stream",
       "stream": "stdout",
       "text": [
        "\n",
        "34500/48000 [====================>.........] - ETA: 0s - loss: 2.8878 - acc: 0.8199"
       ]
      },
      {
       "output_type": "stream",
       "stream": "stdout",
       "text": [
        "\n",
        "40500/48000 [========================>.....] - ETA: 0s - loss: 2.8864 - acc: 0.8199"
       ]
      },
      {
       "output_type": "stream",
       "stream": "stdout",
       "text": [
        "\n",
        "46500/48000 [============================>.] - ETA: 0s - loss: 2.8856 - acc: 0.8200"
       ]
      },
      {
       "output_type": "stream",
       "stream": "stdout",
       "text": [
        "\n",
        "48000/48000 [==============================] - 1s 10us/step - loss: 2.8850 - acc: 0.8200 - val_loss: 2.8870 - val_acc: 0.8199\n"
       ]
      },
      {
       "output_type": "stream",
       "stream": "stdout",
       "text": [
        "Epoch 9/10\n",
        "\n",
        "  500/48000 [..............................] - ETA: 0s - loss: 2.9239 - acc: 0.8176"
       ]
      },
      {
       "output_type": "stream",
       "stream": "stdout",
       "text": [
        "\n",
        " 6500/48000 [===>..........................] - ETA: 0s - loss: 2.8746 - acc: 0.8207"
       ]
      },
      {
       "output_type": "stream",
       "stream": "stdout",
       "text": [
        "\n",
        "13000/48000 [=======>......................] - ETA: 0s - loss: 2.8790 - acc: 0.8204"
       ]
      },
      {
       "output_type": "stream",
       "stream": "stdout",
       "text": [
        "\n",
        "19500/48000 [===========>..................] - ETA: 0s - loss: 2.8749 - acc: 0.8207"
       ]
      },
      {
       "output_type": "stream",
       "stream": "stdout",
       "text": [
        "\n",
        "26000/48000 [===============>..............] - ETA: 0s - loss: 2.8787 - acc: 0.8204"
       ]
      },
      {
       "output_type": "stream",
       "stream": "stdout",
       "text": [
        "\n",
        "33000/48000 [===================>..........] - ETA: 0s - loss: 2.8813 - acc: 0.8203"
       ]
      },
      {
       "output_type": "stream",
       "stream": "stdout",
       "text": [
        "\n",
        "40000/48000 [========================>.....] - ETA: 0s - loss: 2.8844 - acc: 0.8201"
       ]
      },
      {
       "output_type": "stream",
       "stream": "stdout",
       "text": [
        "\n",
        "47000/48000 [============================>.] - ETA: 0s - loss: 2.8844 - acc: 0.8201"
       ]
      },
      {
       "output_type": "stream",
       "stream": "stdout",
       "text": [
        "\n",
        "48000/48000 [==============================] - 0s 9us/step - loss: 2.8850 - acc: 0.8200 - val_loss: 2.8870 - val_acc: 0.8199\n"
       ]
      },
      {
       "output_type": "stream",
       "stream": "stdout",
       "text": [
        "Epoch 10/10\n",
        "\n",
        "  500/48000 [..............................] - ETA: 0s - loss: 2.8726 - acc: 0.8208"
       ]
      },
      {
       "output_type": "stream",
       "stream": "stdout",
       "text": [
        "\n",
        " 7000/48000 [===>..........................] - ETA: 0s - loss: 2.8859 - acc: 0.8200"
       ]
      },
      {
       "output_type": "stream",
       "stream": "stdout",
       "text": [
        "\n",
        "13500/48000 [=======>......................] - ETA: 0s - loss: 2.8835 - acc: 0.8201"
       ]
      },
      {
       "output_type": "stream",
       "stream": "stdout",
       "text": [
        "\n",
        "19500/48000 [===========>..................] - ETA: 0s - loss: 2.8800 - acc: 0.8203"
       ]
      },
      {
       "output_type": "stream",
       "stream": "stdout",
       "text": [
        "\n",
        "26000/48000 [===============>..............] - ETA: 0s - loss: 2.8815 - acc: 0.8202"
       ]
      },
      {
       "output_type": "stream",
       "stream": "stdout",
       "text": [
        "\n",
        "32500/48000 [===================>..........] - ETA: 0s - loss: 2.8853 - acc: 0.8200"
       ]
      },
      {
       "output_type": "stream",
       "stream": "stdout",
       "text": [
        "\n",
        "38000/48000 [======================>.......] - ETA: 0s - loss: 2.8859 - acc: 0.8200"
       ]
      },
      {
       "output_type": "stream",
       "stream": "stdout",
       "text": [
        "\n",
        "44500/48000 [==========================>...] - ETA: 0s - loss: 2.8857 - acc: 0.8200"
       ]
      },
      {
       "output_type": "stream",
       "stream": "stdout",
       "text": [
        "\n",
        "48000/48000 [==============================] - 0s 9us/step - loss: 2.8850 - acc: 0.8200 - val_loss: 2.8870 - val_acc: 0.8199\n"
       ]
      }
     ],
     "prompt_number": 23
    },
    {
     "cell_type": "code",
     "collapsed": false,
     "input": [
      "hist2=mlp_1.evaluate(x=x_test1,y=z_test)"
     ],
     "language": "python",
     "metadata": {},
     "outputs": [
      {
       "output_type": "stream",
       "stream": "stdout",
       "text": [
        "\n",
        "   32/10000 [..............................] - ETA: 0s"
       ]
      },
      {
       "output_type": "stream",
       "stream": "stdout",
       "text": [
        "\n",
        "  864/10000 [=>............................] - ETA: 0s"
       ]
      },
      {
       "output_type": "stream",
       "stream": "stdout",
       "text": [
        "\n",
        " 1888/10000 [====>.........................] - ETA: 0s"
       ]
      },
      {
       "output_type": "stream",
       "stream": "stdout",
       "text": [
        "\n",
        " 2976/10000 [=======>......................] - ETA: 0s"
       ]
      },
      {
       "output_type": "stream",
       "stream": "stdout",
       "text": [
        "\n",
        " 4128/10000 [===========>..................] - ETA: 0s"
       ]
      },
      {
       "output_type": "stream",
       "stream": "stdout",
       "text": [
        "\n",
        " 5280/10000 [==============>...............] - ETA: 0s"
       ]
      },
      {
       "output_type": "stream",
       "stream": "stdout",
       "text": [
        "\n",
        " 6432/10000 [==================>...........] - ETA: 0s"
       ]
      },
      {
       "output_type": "stream",
       "stream": "stdout",
       "text": [
        "\n",
        " 7616/10000 [=====================>........] - ETA: 0s"
       ]
      },
      {
       "output_type": "stream",
       "stream": "stdout",
       "text": [
        "\n",
        " 8960/10000 [=========================>....] - ETA: 0s"
       ]
      },
      {
       "output_type": "stream",
       "stream": "stdout",
       "text": [
        "\n",
        "10000/10000 [==============================] - 0s 44us/step\n"
       ]
      }
     ],
     "prompt_number": 25
    },
    {
     "cell_type": "markdown",
     "metadata": {},
     "source": [
      "#### 4) Define a generic function evaluate_model() able to:\n",
      "- plot the evolution of accuracy for both training and testing data with respect to the epochs\n",
      "- compute final test loss and accuracy. \n",
      "\n",
      "Use this function to assess the performance of the previously defined model."
     ]
    },
    {
     "cell_type": "code",
     "collapsed": true,
     "input": [
      "def evaluate_model(model,hist,x,z,epochs):\n",
      "    plt.subplot(2, 1, 1)\n",
      "    plt.plot(hist.history['acc'])\n",
      "    plt.axis([0, epochs, 0,1 ])\n",
      "    plt.title('acc')\n",
      "    plt.subplot(2, 1, 2)\n",
      "    plt.plot(hist.history['val_acc'])\n",
      "    plt.axis([0, epochs, 0,1 ])\n",
      "    plt.title('val_acc')\n",
      "    print(\"final loss & accuracy = \",model.evaluate(x,z,verbose=0))"
     ],
     "language": "python",
     "metadata": {},
     "outputs": [],
     "prompt_number": 65
    },
    {
     "cell_type": "code",
     "collapsed": false,
     "input": [
      "evaluate_model(mlp_1,hist_mlp_1,x_test1,z_test,epochs)\n",
      "print(hist_mlp_1.history['val_acc'])"
     ],
     "language": "python",
     "metadata": {},
     "outputs": [
      {
       "output_type": "stream",
       "stream": "stdout",
       "text": [
        "('final loss & accuracy = ', [2.8854428802490233, 0.8200000144004822])\n",
        "[0.81990001847346627, 0.81990001847346627, 0.81990001847346627, 0.81990001847346627, 0.81990001847346627, 0.81990001847346627, 0.81990001847346627, 0.81990001847346627, 0.81990001847346627, 0.81990001847346627]\n"
       ]
      },
      {
       "metadata": {},
       "output_type": "display_data",
       "png": "[encoded data removed]",
       "text": [
        "<matplotlib.figure.Figure at 0x7fa0b6bc0990>"
       ]
      }
     ],
     "prompt_number": 68
    },
    {
     "cell_type": "raw",
     "metadata": {},
     "source": [
      "Comments: #todo"
     ]
    },
    {
     "cell_type": "markdown",
     "metadata": {},
     "source": [
      "#### 5) Define a deeper multi-layer perceptron (MLP) architecture to outperform the previously obtained classification results. \n",
      "Use evaluate_model() to provide the evaluation and comment the performance."
     ]
    },
    {
     "cell_type": "code",
     "collapsed": false,
     "input": [
      "mlp_2 = Sequential()\n",
      "\n",
      "#layers2 = [Dense(units=512, input_dim=C**2), Activation('relu'),\n",
      "#          Dense(units=num_classes, input_dim=512), Activation('softmax')]\n",
      "\n",
      "layers2 = [Dense(units=32, input_dim=C**2), Activation('relu'),\n",
      "        \n",
      "          Dense(units=num_classes, input_dim=32), Activation('softmax')]\n",
      "\n",
      "epochs2=10\n",
      "batch_size2=500\n",
      "\n",
      "for layer in layers2 :\n",
      "    mlp_2.add(layer)\n",
      "    \n",
      "mlp_2.summary()\n",
      "\n",
      "rmsprop = keras.optimizers.RMSprop(lr=0.0003)\n",
      "\n",
      "mlp_2.compile(loss='binary_crossentropy', optimizer=rmsprop,metrics=[\"accuracy\"])\n",
      "hist_mlp_2 = mlp_2.fit(x_train1, z_train, validation_split=0.2, epochs=epochs2, verbose=1,batch_size=batch_size2)"
     ],
     "language": "python",
     "metadata": {},
     "outputs": [
      {
       "output_type": "stream",
       "stream": "stdout",
       "text": [
        "_________________________________________________________________\n",
        "Layer (type)                 Output Shape              Param #   \n",
        "=================================================================\n",
        "dense_55 (Dense)             (None, 32)                25120     \n",
        "_________________________________________________________________\n",
        "activation_54 (Activation)   (None, 32)                0         \n",
        "_________________________________________________________________\n",
        "dense_56 (Dense)             (None, 10)                330       \n",
        "_________________________________________________________________\n",
        "activation_55 (Activation)   (None, 10)                0         \n",
        "=================================================================\n",
        "Total params: 25,450\n",
        "Trainable params: 25,450\n",
        "Non-trainable params: 0\n",
        "_________________________________________________________________\n",
        "Train on 48000 samples, validate on 12000 samples"
       ]
      },
      {
       "output_type": "stream",
       "stream": "stdout",
       "text": [
        "\n",
        "Epoch 1/10\n",
        "\n"
       ]
      },
      {
       "output_type": "stream",
       "stream": "stdout",
       "text": [
        "  500/48000 [..............................] - ETA: 46s - loss: 2.7366 - acc: 0.8186"
       ]
      },
      {
       "output_type": "stream",
       "stream": "stdout",
       "text": [
        "\n",
        " 6500/48000 [===>..........................] - ETA: 3s - loss: 2.6300 - acc: 0.8279 "
       ]
      },
      {
       "output_type": "stream",
       "stream": "stdout",
       "text": [
        "\n",
        "13500/48000 [=======>......................] - ETA: 1s - loss: 2.5029 - acc: 0.8334"
       ]
      },
      {
       "output_type": "stream",
       "stream": "stdout",
       "text": [
        "\n",
        "19500/48000 [===========>..................] - ETA: 0s - loss: 2.3711 - acc: 0.8393"
       ]
      },
      {
       "output_type": "stream",
       "stream": "stdout",
       "text": [
        "\n",
        "25500/48000 [==============>...............] - ETA: 0s - loss: 2.2702 - acc: 0.8438"
       ]
      },
      {
       "output_type": "stream",
       "stream": "stdout",
       "text": [
        "\n",
        "31500/48000 [==================>...........] - ETA: 0s - loss: 2.1849 - acc: 0.8472"
       ]
      },
      {
       "output_type": "stream",
       "stream": "stdout",
       "text": [
        "\n",
        "38500/48000 [=======================>......] - ETA: 0s - loss: 2.0928 - acc: 0.8493"
       ]
      },
      {
       "output_type": "stream",
       "stream": "stdout",
       "text": [
        "\n",
        "45500/48000 [===========================>..] - ETA: 0s - loss: 1.9446 - acc: 0.8531"
       ]
      },
      {
       "output_type": "stream",
       "stream": "stdout",
       "text": [
        "\n",
        "48000/48000 [==============================] - 1s 20us/step - loss: 1.8703 - acc: 0.8554 - val_loss: 0.4477 - val_acc: 0.9008\n"
       ]
      },
      {
       "output_type": "stream",
       "stream": "stdout",
       "text": [
        "Epoch 2/10\n",
        "\n",
        "  500/48000 [..............................] - ETA: 0s - loss: 0.4573 - acc: 0.8994"
       ]
      },
      {
       "output_type": "stream",
       "stream": "stdout",
       "text": [
        "\n",
        " 6000/48000 [==>...........................] - ETA: 0s - loss: 0.4119 - acc: 0.9037"
       ]
      },
      {
       "output_type": "stream",
       "stream": "stdout",
       "text": [
        "\n",
        "12500/48000 [======>.......................] - ETA: 0s - loss: 0.3803 - acc: 0.9057"
       ]
      },
      {
       "output_type": "stream",
       "stream": "stdout",
       "text": [
        "\n",
        "19500/48000 [===========>..................] - ETA: 0s - loss: 0.3591 - acc: 0.9071"
       ]
      },
      {
       "output_type": "stream",
       "stream": "stdout",
       "text": [
        "\n",
        "26500/48000 [===============>..............] - ETA: 0s - loss: 0.3452 - acc: 0.9083"
       ]
      },
      {
       "output_type": "stream",
       "stream": "stdout",
       "text": [
        "\n",
        "33000/48000 [===================>..........] - ETA: 0s - loss: 0.3356 - acc: 0.9095"
       ]
      },
      {
       "output_type": "stream",
       "stream": "stdout",
       "text": [
        "\n",
        "39500/48000 [=======================>......] - ETA: 0s - loss: 0.3278 - acc: 0.9103"
       ]
      },
      {
       "output_type": "stream",
       "stream": "stdout",
       "text": [
        "\n",
        "46000/48000 [===========================>..] - ETA: 0s - loss: 0.3210 - acc: 0.9112"
       ]
      },
      {
       "output_type": "stream",
       "stream": "stdout",
       "text": [
        "\n",
        "48000/48000 [==============================] - 0s 9us/step - loss: 0.3191 - acc: 0.9114 - val_loss: 0.2801 - val_acc: 0.9161\n"
       ]
      },
      {
       "output_type": "stream",
       "stream": "stdout",
       "text": [
        "Epoch 3/10\n",
        "\n",
        "  500/48000 [..............................] - ETA: 0s - loss: 0.2792 - acc: 0.9172"
       ]
      },
      {
       "output_type": "stream",
       "stream": "stdout",
       "text": [
        "\n",
        " 6000/48000 [==>...........................] - ETA: 0s - loss: 0.2722 - acc: 0.9176"
       ]
      },
      {
       "output_type": "stream",
       "stream": "stdout",
       "text": [
        "\n",
        "12000/48000 [======>.......................] - ETA: 0s - loss: 0.2719 - acc: 0.9174"
       ]
      },
      {
       "output_type": "stream",
       "stream": "stdout",
       "text": [
        "\n",
        "19000/48000 [==========>...................] - ETA: 0s - loss: 0.2726 - acc: 0.9173"
       ]
      },
      {
       "output_type": "stream",
       "stream": "stdout",
       "text": [
        "\n",
        "26500/48000 [===============>..............] - ETA: 0s - loss: 0.2697 - acc: 0.9179"
       ]
      },
      {
       "output_type": "stream",
       "stream": "stdout",
       "text": [
        "\n",
        "34000/48000 [====================>.........] - ETA: 0s - loss: 0.2683 - acc: 0.9183"
       ]
      },
      {
       "output_type": "stream",
       "stream": "stdout",
       "text": [
        "\n",
        "41000/48000 [========================>.....] - ETA: 0s - loss: 0.2665 - acc: 0.9185"
       ]
      },
      {
       "output_type": "stream",
       "stream": "stdout",
       "text": [
        "\n",
        "48000/48000 [==============================] - 0s 8us/step - loss: 0.2649 - acc: 0.9186 - val_loss: 0.2587 - val_acc: 0.9179\n"
       ]
      },
      {
       "output_type": "stream",
       "stream": "stdout",
       "text": [
        "Epoch 4/10\n",
        "\n",
        "  500/48000 [..............................] - ETA: 0s - loss: 0.2514 - acc: 0.9174"
       ]
      },
      {
       "output_type": "stream",
       "stream": "stdout",
       "text": [
        "\n",
        " 8500/48000 [====>.........................] - ETA: 0s - loss: 0.2533 - acc: 0.9197"
       ]
      },
      {
       "output_type": "stream",
       "stream": "stdout",
       "text": [
        "\n",
        "16000/48000 [=========>....................] - ETA: 0s - loss: 0.2501 - acc: 0.9203"
       ]
      },
      {
       "output_type": "stream",
       "stream": "stdout",
       "text": [
        "\n",
        "24000/48000 [==============>...............] - ETA: 0s - loss: 0.2494 - acc: 0.9205"
       ]
      },
      {
       "output_type": "stream",
       "stream": "stdout",
       "text": [
        "\n",
        "32500/48000 [===================>..........] - ETA: 0s - loss: 0.2476 - acc: 0.9206"
       ]
      },
      {
       "output_type": "stream",
       "stream": "stdout",
       "text": [
        "\n",
        "41500/48000 [========================>.....] - ETA: 0s - loss: 0.2452 - acc: 0.9207"
       ]
      },
      {
       "output_type": "stream",
       "stream": "stdout",
       "text": [
        "\n",
        "48000/48000 [==============================] - 0s 7us/step - loss: 0.2439 - acc: 0.9203 - val_loss: 0.2336 - val_acc: 0.9231\n"
       ]
      },
      {
       "output_type": "stream",
       "stream": "stdout",
       "text": [
        "Epoch 5/10\n",
        "\n",
        "  500/48000 [..............................] - ETA: 0s - loss: 0.2360 - acc: 0.9228"
       ]
      },
      {
       "output_type": "stream",
       "stream": "stdout",
       "text": [
        "\n",
        " 9000/48000 [====>.........................] - ETA: 0s - loss: 0.2262 - acc: 0.9271"
       ]
      },
      {
       "output_type": "stream",
       "stream": "stdout",
       "text": [
        "\n",
        "17000/48000 [=========>....................] - ETA: 0s - loss: 0.2253 - acc: 0.9276"
       ]
      },
      {
       "output_type": "stream",
       "stream": "stdout",
       "text": [
        "\n",
        "24500/48000 [==============>...............] - ETA: 0s - loss: 0.2244 - acc: 0.9277"
       ]
      },
      {
       "output_type": "stream",
       "stream": "stdout",
       "text": [
        "\n",
        "32500/48000 [===================>..........] - ETA: 0s - loss: 0.2225 - acc: 0.9277"
       ]
      },
      {
       "output_type": "stream",
       "stream": "stdout",
       "text": [
        "\n",
        "41000/48000 [========================>.....] - ETA: 0s - loss: 0.2215 - acc: 0.9280"
       ]
      },
      {
       "output_type": "stream",
       "stream": "stdout",
       "text": [
        "\n",
        "48000/48000 [==============================] - 0s 7us/step - loss: 0.2211 - acc: 0.9280 - val_loss: 0.2143 - val_acc: 0.9292\n"
       ]
      },
      {
       "output_type": "stream",
       "stream": "stdout",
       "text": [
        "Epoch 6/10\n",
        "\n",
        "  500/48000 [..............................] - ETA: 0s - loss: 0.2105 - acc: 0.9308"
       ]
      },
      {
       "output_type": "stream",
       "stream": "stdout",
       "text": [
        "\n",
        " 9500/48000 [====>.........................] - ETA: 0s - loss: 0.2095 - acc: 0.9313"
       ]
      },
      {
       "output_type": "stream",
       "stream": "stdout",
       "text": [
        "\n",
        "18500/48000 [==========>...................] - ETA: 0s - loss: 0.2087 - acc: 0.9317"
       ]
      },
      {
       "output_type": "stream",
       "stream": "stdout",
       "text": [
        "\n",
        "27500/48000 [================>.............] - ETA: 0s - loss: 0.2069 - acc: 0.9318"
       ]
      },
      {
       "output_type": "stream",
       "stream": "stdout",
       "text": [
        "\n",
        "37000/48000 [======================>.......] - ETA: 0s - loss: 0.2062 - acc: 0.9319"
       ]
      },
      {
       "output_type": "stream",
       "stream": "stdout",
       "text": [
        "\n",
        "46500/48000 [============================>.] - ETA: 0s - loss: 0.2059 - acc: 0.9321"
       ]
      },
      {
       "output_type": "stream",
       "stream": "stdout",
       "text": [
        "\n",
        "48000/48000 [==============================] - 0s 6us/step - loss: 0.2061 - acc: 0.9321 - val_loss: 0.2028 - val_acc: 0.9318\n"
       ]
      },
      {
       "output_type": "stream",
       "stream": "stdout",
       "text": [
        "Epoch 7/10\n",
        "\n",
        "  500/48000 [..............................] - ETA: 0s - loss: 0.1996 - acc: 0.9310"
       ]
      },
      {
       "output_type": "stream",
       "stream": "stdout",
       "text": [
        "\n",
        " 9500/48000 [====>.........................] - ETA: 0s - loss: 0.2032 - acc: 0.9329"
       ]
      },
      {
       "output_type": "stream",
       "stream": "stdout",
       "text": [
        "\n",
        "17500/48000 [=========>....................] - ETA: 0s - loss: 0.2017 - acc: 0.9336"
       ]
      },
      {
       "output_type": "stream",
       "stream": "stdout",
       "text": [
        "\n",
        "25000/48000 [==============>...............] - ETA: 0s - loss: 0.2005 - acc: 0.9338"
       ]
      },
      {
       "output_type": "stream",
       "stream": "stdout",
       "text": [
        "\n",
        "32500/48000 [===================>..........] - ETA: 0s - loss: 0.1989 - acc: 0.9340"
       ]
      },
      {
       "output_type": "stream",
       "stream": "stdout",
       "text": [
        "\n",
        "38500/48000 [=======================>......] - ETA: 0s - loss: 0.1981 - acc: 0.9340"
       ]
      },
      {
       "output_type": "stream",
       "stream": "stdout",
       "text": [
        "\n",
        "44000/48000 [==========================>...] - ETA: 0s - loss: 0.1981 - acc: 0.9341"
       ]
      },
      {
       "output_type": "stream",
       "stream": "stdout",
       "text": [
        "\n",
        "48000/48000 [==============================] - 0s 8us/step - loss: 0.1977 - acc: 0.9342 - val_loss: 0.1961 - val_acc: 0.9343\n"
       ]
      },
      {
       "output_type": "stream",
       "stream": "stdout",
       "text": [
        "Epoch 8/10\n",
        "\n",
        "  500/48000 [..............................] - ETA: 0s - loss: 0.2005 - acc: 0.9322"
       ]
      },
      {
       "output_type": "stream",
       "stream": "stdout",
       "text": [
        "\n",
        " 6500/48000 [===>..........................] - ETA: 0s - loss: 0.1912 - acc: 0.9352"
       ]
      },
      {
       "output_type": "stream",
       "stream": "stdout",
       "text": [
        "\n",
        "12500/48000 [======>.......................] - ETA: 0s - loss: 0.1918 - acc: 0.9352"
       ]
      },
      {
       "output_type": "stream",
       "stream": "stdout",
       "text": [
        "\n",
        "19000/48000 [==========>...................] - ETA: 0s - loss: 0.1912 - acc: 0.9353"
       ]
      },
      {
       "output_type": "stream",
       "stream": "stdout",
       "text": [
        "\n",
        "26000/48000 [===============>..............] - ETA: 0s - loss: 0.1905 - acc: 0.9358"
       ]
      },
      {
       "output_type": "stream",
       "stream": "stdout",
       "text": [
        "\n",
        "34000/48000 [====================>.........] - ETA: 0s - loss: 0.1911 - acc: 0.9358"
       ]
      },
      {
       "output_type": "stream",
       "stream": "stdout",
       "text": [
        "\n",
        "41000/48000 [========================>.....] - ETA: 0s - loss: 0.1903 - acc: 0.9359"
       ]
      },
      {
       "output_type": "stream",
       "stream": "stdout",
       "text": [
        "\n",
        "48000/48000 [==============================] - 0s 9us/step - loss: 0.1907 - acc: 0.9358 - val_loss: 0.1910 - val_acc: 0.9350\n"
       ]
      },
      {
       "output_type": "stream",
       "stream": "stdout",
       "text": [
        "Epoch 9/10\n",
        "\n",
        "  500/48000 [..............................] - ETA: 0s - loss: 0.1895 - acc: 0.9346"
       ]
      },
      {
       "output_type": "stream",
       "stream": "stdout",
       "text": [
        "\n",
        " 7500/48000 [===>..........................] - ETA: 0s - loss: 0.1919 - acc: 0.9356"
       ]
      },
      {
       "output_type": "stream",
       "stream": "stdout",
       "text": [
        "\n",
        "14500/48000 [========>.....................] - ETA: 0s - loss: 0.1897 - acc: 0.9358"
       ]
      },
      {
       "output_type": "stream",
       "stream": "stdout",
       "text": [
        "\n",
        "20500/48000 [===========>..................] - ETA: 0s - loss: 0.1882 - acc: 0.9362"
       ]
      },
      {
       "output_type": "stream",
       "stream": "stdout",
       "text": [
        "\n",
        "26000/48000 [===============>..............] - ETA: 0s - loss: 0.1880 - acc: 0.9365"
       ]
      },
      {
       "output_type": "stream",
       "stream": "stdout",
       "text": [
        "\n",
        "32000/48000 [===================>..........] - ETA: 0s - loss: 0.1865 - acc: 0.9370"
       ]
      },
      {
       "output_type": "stream",
       "stream": "stdout",
       "text": [
        "\n",
        "38500/48000 [=======================>......] - ETA: 0s - loss: 0.1861 - acc: 0.9372"
       ]
      },
      {
       "output_type": "stream",
       "stream": "stdout",
       "text": [
        "\n",
        "45000/48000 [===========================>..] - ETA: 0s - loss: 0.1852 - acc: 0.9375"
       ]
      },
      {
       "output_type": "stream",
       "stream": "stdout",
       "text": [
        "\n",
        "48000/48000 [==============================] - 0s 9us/step - loss: 0.1847 - acc: 0.9376 - val_loss: 0.1871 - val_acc: 0.9381\n"
       ]
      },
      {
       "output_type": "stream",
       "stream": "stdout",
       "text": [
        "Epoch 10/10\n",
        "\n",
        "  500/48000 [..............................] - ETA: 0s - loss: 0.1633 - acc: 0.9444"
       ]
      },
      {
       "output_type": "stream",
       "stream": "stdout",
       "text": [
        "\n",
        " 8500/48000 [====>.........................] - ETA: 0s - loss: 0.1787 - acc: 0.9402"
       ]
      },
      {
       "output_type": "stream",
       "stream": "stdout",
       "text": [
        "\n",
        "16500/48000 [=========>....................] - ETA: 0s - loss: 0.1806 - acc: 0.9400"
       ]
      },
      {
       "output_type": "stream",
       "stream": "stdout",
       "text": [
        "\n",
        "23500/48000 [=============>................] - ETA: 0s - loss: 0.1792 - acc: 0.9401"
       ]
      },
      {
       "output_type": "stream",
       "stream": "stdout",
       "text": [
        "\n",
        "30500/48000 [==================>...........] - ETA: 0s - loss: 0.1783 - acc: 0.9403"
       ]
      },
      {
       "output_type": "stream",
       "stream": "stdout",
       "text": [
        "\n",
        "37000/48000 [======================>.......] - ETA: 0s - loss: 0.1785 - acc: 0.9401"
       ]
      },
      {
       "output_type": "stream",
       "stream": "stdout",
       "text": [
        "\n",
        "43000/48000 [=========================>....] - ETA: 0s - loss: 0.1787 - acc: 0.9402"
       ]
      },
      {
       "output_type": "stream",
       "stream": "stdout",
       "text": [
        "\n",
        "48000/48000 [==============================] - 0s 9us/step - loss: 0.1784 - acc: 0.9403 - val_loss: 0.1825 - val_acc: 0.9398\n"
       ]
      }
     ],
     "prompt_number": 95
    },
    {
     "cell_type": "code",
     "collapsed": false,
     "input": [
      "evaluate_model(mlp_2,hist_mlp_2,x_test1,z_test,epochs2)"
     ],
     "language": "python",
     "metadata": {},
     "outputs": [
      {
       "output_type": "stream",
       "stream": "stdout",
       "text": [
        "('final loss & accuracy = ', [0.10024541226625443, 0.96869999980926513])\n"
       ]
      },
      {
       "metadata": {},
       "output_type": "display_data",
       "png": "[encoded data removed]",
       "text": [
        "<matplotlib.figure.Figure at 0x7f9e7d66c4d0>"
       ]
      }
     ],
     "prompt_number": 93
    },
    {
     "cell_type": "markdown",
     "metadata": {},
     "source": [
      "Conclusion: # todo"
     ]
    },
    {
     "cell_type": "heading",
     "level": 3,
     "metadata": {},
     "source": [
      "Part 3 - Convolutional neural networks"
     ]
    },
    {
     "cell_type": "heading",
     "level": 5,
     "metadata": {},
     "source": [
      "6) Define a simple Keras convolutional neural network (CNN) architecture using Sequential API and containing the following layers : 1 convolution layer using Conv2D and 32 filters, 1 max-polling layer using MaxPooling2D, 2 dense layers using ReLU and softmax activations respectively. Use this model to get classification results (use evaluate_model() as previously) and compared them to MLP results. "
     ]
    },
    {
     "cell_type": "code",
     "collapsed": true,
     "input": [
      "# to do"
     ],
     "language": "python",
     "metadata": {},
     "outputs": [],
     "prompt_number": null
    },
    {
     "cell_type": "code",
     "collapsed": true,
     "input": [
      "from keras.layers import Flatten\n",
      "from keras.layers import Conv2D, MaxPooling2D\n",
      "from keras import backend as K\n"
     ],
     "language": "python",
     "metadata": {},
     "outputs": [],
     "prompt_number": null
    },
    {
     "cell_type": "code",
     "collapsed": false,
     "input": [
      "cnn_1 = Sequential()\n",
      "# cnn_1.add(...)\n",
      "# cnn_1.compile(...)\n",
      "# cnn_1.summary()\n",
      "# hist_cnn_1 = cnn_1.fit(...)\n",
      "# evaluate_model(...)"
     ],
     "language": "python",
     "metadata": {},
     "outputs": [],
     "prompt_number": null
    },
    {
     "cell_type": "markdown",
     "metadata": {},
     "source": [
      "Comments: #todo"
     ]
    },
    {
     "cell_type": "heading",
     "level": 4,
     "metadata": {},
     "source": [
      "7) As for MLP, define a deeper CNN architecture to outperform the previously obtained classification results. What are your conclusions?"
     ]
    },
    {
     "cell_type": "code",
     "collapsed": false,
     "input": [
      "cnn_2 = Sequential()\n",
      "# cnn_2.add(...)\n",
      "# to do \n",
      "# evaluate_model(...)"
     ],
     "language": "python",
     "metadata": {},
     "outputs": [],
     "prompt_number": null
    },
    {
     "cell_type": "markdown",
     "metadata": {},
     "source": [
      "Comments: #todo"
     ]
    },
    {
     "cell_type": "heading",
     "level": 3,
     "metadata": {},
     "source": [
      "Part 4 - Visualize wrongly predictions"
     ]
    },
    {
     "cell_type": "heading",
     "level": 4,
     "metadata": {},
     "source": [
      "8) Create a function visualize_wrongly_predictions() able to show wrong prediction for each class for a given model as input. Use this function for each of the 4 previouly trained models (2 MLP, 2 CNN)."
     ]
    },
    {
     "cell_type": "code",
     "collapsed": false,
     "input": [
      "# def visualize_wrongly_predictions(model,...):\n",
      "    # to do"
     ],
     "language": "python",
     "metadata": {},
     "outputs": [],
     "prompt_number": null
    },
    {
     "cell_type": "code",
     "collapsed": false,
     "input": [
      "# visualize_wrongly_predictions(mlp_1,...)\n",
      "# visualize_wrongly_predictions(mlp_2,...)"
     ],
     "language": "python",
     "metadata": {},
     "outputs": [],
     "prompt_number": null
    },
    {
     "cell_type": "code",
     "collapsed": false,
     "input": [
      "# visualize_wrongly_predictions(cnn_1,...)\n",
      "# visualize_wrongly_predictions(cnn_2,...)"
     ],
     "language": "python",
     "metadata": {},
     "outputs": [],
     "prompt_number": null
    },
    {
     "cell_type": "markdown",
     "metadata": {},
     "source": [
      "Comments: #todo"
     ]
    },
    {
     "cell_type": "heading",
     "level": 4,
     "metadata": {},
     "source": [
      "9) Using the code given below, create a function visualize_confusion_matrix() able to display the confusion matrix  for a given model as input. Use this function for each of the 4 previouly trained models (2 MLP, 2 CNN). What is the most common confusion?"
     ]
    },
    {
     "cell_type": "code",
     "collapsed": true,
     "input": [
      "from sklearn.metrics import confusion_matrix\n",
      "import itertools\n",
      "\n",
      "def plot_confusion_matrix(cm, classes,\n",
      "                          normalize=False,\n",
      "                          title='Confusion matrix',\n",
      "                          cmap=plt.cm.Blues):\n",
      "    \"\"\"\n",
      "    This function prints and plots the confusion matrix.\n",
      "    Normalization can be applied by setting `normalize=True`.\n",
      "    \"\"\"\n",
      "    if normalize:\n",
      "        cm = cm.astype('float') / cm.sum(axis=1)[:, np.newaxis]\n",
      "        print(\"Normalized confusion matrix\")\n",
      "    else:\n",
      "        print('Confusion matrix, without normalization')\n",
      "\n",
      "    plt.imshow(cm, interpolation='nearest', cmap=cmap)\n",
      "    plt.title(title)\n",
      "    plt.colorbar()\n",
      "    tick_marks = np.arange(len(classes))\n",
      "    plt.xticks(tick_marks, classes, rotation=45)\n",
      "    plt.yticks(tick_marks, classes)\n",
      "\n",
      "    fmt = '.2f' if normalize else 'd'\n",
      "    thresh = cm.max() / 2.\n",
      "    for i, j in itertools.product(range(cm.shape[0]), range(cm.shape[1])):\n",
      "        plt.text(j, i, format(cm[i, j], fmt),\n",
      "                 horizontalalignment=\"center\",\n",
      "                 color=\"white\" if cm[i, j] > thresh else \"black\")\n",
      "\n",
      "    plt.tight_layout()\n",
      "    plt.ylabel('True label')\n",
      "    plt.xlabel('Predicted label')"
     ],
     "language": "python",
     "metadata": {},
     "outputs": [],
     "prompt_number": null
    },
    {
     "cell_type": "code",
     "collapsed": false,
     "input": [
      "# def visualize_confusion_matrix(model, ...):\n",
      "    # to do "
     ],
     "language": "python",
     "metadata": {},
     "outputs": [],
     "prompt_number": null
    },
    {
     "cell_type": "code",
     "collapsed": false,
     "input": [
      "# visualize_confusion_matrix(mlp_1, ...)\n",
      "# visualize_confusion_matrix(mlp_2, ...)"
     ],
     "language": "python",
     "metadata": {},
     "outputs": [],
     "prompt_number": null
    },
    {
     "cell_type": "code",
     "collapsed": false,
     "input": [
      "# visualize_confusion_matrix(cnn_1, ...)\n",
      "# visualize_confusion_matrix(cnn_2, ...)"
     ],
     "language": "python",
     "metadata": {},
     "outputs": [],
     "prompt_number": null
    },
    {
     "cell_type": "markdown",
     "metadata": {},
     "source": [
      "Most common confusion: #todo\n",
      "\n",
      "Conclusion:"
     ]
    },
    {
     "cell_type": "heading",
     "level": 3,
     "metadata": {},
     "source": [
      "Part 5 - Data augmentation"
     ]
    },
    {
     "cell_type": "heading",
     "level": 4,
     "metadata": {},
     "source": [
      "10) Based on the documentation (https://keras.io/preprocessing/image/), train one of your CNN architecture using data augmentation and conclude on the used of augmented data."
     ]
    },
    {
     "cell_type": "code",
     "collapsed": false,
     "input": [
      "from keras.preprocessing.image import ImageDataGenerator\n",
      "\n",
      "datagen = ImageDataGenerator(\n",
      "    rotation_range=8,\n",
      "    width_shift_range=0.08,\n",
      "    height_shift_range=0.08,\n",
      "    shear_range=0.3, \n",
      "    zoom_range=0.08)\n",
      "\n",
      "# to do"
     ],
     "language": "python",
     "metadata": {},
     "outputs": [],
     "prompt_number": null
    },
    {
     "cell_type": "markdown",
     "metadata": {},
     "source": [
      "Comments: #todo"
     ]
    },
    {
     "cell_type": "heading",
     "level": 3,
     "metadata": {},
     "source": [
      "Part 6 - Transfer learning from VGG16 trained on ImageNet"
     ]
    },
    {
     "cell_type": "markdown",
     "metadata": {},
     "source": [
      "Transfer learning, is a research problem in machine learning that focuses on storing knowledge gained while solving one problem and applying it to a different but related problem.\n",
      "\n",
      "In this part, you will do fine tuning on a pre-trained network. Fine-tuning consists in starting from a trained network, then re-training it on a new dataset using very small weight updates. To do so, you need to load a pre-trained model, add a dense classifier to compute the output, and then to freeze the weights of the pre-trained model (https://blog.keras.io/building-powerful-image-classification-models-using-very-little-data.html).   "
     ]
    },
    {
     "cell_type": "heading",
     "level": 4,
     "metadata": {},
     "source": [
      "11) Exploit an architecture already trained on ImageNet (https://keras.io/applications) to improve the classification results on Fashion-MNIST."
     ]
    },
    {
     "cell_type": "code",
     "collapsed": false,
     "input": [
      "from keras import applications\n",
      "from skimage.transform import resize\n",
      "\n",
      "# to do"
     ],
     "language": "python",
     "metadata": {},
     "outputs": [],
     "prompt_number": null
    },
    {
     "cell_type": "code",
     "collapsed": false,
     "input": [
      "# to do"
     ],
     "language": "python",
     "metadata": {},
     "outputs": [],
     "prompt_number": null
    },
    {
     "cell_type": "markdown",
     "metadata": {},
     "source": [
      "Conclusion: #todo"
     ]
    },
    {
     "cell_type": "heading",
     "level": 4,
     "metadata": {},
     "source": [
      "12) Challenge: the first 3 teams in terms of overall test accuracy results (whatever the methodology used) will obtain bonus points!"
     ]
    },
    {
     "cell_type": "markdown",
     "metadata": {},
     "source": [
      "Best accuracy reached: #todo"
     ]
    },
    {
     "cell_type": "markdown",
     "metadata": {},
     "source": [
      "Conclusions: #todo"
     ]
    }
   ],
   "metadata": {}
  }
 ]
}